{
 "cells": [
  {
   "cell_type": "code",
   "execution_count": 41,
   "source": [
    "import pandas as pd\r\n",
    "import numpy as np\r\n",
    "import plotly.graph_objs as go\r\n",
    "import plotly.express as px\r\n",
    "import plotly.io as pio\r\n",
    "import statistics"
   ],
   "outputs": [],
   "metadata": {}
  },
  {
   "cell_type": "markdown",
   "source": [
    "## Proprocessing tabular data from INEGI"
   ],
   "metadata": {}
  },
  {
   "cell_type": "code",
   "execution_count": 42,
   "source": [
    "df = pd.read_excel('Mortalidad_07.xlsx', skiprows=3) # numero de suicidios de 2010 a 2020 de inegi\r\n",
    "censo_2020 = pd.read_csv('inegi_2020_censo.csv') # poblacion total en 2020 del censo de poblacion y vivienda 2020 inegi"
   ],
   "outputs": [],
   "metadata": {}
  },
  {
   "cell_type": "code",
   "execution_count": 43,
   "source": [
    "censo_2020=censo_2020.dropna().reset_index(drop=True)\r\n",
    "censo_2020 = censo_2020.rename(columns={' ':'Entidad'})\r\n",
    "censo_2020.head()"
   ],
   "outputs": [
    {
     "output_type": "execute_result",
     "data": {
      "text/html": [
       "<div>\n",
       "<style scoped>\n",
       "    .dataframe tbody tr th:only-of-type {\n",
       "        vertical-align: middle;\n",
       "    }\n",
       "\n",
       "    .dataframe tbody tr th {\n",
       "        vertical-align: top;\n",
       "    }\n",
       "\n",
       "    .dataframe thead th {\n",
       "        text-align: right;\n",
       "    }\n",
       "</style>\n",
       "<table border=\"1\" class=\"dataframe\">\n",
       "  <thead>\n",
       "    <tr style=\"text-align: right;\">\n",
       "      <th></th>\n",
       "      <th>Entidad</th>\n",
       "      <th>Total</th>\n",
       "      <th>Hombres</th>\n",
       "      <th>Mujeres</th>\n",
       "    </tr>\n",
       "  </thead>\n",
       "  <tbody>\n",
       "    <tr>\n",
       "      <th>0</th>\n",
       "      <td>Aguascalientes</td>\n",
       "      <td>1,425,607</td>\n",
       "      <td>696,683</td>\n",
       "      <td>728,924</td>\n",
       "    </tr>\n",
       "    <tr>\n",
       "      <th>1</th>\n",
       "      <td>Baja California</td>\n",
       "      <td>3,769,020</td>\n",
       "      <td>1,900,589</td>\n",
       "      <td>1,868,431</td>\n",
       "    </tr>\n",
       "    <tr>\n",
       "      <th>2</th>\n",
       "      <td>Baja California Sur</td>\n",
       "      <td>798,447</td>\n",
       "      <td>405,879</td>\n",
       "      <td>392,568</td>\n",
       "    </tr>\n",
       "    <tr>\n",
       "      <th>3</th>\n",
       "      <td>Campeche</td>\n",
       "      <td>928,363</td>\n",
       "      <td>456,939</td>\n",
       "      <td>471,424</td>\n",
       "    </tr>\n",
       "    <tr>\n",
       "      <th>4</th>\n",
       "      <td>Coahuila de Zaragoza</td>\n",
       "      <td>3,146,771</td>\n",
       "      <td>1,563,669</td>\n",
       "      <td>1,583,102</td>\n",
       "    </tr>\n",
       "  </tbody>\n",
       "</table>\n",
       "</div>"
      ],
      "text/plain": [
       "                 Entidad      Total    Hombres    Mujeres\n",
       "0         Aguascalientes  1,425,607    696,683    728,924\n",
       "1        Baja California  3,769,020  1,900,589  1,868,431\n",
       "2    Baja California Sur    798,447    405,879    392,568\n",
       "3               Campeche    928,363    456,939    471,424\n",
       "4   Coahuila de Zaragoza  3,146,771  1,563,669  1,583,102"
      ]
     },
     "metadata": {},
     "execution_count": 43
    }
   ],
   "metadata": {}
  },
  {
   "cell_type": "code",
   "execution_count": 44,
   "source": [
    "df.drop(df.tail(11).index,inplace=True)"
   ],
   "outputs": [],
   "metadata": {}
  },
  {
   "cell_type": "code",
   "execution_count": 45,
   "source": [
    "for col in df.columns[1:]:\r\n",
    "    if len(col)==4:\r\n",
    "        df = df.rename(columns={col:col + '_' + df.loc[0,col]})\r\n",
    "    elif (col[5:]=='1' or col[5:]=='2'):\r\n",
    "        df = df.rename(columns={col:col[:4] + '_' + df.loc[0,col]})"
   ],
   "outputs": [],
   "metadata": {}
  },
  {
   "cell_type": "code",
   "execution_count": 46,
   "source": [
    "df.drop(df.head(2).index, inplace=True)\r\n",
    "df.drop(df.tail(2).index, inplace=True)"
   ],
   "outputs": [],
   "metadata": {}
  },
  {
   "cell_type": "code",
   "execution_count": 47,
   "source": [
    "df.reset_index(drop=True,inplace=True)"
   ],
   "outputs": [],
   "metadata": {}
  },
  {
   "cell_type": "code",
   "execution_count": 48,
   "source": [
    "df = df.rename(columns={'Entidad federativa de residencia habitual de la persona fallecida':'Entidad'})"
   ],
   "outputs": [],
   "metadata": {}
  },
  {
   "cell_type": "code",
   "execution_count": 49,
   "source": [
    "totales = [col for col in df.columns if ('Total' in col or col=='Entidad')]\r\n",
    "mujeres = [col for col in df.columns if ('Mujeres' in col or col=='Entidad')]\r\n",
    "hombres = [col for col in df.columns if ('Hombres' in col or col=='Entidad')]"
   ],
   "outputs": [],
   "metadata": {}
  },
  {
   "cell_type": "code",
   "execution_count": 50,
   "source": [
    "for col in df.columns[1:]:\r\n",
    "    df[col]=df[col] = pd.to_numeric(df[col])"
   ],
   "outputs": [],
   "metadata": {}
  },
  {
   "cell_type": "code",
   "execution_count": 51,
   "source": [
    "df.head()"
   ],
   "outputs": [
    {
     "output_type": "execute_result",
     "data": {
      "text/html": [
       "<div>\n",
       "<style scoped>\n",
       "    .dataframe tbody tr th:only-of-type {\n",
       "        vertical-align: middle;\n",
       "    }\n",
       "\n",
       "    .dataframe tbody tr th {\n",
       "        vertical-align: top;\n",
       "    }\n",
       "\n",
       "    .dataframe thead th {\n",
       "        text-align: right;\n",
       "    }\n",
       "</style>\n",
       "<table border=\"1\" class=\"dataframe\">\n",
       "  <thead>\n",
       "    <tr style=\"text-align: right;\">\n",
       "      <th></th>\n",
       "      <th>Entidad</th>\n",
       "      <th>2010_Total</th>\n",
       "      <th>2010_Hombres</th>\n",
       "      <th>2010_Mujeres</th>\n",
       "      <th>2011_Total</th>\n",
       "      <th>2011_Hombres</th>\n",
       "      <th>2011_Mujeres</th>\n",
       "      <th>2012_Total</th>\n",
       "      <th>2012_Hombres</th>\n",
       "      <th>2012_Mujeres</th>\n",
       "      <th>...</th>\n",
       "      <th>2017_Mujeres</th>\n",
       "      <th>2018_Total</th>\n",
       "      <th>2018_Hombres</th>\n",
       "      <th>2018_Mujeres</th>\n",
       "      <th>2019_Total</th>\n",
       "      <th>2019_Hombres</th>\n",
       "      <th>2019_Mujeres</th>\n",
       "      <th>2020_Total</th>\n",
       "      <th>2020_Hombres</th>\n",
       "      <th>2020_Mujeres</th>\n",
       "    </tr>\n",
       "  </thead>\n",
       "  <tbody>\n",
       "    <tr>\n",
       "      <th>0</th>\n",
       "      <td>Aguascalientes</td>\n",
       "      <td>50</td>\n",
       "      <td>41</td>\n",
       "      <td>9</td>\n",
       "      <td>98</td>\n",
       "      <td>81</td>\n",
       "      <td>17</td>\n",
       "      <td>116</td>\n",
       "      <td>95</td>\n",
       "      <td>21</td>\n",
       "      <td>...</td>\n",
       "      <td>25</td>\n",
       "      <td>140</td>\n",
       "      <td>114</td>\n",
       "      <td>26</td>\n",
       "      <td>157</td>\n",
       "      <td>129</td>\n",
       "      <td>28</td>\n",
       "      <td>181</td>\n",
       "      <td>157</td>\n",
       "      <td>24</td>\n",
       "    </tr>\n",
       "    <tr>\n",
       "      <th>1</th>\n",
       "      <td>Baja California</td>\n",
       "      <td>107</td>\n",
       "      <td>91</td>\n",
       "      <td>16</td>\n",
       "      <td>149</td>\n",
       "      <td>132</td>\n",
       "      <td>16</td>\n",
       "      <td>113</td>\n",
       "      <td>97</td>\n",
       "      <td>16</td>\n",
       "      <td>...</td>\n",
       "      <td>19</td>\n",
       "      <td>194</td>\n",
       "      <td>164</td>\n",
       "      <td>30</td>\n",
       "      <td>169</td>\n",
       "      <td>143</td>\n",
       "      <td>26</td>\n",
       "      <td>97</td>\n",
       "      <td>87</td>\n",
       "      <td>10</td>\n",
       "    </tr>\n",
       "    <tr>\n",
       "      <th>2</th>\n",
       "      <td>Baja California Sur</td>\n",
       "      <td>45</td>\n",
       "      <td>43</td>\n",
       "      <td>2</td>\n",
       "      <td>30</td>\n",
       "      <td>24</td>\n",
       "      <td>6</td>\n",
       "      <td>44</td>\n",
       "      <td>35</td>\n",
       "      <td>9</td>\n",
       "      <td>...</td>\n",
       "      <td>5</td>\n",
       "      <td>57</td>\n",
       "      <td>48</td>\n",
       "      <td>9</td>\n",
       "      <td>59</td>\n",
       "      <td>56</td>\n",
       "      <td>3</td>\n",
       "      <td>67</td>\n",
       "      <td>59</td>\n",
       "      <td>8</td>\n",
       "    </tr>\n",
       "    <tr>\n",
       "      <th>3</th>\n",
       "      <td>Campeche</td>\n",
       "      <td>62</td>\n",
       "      <td>53</td>\n",
       "      <td>9</td>\n",
       "      <td>81</td>\n",
       "      <td>71</td>\n",
       "      <td>10</td>\n",
       "      <td>63</td>\n",
       "      <td>48</td>\n",
       "      <td>15</td>\n",
       "      <td>...</td>\n",
       "      <td>11</td>\n",
       "      <td>69</td>\n",
       "      <td>58</td>\n",
       "      <td>11</td>\n",
       "      <td>95</td>\n",
       "      <td>85</td>\n",
       "      <td>10</td>\n",
       "      <td>70</td>\n",
       "      <td>48</td>\n",
       "      <td>22</td>\n",
       "    </tr>\n",
       "    <tr>\n",
       "      <th>4</th>\n",
       "      <td>Coahuila de Zaragoza</td>\n",
       "      <td>169</td>\n",
       "      <td>147</td>\n",
       "      <td>22</td>\n",
       "      <td>169</td>\n",
       "      <td>143</td>\n",
       "      <td>26</td>\n",
       "      <td>150</td>\n",
       "      <td>130</td>\n",
       "      <td>20</td>\n",
       "      <td>...</td>\n",
       "      <td>36</td>\n",
       "      <td>216</td>\n",
       "      <td>176</td>\n",
       "      <td>40</td>\n",
       "      <td>261</td>\n",
       "      <td>215</td>\n",
       "      <td>46</td>\n",
       "      <td>273</td>\n",
       "      <td>235</td>\n",
       "      <td>38</td>\n",
       "    </tr>\n",
       "  </tbody>\n",
       "</table>\n",
       "<p>5 rows × 34 columns</p>\n",
       "</div>"
      ],
      "text/plain": [
       "                Entidad  2010_Total  2010_Hombres  2010_Mujeres  2011_Total  \\\n",
       "0        Aguascalientes          50            41             9          98   \n",
       "1       Baja California         107            91            16         149   \n",
       "2   Baja California Sur          45            43             2          30   \n",
       "3              Campeche          62            53             9          81   \n",
       "4  Coahuila de Zaragoza         169           147            22         169   \n",
       "\n",
       "   2011_Hombres  2011_Mujeres  2012_Total  2012_Hombres  2012_Mujeres  ...  \\\n",
       "0            81            17         116            95            21  ...   \n",
       "1           132            16         113            97            16  ...   \n",
       "2            24             6          44            35             9  ...   \n",
       "3            71            10          63            48            15  ...   \n",
       "4           143            26         150           130            20  ...   \n",
       "\n",
       "   2017_Mujeres  2018_Total  2018_Hombres  2018_Mujeres  2019_Total  \\\n",
       "0            25         140           114            26         157   \n",
       "1            19         194           164            30         169   \n",
       "2             5          57            48             9          59   \n",
       "3            11          69            58            11          95   \n",
       "4            36         216           176            40         261   \n",
       "\n",
       "   2019_Hombres  2019_Mujeres  2020_Total  2020_Hombres  2020_Mujeres  \n",
       "0           129            28         181           157            24  \n",
       "1           143            26          97            87            10  \n",
       "2            56             3          67            59             8  \n",
       "3            85            10          70            48            22  \n",
       "4           215            46         273           235            38  \n",
       "\n",
       "[5 rows x 34 columns]"
      ]
     },
     "metadata": {},
     "execution_count": 51
    }
   ],
   "metadata": {}
  },
  {
   "cell_type": "code",
   "execution_count": 52,
   "source": [
    "df=df.merge(censo_2020, left_on=df.index, right_on=censo_2020.index, how='left')\r\n",
    "df = df.drop(['key_0','Entidad_y'], 1)\r\n",
    "df = df.rename(columns={'Entidad_x':'Entidad', ' Total':'Total', ' Hombres':'Hombres', ' Mujeres':'Mujeres'})\r\n",
    "for col in df.columns[34:]:\r\n",
    "    df[col]=df[col].apply(lambda x: x.replace(',', ''))\r\n",
    "df[[ 'Total','Hombres','Mujeres']]=df[[ 'Total','Hombres','Mujeres']].astype(int)"
   ],
   "outputs": [],
   "metadata": {}
  },
  {
   "cell_type": "code",
   "execution_count": 53,
   "source": [
    "df['Tasa_2020'] = round(df['2020_Total']/df['Total']*100000,0)\r\n",
    "df['Tasa_H_2020'] = round(df['2020_Hombres']/df['Hombres']*100000,0)\r\n",
    "df['Tasa_M_2020'] = round(df['2020_Mujeres']/df['Mujeres']*100000,0)\r\n",
    "df[['Entidad','Tasa_2020','Tasa_H_2020','Tasa_M_2020']].head()"
   ],
   "outputs": [
    {
     "output_type": "execute_result",
     "data": {
      "text/html": [
       "<div>\n",
       "<style scoped>\n",
       "    .dataframe tbody tr th:only-of-type {\n",
       "        vertical-align: middle;\n",
       "    }\n",
       "\n",
       "    .dataframe tbody tr th {\n",
       "        vertical-align: top;\n",
       "    }\n",
       "\n",
       "    .dataframe thead th {\n",
       "        text-align: right;\n",
       "    }\n",
       "</style>\n",
       "<table border=\"1\" class=\"dataframe\">\n",
       "  <thead>\n",
       "    <tr style=\"text-align: right;\">\n",
       "      <th></th>\n",
       "      <th>Entidad</th>\n",
       "      <th>Tasa_2020</th>\n",
       "      <th>Tasa_H_2020</th>\n",
       "      <th>Tasa_M_2020</th>\n",
       "    </tr>\n",
       "  </thead>\n",
       "  <tbody>\n",
       "    <tr>\n",
       "      <th>0</th>\n",
       "      <td>Aguascalientes</td>\n",
       "      <td>13.0</td>\n",
       "      <td>23.0</td>\n",
       "      <td>3.0</td>\n",
       "    </tr>\n",
       "    <tr>\n",
       "      <th>1</th>\n",
       "      <td>Baja California</td>\n",
       "      <td>3.0</td>\n",
       "      <td>5.0</td>\n",
       "      <td>1.0</td>\n",
       "    </tr>\n",
       "    <tr>\n",
       "      <th>2</th>\n",
       "      <td>Baja California Sur</td>\n",
       "      <td>8.0</td>\n",
       "      <td>15.0</td>\n",
       "      <td>2.0</td>\n",
       "    </tr>\n",
       "    <tr>\n",
       "      <th>3</th>\n",
       "      <td>Campeche</td>\n",
       "      <td>8.0</td>\n",
       "      <td>11.0</td>\n",
       "      <td>5.0</td>\n",
       "    </tr>\n",
       "    <tr>\n",
       "      <th>4</th>\n",
       "      <td>Coahuila de Zaragoza</td>\n",
       "      <td>9.0</td>\n",
       "      <td>15.0</td>\n",
       "      <td>2.0</td>\n",
       "    </tr>\n",
       "  </tbody>\n",
       "</table>\n",
       "</div>"
      ],
      "text/plain": [
       "                Entidad  Tasa_2020  Tasa_H_2020  Tasa_M_2020\n",
       "0        Aguascalientes       13.0         23.0          3.0\n",
       "1       Baja California        3.0          5.0          1.0\n",
       "2   Baja California Sur        8.0         15.0          2.0\n",
       "3              Campeche        8.0         11.0          5.0\n",
       "4  Coahuila de Zaragoza        9.0         15.0          2.0"
      ]
     },
     "metadata": {},
     "execution_count": 53
    }
   ],
   "metadata": {}
  },
  {
   "cell_type": "markdown",
   "source": [
    "## Cuantitative Analysis"
   ],
   "metadata": {}
  },
  {
   "cell_type": "markdown",
   "source": [
    "## Datos anuales"
   ],
   "metadata": {}
  },
  {
   "cell_type": "code",
   "execution_count": 54,
   "source": [
    "df[totales].describe() # Positive skew"
   ],
   "outputs": [
    {
     "output_type": "execute_result",
     "data": {
      "text/html": [
       "<div>\n",
       "<style scoped>\n",
       "    .dataframe tbody tr th:only-of-type {\n",
       "        vertical-align: middle;\n",
       "    }\n",
       "\n",
       "    .dataframe tbody tr th {\n",
       "        vertical-align: top;\n",
       "    }\n",
       "\n",
       "    .dataframe thead th {\n",
       "        text-align: right;\n",
       "    }\n",
       "</style>\n",
       "<table border=\"1\" class=\"dataframe\">\n",
       "  <thead>\n",
       "    <tr style=\"text-align: right;\">\n",
       "      <th></th>\n",
       "      <th>2010_Total</th>\n",
       "      <th>2011_Total</th>\n",
       "      <th>2012_Total</th>\n",
       "      <th>2013_Total</th>\n",
       "      <th>2014_Total</th>\n",
       "      <th>2015_Total</th>\n",
       "      <th>2016_Total</th>\n",
       "      <th>2017_Total</th>\n",
       "      <th>2018_Total</th>\n",
       "      <th>2019_Total</th>\n",
       "      <th>2020_Total</th>\n",
       "    </tr>\n",
       "  </thead>\n",
       "  <tbody>\n",
       "    <tr>\n",
       "      <th>count</th>\n",
       "      <td>32.000000</td>\n",
       "      <td>32.000000</td>\n",
       "      <td>32.000000</td>\n",
       "      <td>32.000000</td>\n",
       "      <td>32.00000</td>\n",
       "      <td>32.00000</td>\n",
       "      <td>32.00000</td>\n",
       "      <td>32.00000</td>\n",
       "      <td>32.000000</td>\n",
       "      <td>32.000000</td>\n",
       "      <td>32.000000</td>\n",
       "    </tr>\n",
       "    <tr>\n",
       "      <th>mean</th>\n",
       "      <td>156.437500</td>\n",
       "      <td>178.500000</td>\n",
       "      <td>173.062500</td>\n",
       "      <td>184.031250</td>\n",
       "      <td>197.40625</td>\n",
       "      <td>200.31250</td>\n",
       "      <td>198.37500</td>\n",
       "      <td>202.15625</td>\n",
       "      <td>202.187500</td>\n",
       "      <td>219.750000</td>\n",
       "      <td>241.500000</td>\n",
       "    </tr>\n",
       "    <tr>\n",
       "      <th>std</th>\n",
       "      <td>117.847889</td>\n",
       "      <td>130.903313</td>\n",
       "      <td>133.940029</td>\n",
       "      <td>136.213894</td>\n",
       "      <td>147.14177</td>\n",
       "      <td>148.84186</td>\n",
       "      <td>145.05544</td>\n",
       "      <td>149.46876</td>\n",
       "      <td>147.485688</td>\n",
       "      <td>157.212821</td>\n",
       "      <td>187.482816</td>\n",
       "    </tr>\n",
       "    <tr>\n",
       "      <th>min</th>\n",
       "      <td>31.000000</td>\n",
       "      <td>30.000000</td>\n",
       "      <td>44.000000</td>\n",
       "      <td>40.000000</td>\n",
       "      <td>42.00000</td>\n",
       "      <td>44.00000</td>\n",
       "      <td>52.00000</td>\n",
       "      <td>46.00000</td>\n",
       "      <td>51.000000</td>\n",
       "      <td>39.000000</td>\n",
       "      <td>50.000000</td>\n",
       "    </tr>\n",
       "    <tr>\n",
       "      <th>25%</th>\n",
       "      <td>60.500000</td>\n",
       "      <td>89.000000</td>\n",
       "      <td>86.500000</td>\n",
       "      <td>100.500000</td>\n",
       "      <td>89.25000</td>\n",
       "      <td>108.25000</td>\n",
       "      <td>98.25000</td>\n",
       "      <td>108.75000</td>\n",
       "      <td>106.500000</td>\n",
       "      <td>117.000000</td>\n",
       "      <td>110.500000</td>\n",
       "    </tr>\n",
       "    <tr>\n",
       "      <th>50%</th>\n",
       "      <td>131.500000</td>\n",
       "      <td>149.000000</td>\n",
       "      <td>145.500000</td>\n",
       "      <td>139.500000</td>\n",
       "      <td>168.50000</td>\n",
       "      <td>153.00000</td>\n",
       "      <td>162.00000</td>\n",
       "      <td>162.00000</td>\n",
       "      <td>144.500000</td>\n",
       "      <td>171.500000</td>\n",
       "      <td>190.500000</td>\n",
       "    </tr>\n",
       "    <tr>\n",
       "      <th>75%</th>\n",
       "      <td>205.250000</td>\n",
       "      <td>221.000000</td>\n",
       "      <td>195.750000</td>\n",
       "      <td>241.250000</td>\n",
       "      <td>246.25000</td>\n",
       "      <td>252.25000</td>\n",
       "      <td>224.50000</td>\n",
       "      <td>262.50000</td>\n",
       "      <td>247.000000</td>\n",
       "      <td>263.500000</td>\n",
       "      <td>312.000000</td>\n",
       "    </tr>\n",
       "    <tr>\n",
       "      <th>max</th>\n",
       "      <td>537.000000</td>\n",
       "      <td>600.000000</td>\n",
       "      <td>598.000000</td>\n",
       "      <td>620.000000</td>\n",
       "      <td>670.00000</td>\n",
       "      <td>667.00000</td>\n",
       "      <td>597.00000</td>\n",
       "      <td>658.00000</td>\n",
       "      <td>630.000000</td>\n",
       "      <td>715.000000</td>\n",
       "      <td>832.000000</td>\n",
       "    </tr>\n",
       "  </tbody>\n",
       "</table>\n",
       "</div>"
      ],
      "text/plain": [
       "       2010_Total  2011_Total  2012_Total  2013_Total  2014_Total  2015_Total  \\\n",
       "count   32.000000   32.000000   32.000000   32.000000    32.00000    32.00000   \n",
       "mean   156.437500  178.500000  173.062500  184.031250   197.40625   200.31250   \n",
       "std    117.847889  130.903313  133.940029  136.213894   147.14177   148.84186   \n",
       "min     31.000000   30.000000   44.000000   40.000000    42.00000    44.00000   \n",
       "25%     60.500000   89.000000   86.500000  100.500000    89.25000   108.25000   \n",
       "50%    131.500000  149.000000  145.500000  139.500000   168.50000   153.00000   \n",
       "75%    205.250000  221.000000  195.750000  241.250000   246.25000   252.25000   \n",
       "max    537.000000  600.000000  598.000000  620.000000   670.00000   667.00000   \n",
       "\n",
       "       2016_Total  2017_Total  2018_Total  2019_Total  2020_Total  \n",
       "count    32.00000    32.00000   32.000000   32.000000   32.000000  \n",
       "mean    198.37500   202.15625  202.187500  219.750000  241.500000  \n",
       "std     145.05544   149.46876  147.485688  157.212821  187.482816  \n",
       "min      52.00000    46.00000   51.000000   39.000000   50.000000  \n",
       "25%      98.25000   108.75000  106.500000  117.000000  110.500000  \n",
       "50%     162.00000   162.00000  144.500000  171.500000  190.500000  \n",
       "75%     224.50000   262.50000  247.000000  263.500000  312.000000  \n",
       "max     597.00000   658.00000  630.000000  715.000000  832.000000  "
      ]
     },
     "metadata": {},
     "execution_count": 54
    }
   ],
   "metadata": {}
  },
  {
   "cell_type": "code",
   "execution_count": 55,
   "source": [
    "df[mujeres].describe() # Positive skew"
   ],
   "outputs": [
    {
     "output_type": "execute_result",
     "data": {
      "text/html": [
       "<div>\n",
       "<style scoped>\n",
       "    .dataframe tbody tr th:only-of-type {\n",
       "        vertical-align: middle;\n",
       "    }\n",
       "\n",
       "    .dataframe tbody tr th {\n",
       "        vertical-align: top;\n",
       "    }\n",
       "\n",
       "    .dataframe thead th {\n",
       "        text-align: right;\n",
       "    }\n",
       "</style>\n",
       "<table border=\"1\" class=\"dataframe\">\n",
       "  <thead>\n",
       "    <tr style=\"text-align: right;\">\n",
       "      <th></th>\n",
       "      <th>2010_Mujeres</th>\n",
       "      <th>2011_Mujeres</th>\n",
       "      <th>2012_Mujeres</th>\n",
       "      <th>2013_Mujeres</th>\n",
       "      <th>2014_Mujeres</th>\n",
       "      <th>2015_Mujeres</th>\n",
       "      <th>2016_Mujeres</th>\n",
       "      <th>2017_Mujeres</th>\n",
       "      <th>2018_Mujeres</th>\n",
       "      <th>2019_Mujeres</th>\n",
       "      <th>2020_Mujeres</th>\n",
       "    </tr>\n",
       "  </thead>\n",
       "  <tbody>\n",
       "    <tr>\n",
       "      <th>count</th>\n",
       "      <td>32.000000</td>\n",
       "      <td>32.00000</td>\n",
       "      <td>32.00000</td>\n",
       "      <td>32.000000</td>\n",
       "      <td>32.000000</td>\n",
       "      <td>32.000000</td>\n",
       "      <td>32.000000</td>\n",
       "      <td>32.000000</td>\n",
       "      <td>32.000000</td>\n",
       "      <td>32.000000</td>\n",
       "      <td>32.000000</td>\n",
       "    </tr>\n",
       "    <tr>\n",
       "      <th>mean</th>\n",
       "      <td>28.750000</td>\n",
       "      <td>34.15625</td>\n",
       "      <td>33.59375</td>\n",
       "      <td>33.593750</td>\n",
       "      <td>39.218750</td>\n",
       "      <td>39.937500</td>\n",
       "      <td>36.968750</td>\n",
       "      <td>38.375000</td>\n",
       "      <td>38.062500</td>\n",
       "      <td>40.218750</td>\n",
       "      <td>44.250000</td>\n",
       "    </tr>\n",
       "    <tr>\n",
       "      <th>std</th>\n",
       "      <td>27.514219</td>\n",
       "      <td>30.41552</td>\n",
       "      <td>30.48094</td>\n",
       "      <td>28.971465</td>\n",
       "      <td>33.412123</td>\n",
       "      <td>34.262683</td>\n",
       "      <td>30.838272</td>\n",
       "      <td>33.967489</td>\n",
       "      <td>32.948579</td>\n",
       "      <td>33.356079</td>\n",
       "      <td>37.435536</td>\n",
       "    </tr>\n",
       "    <tr>\n",
       "      <th>min</th>\n",
       "      <td>2.000000</td>\n",
       "      <td>4.00000</td>\n",
       "      <td>2.00000</td>\n",
       "      <td>7.000000</td>\n",
       "      <td>4.000000</td>\n",
       "      <td>2.000000</td>\n",
       "      <td>6.000000</td>\n",
       "      <td>4.000000</td>\n",
       "      <td>7.000000</td>\n",
       "      <td>3.000000</td>\n",
       "      <td>8.000000</td>\n",
       "    </tr>\n",
       "    <tr>\n",
       "      <th>25%</th>\n",
       "      <td>9.000000</td>\n",
       "      <td>15.25000</td>\n",
       "      <td>15.75000</td>\n",
       "      <td>16.000000</td>\n",
       "      <td>20.250000</td>\n",
       "      <td>19.250000</td>\n",
       "      <td>20.000000</td>\n",
       "      <td>18.750000</td>\n",
       "      <td>19.000000</td>\n",
       "      <td>21.750000</td>\n",
       "      <td>18.750000</td>\n",
       "    </tr>\n",
       "    <tr>\n",
       "      <th>50%</th>\n",
       "      <td>21.500000</td>\n",
       "      <td>26.50000</td>\n",
       "      <td>25.50000</td>\n",
       "      <td>23.000000</td>\n",
       "      <td>29.000000</td>\n",
       "      <td>30.000000</td>\n",
       "      <td>26.500000</td>\n",
       "      <td>24.000000</td>\n",
       "      <td>26.000000</td>\n",
       "      <td>27.500000</td>\n",
       "      <td>34.000000</td>\n",
       "    </tr>\n",
       "    <tr>\n",
       "      <th>75%</th>\n",
       "      <td>33.000000</td>\n",
       "      <td>38.00000</td>\n",
       "      <td>43.50000</td>\n",
       "      <td>38.500000</td>\n",
       "      <td>46.250000</td>\n",
       "      <td>48.250000</td>\n",
       "      <td>39.250000</td>\n",
       "      <td>45.250000</td>\n",
       "      <td>42.500000</td>\n",
       "      <td>47.500000</td>\n",
       "      <td>56.000000</td>\n",
       "    </tr>\n",
       "    <tr>\n",
       "      <th>max</th>\n",
       "      <td>132.000000</td>\n",
       "      <td>140.00000</td>\n",
       "      <td>142.00000</td>\n",
       "      <td>143.000000</td>\n",
       "      <td>163.000000</td>\n",
       "      <td>160.000000</td>\n",
       "      <td>129.000000</td>\n",
       "      <td>142.000000</td>\n",
       "      <td>142.000000</td>\n",
       "      <td>162.000000</td>\n",
       "      <td>184.000000</td>\n",
       "    </tr>\n",
       "  </tbody>\n",
       "</table>\n",
       "</div>"
      ],
      "text/plain": [
       "       2010_Mujeres  2011_Mujeres  2012_Mujeres  2013_Mujeres  2014_Mujeres  \\\n",
       "count     32.000000      32.00000      32.00000     32.000000     32.000000   \n",
       "mean      28.750000      34.15625      33.59375     33.593750     39.218750   \n",
       "std       27.514219      30.41552      30.48094     28.971465     33.412123   \n",
       "min        2.000000       4.00000       2.00000      7.000000      4.000000   \n",
       "25%        9.000000      15.25000      15.75000     16.000000     20.250000   \n",
       "50%       21.500000      26.50000      25.50000     23.000000     29.000000   \n",
       "75%       33.000000      38.00000      43.50000     38.500000     46.250000   \n",
       "max      132.000000     140.00000     142.00000    143.000000    163.000000   \n",
       "\n",
       "       2015_Mujeres  2016_Mujeres  2017_Mujeres  2018_Mujeres  2019_Mujeres  \\\n",
       "count     32.000000     32.000000     32.000000     32.000000     32.000000   \n",
       "mean      39.937500     36.968750     38.375000     38.062500     40.218750   \n",
       "std       34.262683     30.838272     33.967489     32.948579     33.356079   \n",
       "min        2.000000      6.000000      4.000000      7.000000      3.000000   \n",
       "25%       19.250000     20.000000     18.750000     19.000000     21.750000   \n",
       "50%       30.000000     26.500000     24.000000     26.000000     27.500000   \n",
       "75%       48.250000     39.250000     45.250000     42.500000     47.500000   \n",
       "max      160.000000    129.000000    142.000000    142.000000    162.000000   \n",
       "\n",
       "       2020_Mujeres  \n",
       "count     32.000000  \n",
       "mean      44.250000  \n",
       "std       37.435536  \n",
       "min        8.000000  \n",
       "25%       18.750000  \n",
       "50%       34.000000  \n",
       "75%       56.000000  \n",
       "max      184.000000  "
      ]
     },
     "metadata": {},
     "execution_count": 55
    }
   ],
   "metadata": {}
  },
  {
   "cell_type": "code",
   "execution_count": 56,
   "source": [
    "df[hombres].describe() # Positive skew"
   ],
   "outputs": [
    {
     "output_type": "execute_result",
     "data": {
      "text/html": [
       "<div>\n",
       "<style scoped>\n",
       "    .dataframe tbody tr th:only-of-type {\n",
       "        vertical-align: middle;\n",
       "    }\n",
       "\n",
       "    .dataframe tbody tr th {\n",
       "        vertical-align: top;\n",
       "    }\n",
       "\n",
       "    .dataframe thead th {\n",
       "        text-align: right;\n",
       "    }\n",
       "</style>\n",
       "<table border=\"1\" class=\"dataframe\">\n",
       "  <thead>\n",
       "    <tr style=\"text-align: right;\">\n",
       "      <th></th>\n",
       "      <th>2010_Hombres</th>\n",
       "      <th>2011_Hombres</th>\n",
       "      <th>2012_Hombres</th>\n",
       "      <th>2013_Hombres</th>\n",
       "      <th>2014_Hombres</th>\n",
       "      <th>2015_Hombres</th>\n",
       "      <th>2016_Hombres</th>\n",
       "      <th>2017_Hombres</th>\n",
       "      <th>2018_Hombres</th>\n",
       "      <th>2019_Hombres</th>\n",
       "      <th>2020_Hombres</th>\n",
       "    </tr>\n",
       "  </thead>\n",
       "  <tbody>\n",
       "    <tr>\n",
       "      <th>count</th>\n",
       "      <td>32.000000</td>\n",
       "      <td>32.000000</td>\n",
       "      <td>32.000000</td>\n",
       "      <td>32.000000</td>\n",
       "      <td>32.000000</td>\n",
       "      <td>32.000000</td>\n",
       "      <td>32.000000</td>\n",
       "      <td>32.000000</td>\n",
       "      <td>32.000000</td>\n",
       "      <td>32.000000</td>\n",
       "      <td>32.000000</td>\n",
       "    </tr>\n",
       "    <tr>\n",
       "      <th>mean</th>\n",
       "      <td>127.687500</td>\n",
       "      <td>144.281250</td>\n",
       "      <td>139.375000</td>\n",
       "      <td>150.375000</td>\n",
       "      <td>158.187500</td>\n",
       "      <td>160.250000</td>\n",
       "      <td>161.343750</td>\n",
       "      <td>163.750000</td>\n",
       "      <td>164.125000</td>\n",
       "      <td>179.531250</td>\n",
       "      <td>197.062500</td>\n",
       "    </tr>\n",
       "    <tr>\n",
       "      <th>std</th>\n",
       "      <td>91.736452</td>\n",
       "      <td>101.792716</td>\n",
       "      <td>104.236316</td>\n",
       "      <td>108.532959</td>\n",
       "      <td>115.437579</td>\n",
       "      <td>116.216705</td>\n",
       "      <td>116.070782</td>\n",
       "      <td>117.021366</td>\n",
       "      <td>116.333433</td>\n",
       "      <td>125.262044</td>\n",
       "      <td>151.617928</td>\n",
       "    </tr>\n",
       "    <tr>\n",
       "      <th>min</th>\n",
       "      <td>25.000000</td>\n",
       "      <td>24.000000</td>\n",
       "      <td>35.000000</td>\n",
       "      <td>32.000000</td>\n",
       "      <td>35.000000</td>\n",
       "      <td>32.000000</td>\n",
       "      <td>44.000000</td>\n",
       "      <td>41.000000</td>\n",
       "      <td>44.000000</td>\n",
       "      <td>34.000000</td>\n",
       "      <td>32.000000</td>\n",
       "    </tr>\n",
       "    <tr>\n",
       "      <th>25%</th>\n",
       "      <td>51.500000</td>\n",
       "      <td>72.500000</td>\n",
       "      <td>64.250000</td>\n",
       "      <td>75.750000</td>\n",
       "      <td>68.250000</td>\n",
       "      <td>85.500000</td>\n",
       "      <td>75.250000</td>\n",
       "      <td>89.750000</td>\n",
       "      <td>86.250000</td>\n",
       "      <td>92.750000</td>\n",
       "      <td>87.000000</td>\n",
       "    </tr>\n",
       "    <tr>\n",
       "      <th>50%</th>\n",
       "      <td>106.000000</td>\n",
       "      <td>125.500000</td>\n",
       "      <td>119.500000</td>\n",
       "      <td>117.500000</td>\n",
       "      <td>132.500000</td>\n",
       "      <td>128.000000</td>\n",
       "      <td>137.500000</td>\n",
       "      <td>141.000000</td>\n",
       "      <td>119.500000</td>\n",
       "      <td>142.000000</td>\n",
       "      <td>161.000000</td>\n",
       "    </tr>\n",
       "    <tr>\n",
       "      <th>75%</th>\n",
       "      <td>168.250000</td>\n",
       "      <td>179.000000</td>\n",
       "      <td>157.500000</td>\n",
       "      <td>208.250000</td>\n",
       "      <td>209.500000</td>\n",
       "      <td>203.250000</td>\n",
       "      <td>189.250000</td>\n",
       "      <td>210.750000</td>\n",
       "      <td>203.500000</td>\n",
       "      <td>220.250000</td>\n",
       "      <td>267.250000</td>\n",
       "    </tr>\n",
       "    <tr>\n",
       "      <th>max</th>\n",
       "      <td>405.000000</td>\n",
       "      <td>459.000000</td>\n",
       "      <td>456.000000</td>\n",
       "      <td>477.000000</td>\n",
       "      <td>507.000000</td>\n",
       "      <td>507.000000</td>\n",
       "      <td>476.000000</td>\n",
       "      <td>524.000000</td>\n",
       "      <td>504.000000</td>\n",
       "      <td>553.000000</td>\n",
       "      <td>648.000000</td>\n",
       "    </tr>\n",
       "  </tbody>\n",
       "</table>\n",
       "</div>"
      ],
      "text/plain": [
       "       2010_Hombres  2011_Hombres  2012_Hombres  2013_Hombres  2014_Hombres  \\\n",
       "count     32.000000     32.000000     32.000000     32.000000     32.000000   \n",
       "mean     127.687500    144.281250    139.375000    150.375000    158.187500   \n",
       "std       91.736452    101.792716    104.236316    108.532959    115.437579   \n",
       "min       25.000000     24.000000     35.000000     32.000000     35.000000   \n",
       "25%       51.500000     72.500000     64.250000     75.750000     68.250000   \n",
       "50%      106.000000    125.500000    119.500000    117.500000    132.500000   \n",
       "75%      168.250000    179.000000    157.500000    208.250000    209.500000   \n",
       "max      405.000000    459.000000    456.000000    477.000000    507.000000   \n",
       "\n",
       "       2015_Hombres  2016_Hombres  2017_Hombres  2018_Hombres  2019_Hombres  \\\n",
       "count     32.000000     32.000000     32.000000     32.000000     32.000000   \n",
       "mean     160.250000    161.343750    163.750000    164.125000    179.531250   \n",
       "std      116.216705    116.070782    117.021366    116.333433    125.262044   \n",
       "min       32.000000     44.000000     41.000000     44.000000     34.000000   \n",
       "25%       85.500000     75.250000     89.750000     86.250000     92.750000   \n",
       "50%      128.000000    137.500000    141.000000    119.500000    142.000000   \n",
       "75%      203.250000    189.250000    210.750000    203.500000    220.250000   \n",
       "max      507.000000    476.000000    524.000000    504.000000    553.000000   \n",
       "\n",
       "       2020_Hombres  \n",
       "count     32.000000  \n",
       "mean     197.062500  \n",
       "std      151.617928  \n",
       "min       32.000000  \n",
       "25%       87.000000  \n",
       "50%      161.000000  \n",
       "75%      267.250000  \n",
       "max      648.000000  "
      ]
     },
     "metadata": {},
     "execution_count": 56
    }
   ],
   "metadata": {}
  },
  {
   "cell_type": "code",
   "execution_count": 57,
   "source": [
    "total_anual = pd.DataFrame(df[totales].sum())\r\n",
    "total_anual = total_anual.reset_index()\r\n",
    "total_anual = total_anual.rename(columns={'index':'Año',0:'Total'})\r\n",
    "total_anual.Año = total_anual.Año.str[:4]\r\n",
    "\r\n",
    "mujer_anual = pd.DataFrame(df[mujeres].sum())\r\n",
    "mujer_anual= mujer_anual.reset_index()\r\n",
    "mujer_anual = mujer_anual.rename(columns={'index':'Año',0:'Total'})\r\n",
    "mujer_anual.Año = mujer_anual.Año.str[:4]\r\n",
    "\r\n",
    "hombre_anual = pd.DataFrame(df[hombres].sum())\r\n",
    "hombre_anual= hombre_anual.reset_index()\r\n",
    "hombre_anual = hombre_anual.rename(columns={'index':'Año',0:'Total'})\r\n",
    "hombre_anual.Año = hombre_anual.Año.str[:4]\r\n"
   ],
   "outputs": [],
   "metadata": {}
  },
  {
   "cell_type": "code",
   "execution_count": 58,
   "source": [
    "anual = total_anual.merge(mujer_anual, left_on='Año', right_on='Año')\r\n",
    "anual = anual.rename(columns={'Total_x':'Total', 'Total_y':'Mujeres'})"
   ],
   "outputs": [],
   "metadata": {}
  },
  {
   "cell_type": "code",
   "execution_count": 59,
   "source": [
    "anual = anual.merge(hombre_anual, left_on='Año', right_on='Año')\r\n",
    "anual = anual.rename(columns={'Total_x':'Total', 'Total_y':'Hombres'})"
   ],
   "outputs": [],
   "metadata": {}
  },
  {
   "cell_type": "code",
   "execution_count": 60,
   "source": [
    "anual.drop(anual.head(1).index, inplace=True)"
   ],
   "outputs": [],
   "metadata": {}
  },
  {
   "cell_type": "code",
   "execution_count": 61,
   "source": [
    "anual.reset_index(drop=True, inplace=True)"
   ],
   "outputs": [],
   "metadata": {}
  },
  {
   "cell_type": "code",
   "execution_count": 62,
   "source": [
    "anual[['Total','Mujeres','Hombres']] = anual[['Total','Mujeres','Hombres']].astype(int)"
   ],
   "outputs": [],
   "metadata": {}
  },
  {
   "cell_type": "code",
   "execution_count": 63,
   "source": [
    "anual"
   ],
   "outputs": [
    {
     "output_type": "execute_result",
     "data": {
      "text/html": [
       "<div>\n",
       "<style scoped>\n",
       "    .dataframe tbody tr th:only-of-type {\n",
       "        vertical-align: middle;\n",
       "    }\n",
       "\n",
       "    .dataframe tbody tr th {\n",
       "        vertical-align: top;\n",
       "    }\n",
       "\n",
       "    .dataframe thead th {\n",
       "        text-align: right;\n",
       "    }\n",
       "</style>\n",
       "<table border=\"1\" class=\"dataframe\">\n",
       "  <thead>\n",
       "    <tr style=\"text-align: right;\">\n",
       "      <th></th>\n",
       "      <th>Año</th>\n",
       "      <th>Total</th>\n",
       "      <th>Mujeres</th>\n",
       "      <th>Hombres</th>\n",
       "    </tr>\n",
       "  </thead>\n",
       "  <tbody>\n",
       "    <tr>\n",
       "      <th>0</th>\n",
       "      <td>2010</td>\n",
       "      <td>5006</td>\n",
       "      <td>920</td>\n",
       "      <td>4086</td>\n",
       "    </tr>\n",
       "    <tr>\n",
       "      <th>1</th>\n",
       "      <td>2011</td>\n",
       "      <td>5712</td>\n",
       "      <td>1093</td>\n",
       "      <td>4617</td>\n",
       "    </tr>\n",
       "    <tr>\n",
       "      <th>2</th>\n",
       "      <td>2012</td>\n",
       "      <td>5538</td>\n",
       "      <td>1075</td>\n",
       "      <td>4460</td>\n",
       "    </tr>\n",
       "    <tr>\n",
       "      <th>3</th>\n",
       "      <td>2013</td>\n",
       "      <td>5889</td>\n",
       "      <td>1075</td>\n",
       "      <td>4812</td>\n",
       "    </tr>\n",
       "    <tr>\n",
       "      <th>4</th>\n",
       "      <td>2014</td>\n",
       "      <td>6317</td>\n",
       "      <td>1255</td>\n",
       "      <td>5062</td>\n",
       "    </tr>\n",
       "    <tr>\n",
       "      <th>5</th>\n",
       "      <td>2015</td>\n",
       "      <td>6410</td>\n",
       "      <td>1278</td>\n",
       "      <td>5128</td>\n",
       "    </tr>\n",
       "    <tr>\n",
       "      <th>6</th>\n",
       "      <td>2016</td>\n",
       "      <td>6348</td>\n",
       "      <td>1183</td>\n",
       "      <td>5163</td>\n",
       "    </tr>\n",
       "    <tr>\n",
       "      <th>7</th>\n",
       "      <td>2017</td>\n",
       "      <td>6469</td>\n",
       "      <td>1228</td>\n",
       "      <td>5240</td>\n",
       "    </tr>\n",
       "    <tr>\n",
       "      <th>8</th>\n",
       "      <td>2018</td>\n",
       "      <td>6470</td>\n",
       "      <td>1218</td>\n",
       "      <td>5252</td>\n",
       "    </tr>\n",
       "    <tr>\n",
       "      <th>9</th>\n",
       "      <td>2019</td>\n",
       "      <td>7032</td>\n",
       "      <td>1287</td>\n",
       "      <td>5745</td>\n",
       "    </tr>\n",
       "    <tr>\n",
       "      <th>10</th>\n",
       "      <td>2020</td>\n",
       "      <td>7728</td>\n",
       "      <td>1416</td>\n",
       "      <td>6306</td>\n",
       "    </tr>\n",
       "  </tbody>\n",
       "</table>\n",
       "</div>"
      ],
      "text/plain": [
       "     Año  Total  Mujeres  Hombres\n",
       "0   2010   5006      920     4086\n",
       "1   2011   5712     1093     4617\n",
       "2   2012   5538     1075     4460\n",
       "3   2013   5889     1075     4812\n",
       "4   2014   6317     1255     5062\n",
       "5   2015   6410     1278     5128\n",
       "6   2016   6348     1183     5163\n",
       "7   2017   6469     1228     5240\n",
       "8   2018   6470     1218     5252\n",
       "9   2019   7032     1287     5745\n",
       "10  2020   7728     1416     6306"
      ]
     },
     "metadata": {},
     "execution_count": 63
    }
   ],
   "metadata": {}
  },
  {
   "cell_type": "code",
   "execution_count": 64,
   "source": [
    "anual.describe() "
   ],
   "outputs": [
    {
     "output_type": "execute_result",
     "data": {
      "text/html": [
       "<div>\n",
       "<style scoped>\n",
       "    .dataframe tbody tr th:only-of-type {\n",
       "        vertical-align: middle;\n",
       "    }\n",
       "\n",
       "    .dataframe tbody tr th {\n",
       "        vertical-align: top;\n",
       "    }\n",
       "\n",
       "    .dataframe thead th {\n",
       "        text-align: right;\n",
       "    }\n",
       "</style>\n",
       "<table border=\"1\" class=\"dataframe\">\n",
       "  <thead>\n",
       "    <tr style=\"text-align: right;\">\n",
       "      <th></th>\n",
       "      <th>Total</th>\n",
       "      <th>Mujeres</th>\n",
       "      <th>Hombres</th>\n",
       "    </tr>\n",
       "  </thead>\n",
       "  <tbody>\n",
       "    <tr>\n",
       "      <th>count</th>\n",
       "      <td>11.000000</td>\n",
       "      <td>11.000000</td>\n",
       "      <td>11.000000</td>\n",
       "    </tr>\n",
       "    <tr>\n",
       "      <th>mean</th>\n",
       "      <td>6265.363636</td>\n",
       "      <td>1184.363636</td>\n",
       "      <td>5079.181818</td>\n",
       "    </tr>\n",
       "    <tr>\n",
       "      <th>std</th>\n",
       "      <td>735.099350</td>\n",
       "      <td>135.329430</td>\n",
       "      <td>605.691641</td>\n",
       "    </tr>\n",
       "    <tr>\n",
       "      <th>min</th>\n",
       "      <td>5006.000000</td>\n",
       "      <td>920.000000</td>\n",
       "      <td>4086.000000</td>\n",
       "    </tr>\n",
       "    <tr>\n",
       "      <th>25%</th>\n",
       "      <td>5800.500000</td>\n",
       "      <td>1084.000000</td>\n",
       "      <td>4714.500000</td>\n",
       "    </tr>\n",
       "    <tr>\n",
       "      <th>50%</th>\n",
       "      <td>6348.000000</td>\n",
       "      <td>1218.000000</td>\n",
       "      <td>5128.000000</td>\n",
       "    </tr>\n",
       "    <tr>\n",
       "      <th>75%</th>\n",
       "      <td>6469.500000</td>\n",
       "      <td>1266.500000</td>\n",
       "      <td>5246.000000</td>\n",
       "    </tr>\n",
       "    <tr>\n",
       "      <th>max</th>\n",
       "      <td>7728.000000</td>\n",
       "      <td>1416.000000</td>\n",
       "      <td>6306.000000</td>\n",
       "    </tr>\n",
       "  </tbody>\n",
       "</table>\n",
       "</div>"
      ],
      "text/plain": [
       "             Total      Mujeres      Hombres\n",
       "count    11.000000    11.000000    11.000000\n",
       "mean   6265.363636  1184.363636  5079.181818\n",
       "std     735.099350   135.329430   605.691641\n",
       "min    5006.000000   920.000000  4086.000000\n",
       "25%    5800.500000  1084.000000  4714.500000\n",
       "50%    6348.000000  1218.000000  5128.000000\n",
       "75%    6469.500000  1266.500000  5246.000000\n",
       "max    7728.000000  1416.000000  6306.000000"
      ]
     },
     "metadata": {},
     "execution_count": 64
    }
   ],
   "metadata": {}
  },
  {
   "cell_type": "markdown",
   "source": [
    "## Graphic Techniques"
   ],
   "metadata": {}
  },
  {
   "cell_type": "markdown",
   "source": [
    "## Histogram"
   ],
   "metadata": {}
  },
  {
   "cell_type": "code",
   "execution_count": 65,
   "source": [
    "fig = go.Figure()\r\n",
    "\r\n",
    "fig.add_trace(go.Histogram(x=df['2010_Total'], name='2010'))\r\n",
    "fig.add_trace(go.Histogram(x=df['2015_Total'], name='2015'))\r\n",
    "fig.add_trace(go.Histogram(x=df['2020_Total'], name='2020'))\r\n",
    "#fig.add_trace(go.Histogram(x=anual.Mujeres, name='Mujeres'))\r\n",
    "#fig.add_trace(go.Histogram(x=anual.Hombres, name='Hombres'))\r\n",
    "\r\n",
    "# Overlay both histograms\r\n",
    "fig.update_layout(barmode='overlay')\r\n",
    "# Reduce opacity to see both histograms\r\n",
    "fig.update_traces(opacity=0.4)\r\n",
    "fig.show()"
   ],
   "outputs": [
    {
     "output_type": "display_data",
     "data": {
      "application/vnd.plotly.v1+json": {
       "config": {
        "plotlyServerURL": "https://plot.ly"
       },
       "data": [
        {
         "name": "2010",
         "opacity": 0.4,
         "type": "histogram",
         "x": [
          50,
          107,
          45,
          62,
          169,
          31,
          88,
          234,
          375,
          94,
          283,
          91,
          56,
          399,
          537,
          151,
          45,
          46,
          238,
          131,
          205,
          85,
          132,
          164,
          113,
          170,
          187,
          166,
          33,
          262,
          206,
          51
         ]
        },
        {
         "name": "2015",
         "opacity": 0.4,
         "type": "histogram",
         "x": [
          124,
          150,
          57,
          86,
          181,
          54,
          316,
          421,
          369,
          116,
          466,
          73,
          117,
          527,
          667,
          169,
          44,
          75,
          253,
          156,
          268,
          110,
          140,
          164,
          142,
          249,
          170,
          149,
          52,
          252,
          190,
          103
         ]
        },
        {
         "name": "2020",
         "opacity": 0.4,
         "type": "histogram",
         "x": [
          181,
          97,
          67,
          70,
          273,
          50,
          200,
          541,
          450,
          115,
          501,
          50,
          132,
          655,
          832,
          376,
          106,
          91,
          351,
          214,
          336,
          200,
          176,
          258,
          112,
          304,
          116,
          164,
          52,
          289,
          243,
          126
         ]
        }
       ],
       "layout": {
        "barmode": "overlay",
        "template": {
         "data": {
          "bar": [
           {
            "error_x": {
             "color": "#2a3f5f"
            },
            "error_y": {
             "color": "#2a3f5f"
            },
            "marker": {
             "line": {
              "color": "#E5ECF6",
              "width": 0.5
             },
             "pattern": {
              "fillmode": "overlay",
              "size": 10,
              "solidity": 0.2
             }
            },
            "type": "bar"
           }
          ],
          "barpolar": [
           {
            "marker": {
             "line": {
              "color": "#E5ECF6",
              "width": 0.5
             },
             "pattern": {
              "fillmode": "overlay",
              "size": 10,
              "solidity": 0.2
             }
            },
            "type": "barpolar"
           }
          ],
          "carpet": [
           {
            "aaxis": {
             "endlinecolor": "#2a3f5f",
             "gridcolor": "white",
             "linecolor": "white",
             "minorgridcolor": "white",
             "startlinecolor": "#2a3f5f"
            },
            "baxis": {
             "endlinecolor": "#2a3f5f",
             "gridcolor": "white",
             "linecolor": "white",
             "minorgridcolor": "white",
             "startlinecolor": "#2a3f5f"
            },
            "type": "carpet"
           }
          ],
          "choropleth": [
           {
            "colorbar": {
             "outlinewidth": 0,
             "ticks": ""
            },
            "type": "choropleth"
           }
          ],
          "contour": [
           {
            "colorbar": {
             "outlinewidth": 0,
             "ticks": ""
            },
            "colorscale": [
             [
              0,
              "#0d0887"
             ],
             [
              0.1111111111111111,
              "#46039f"
             ],
             [
              0.2222222222222222,
              "#7201a8"
             ],
             [
              0.3333333333333333,
              "#9c179e"
             ],
             [
              0.4444444444444444,
              "#bd3786"
             ],
             [
              0.5555555555555556,
              "#d8576b"
             ],
             [
              0.6666666666666666,
              "#ed7953"
             ],
             [
              0.7777777777777778,
              "#fb9f3a"
             ],
             [
              0.8888888888888888,
              "#fdca26"
             ],
             [
              1,
              "#f0f921"
             ]
            ],
            "type": "contour"
           }
          ],
          "contourcarpet": [
           {
            "colorbar": {
             "outlinewidth": 0,
             "ticks": ""
            },
            "type": "contourcarpet"
           }
          ],
          "heatmap": [
           {
            "colorbar": {
             "outlinewidth": 0,
             "ticks": ""
            },
            "colorscale": [
             [
              0,
              "#0d0887"
             ],
             [
              0.1111111111111111,
              "#46039f"
             ],
             [
              0.2222222222222222,
              "#7201a8"
             ],
             [
              0.3333333333333333,
              "#9c179e"
             ],
             [
              0.4444444444444444,
              "#bd3786"
             ],
             [
              0.5555555555555556,
              "#d8576b"
             ],
             [
              0.6666666666666666,
              "#ed7953"
             ],
             [
              0.7777777777777778,
              "#fb9f3a"
             ],
             [
              0.8888888888888888,
              "#fdca26"
             ],
             [
              1,
              "#f0f921"
             ]
            ],
            "type": "heatmap"
           }
          ],
          "heatmapgl": [
           {
            "colorbar": {
             "outlinewidth": 0,
             "ticks": ""
            },
            "colorscale": [
             [
              0,
              "#0d0887"
             ],
             [
              0.1111111111111111,
              "#46039f"
             ],
             [
              0.2222222222222222,
              "#7201a8"
             ],
             [
              0.3333333333333333,
              "#9c179e"
             ],
             [
              0.4444444444444444,
              "#bd3786"
             ],
             [
              0.5555555555555556,
              "#d8576b"
             ],
             [
              0.6666666666666666,
              "#ed7953"
             ],
             [
              0.7777777777777778,
              "#fb9f3a"
             ],
             [
              0.8888888888888888,
              "#fdca26"
             ],
             [
              1,
              "#f0f921"
             ]
            ],
            "type": "heatmapgl"
           }
          ],
          "histogram": [
           {
            "marker": {
             "pattern": {
              "fillmode": "overlay",
              "size": 10,
              "solidity": 0.2
             }
            },
            "type": "histogram"
           }
          ],
          "histogram2d": [
           {
            "colorbar": {
             "outlinewidth": 0,
             "ticks": ""
            },
            "colorscale": [
             [
              0,
              "#0d0887"
             ],
             [
              0.1111111111111111,
              "#46039f"
             ],
             [
              0.2222222222222222,
              "#7201a8"
             ],
             [
              0.3333333333333333,
              "#9c179e"
             ],
             [
              0.4444444444444444,
              "#bd3786"
             ],
             [
              0.5555555555555556,
              "#d8576b"
             ],
             [
              0.6666666666666666,
              "#ed7953"
             ],
             [
              0.7777777777777778,
              "#fb9f3a"
             ],
             [
              0.8888888888888888,
              "#fdca26"
             ],
             [
              1,
              "#f0f921"
             ]
            ],
            "type": "histogram2d"
           }
          ],
          "histogram2dcontour": [
           {
            "colorbar": {
             "outlinewidth": 0,
             "ticks": ""
            },
            "colorscale": [
             [
              0,
              "#0d0887"
             ],
             [
              0.1111111111111111,
              "#46039f"
             ],
             [
              0.2222222222222222,
              "#7201a8"
             ],
             [
              0.3333333333333333,
              "#9c179e"
             ],
             [
              0.4444444444444444,
              "#bd3786"
             ],
             [
              0.5555555555555556,
              "#d8576b"
             ],
             [
              0.6666666666666666,
              "#ed7953"
             ],
             [
              0.7777777777777778,
              "#fb9f3a"
             ],
             [
              0.8888888888888888,
              "#fdca26"
             ],
             [
              1,
              "#f0f921"
             ]
            ],
            "type": "histogram2dcontour"
           }
          ],
          "mesh3d": [
           {
            "colorbar": {
             "outlinewidth": 0,
             "ticks": ""
            },
            "type": "mesh3d"
           }
          ],
          "parcoords": [
           {
            "line": {
             "colorbar": {
              "outlinewidth": 0,
              "ticks": ""
             }
            },
            "type": "parcoords"
           }
          ],
          "pie": [
           {
            "automargin": true,
            "type": "pie"
           }
          ],
          "scatter": [
           {
            "marker": {
             "colorbar": {
              "outlinewidth": 0,
              "ticks": ""
             }
            },
            "type": "scatter"
           }
          ],
          "scatter3d": [
           {
            "line": {
             "colorbar": {
              "outlinewidth": 0,
              "ticks": ""
             }
            },
            "marker": {
             "colorbar": {
              "outlinewidth": 0,
              "ticks": ""
             }
            },
            "type": "scatter3d"
           }
          ],
          "scattercarpet": [
           {
            "marker": {
             "colorbar": {
              "outlinewidth": 0,
              "ticks": ""
             }
            },
            "type": "scattercarpet"
           }
          ],
          "scattergeo": [
           {
            "marker": {
             "colorbar": {
              "outlinewidth": 0,
              "ticks": ""
             }
            },
            "type": "scattergeo"
           }
          ],
          "scattergl": [
           {
            "marker": {
             "colorbar": {
              "outlinewidth": 0,
              "ticks": ""
             }
            },
            "type": "scattergl"
           }
          ],
          "scattermapbox": [
           {
            "marker": {
             "colorbar": {
              "outlinewidth": 0,
              "ticks": ""
             }
            },
            "type": "scattermapbox"
           }
          ],
          "scatterpolar": [
           {
            "marker": {
             "colorbar": {
              "outlinewidth": 0,
              "ticks": ""
             }
            },
            "type": "scatterpolar"
           }
          ],
          "scatterpolargl": [
           {
            "marker": {
             "colorbar": {
              "outlinewidth": 0,
              "ticks": ""
             }
            },
            "type": "scatterpolargl"
           }
          ],
          "scatterternary": [
           {
            "marker": {
             "colorbar": {
              "outlinewidth": 0,
              "ticks": ""
             }
            },
            "type": "scatterternary"
           }
          ],
          "surface": [
           {
            "colorbar": {
             "outlinewidth": 0,
             "ticks": ""
            },
            "colorscale": [
             [
              0,
              "#0d0887"
             ],
             [
              0.1111111111111111,
              "#46039f"
             ],
             [
              0.2222222222222222,
              "#7201a8"
             ],
             [
              0.3333333333333333,
              "#9c179e"
             ],
             [
              0.4444444444444444,
              "#bd3786"
             ],
             [
              0.5555555555555556,
              "#d8576b"
             ],
             [
              0.6666666666666666,
              "#ed7953"
             ],
             [
              0.7777777777777778,
              "#fb9f3a"
             ],
             [
              0.8888888888888888,
              "#fdca26"
             ],
             [
              1,
              "#f0f921"
             ]
            ],
            "type": "surface"
           }
          ],
          "table": [
           {
            "cells": {
             "fill": {
              "color": "#EBF0F8"
             },
             "line": {
              "color": "white"
             }
            },
            "header": {
             "fill": {
              "color": "#C8D4E3"
             },
             "line": {
              "color": "white"
             }
            },
            "type": "table"
           }
          ]
         },
         "layout": {
          "annotationdefaults": {
           "arrowcolor": "#2a3f5f",
           "arrowhead": 0,
           "arrowwidth": 1
          },
          "autotypenumbers": "strict",
          "coloraxis": {
           "colorbar": {
            "outlinewidth": 0,
            "ticks": ""
           }
          },
          "colorscale": {
           "diverging": [
            [
             0,
             "#8e0152"
            ],
            [
             0.1,
             "#c51b7d"
            ],
            [
             0.2,
             "#de77ae"
            ],
            [
             0.3,
             "#f1b6da"
            ],
            [
             0.4,
             "#fde0ef"
            ],
            [
             0.5,
             "#f7f7f7"
            ],
            [
             0.6,
             "#e6f5d0"
            ],
            [
             0.7,
             "#b8e186"
            ],
            [
             0.8,
             "#7fbc41"
            ],
            [
             0.9,
             "#4d9221"
            ],
            [
             1,
             "#276419"
            ]
           ],
           "sequential": [
            [
             0,
             "#0d0887"
            ],
            [
             0.1111111111111111,
             "#46039f"
            ],
            [
             0.2222222222222222,
             "#7201a8"
            ],
            [
             0.3333333333333333,
             "#9c179e"
            ],
            [
             0.4444444444444444,
             "#bd3786"
            ],
            [
             0.5555555555555556,
             "#d8576b"
            ],
            [
             0.6666666666666666,
             "#ed7953"
            ],
            [
             0.7777777777777778,
             "#fb9f3a"
            ],
            [
             0.8888888888888888,
             "#fdca26"
            ],
            [
             1,
             "#f0f921"
            ]
           ],
           "sequentialminus": [
            [
             0,
             "#0d0887"
            ],
            [
             0.1111111111111111,
             "#46039f"
            ],
            [
             0.2222222222222222,
             "#7201a8"
            ],
            [
             0.3333333333333333,
             "#9c179e"
            ],
            [
             0.4444444444444444,
             "#bd3786"
            ],
            [
             0.5555555555555556,
             "#d8576b"
            ],
            [
             0.6666666666666666,
             "#ed7953"
            ],
            [
             0.7777777777777778,
             "#fb9f3a"
            ],
            [
             0.8888888888888888,
             "#fdca26"
            ],
            [
             1,
             "#f0f921"
            ]
           ]
          },
          "colorway": [
           "#636efa",
           "#EF553B",
           "#00cc96",
           "#ab63fa",
           "#FFA15A",
           "#19d3f3",
           "#FF6692",
           "#B6E880",
           "#FF97FF",
           "#FECB52"
          ],
          "font": {
           "color": "#2a3f5f"
          },
          "geo": {
           "bgcolor": "white",
           "lakecolor": "white",
           "landcolor": "#E5ECF6",
           "showlakes": true,
           "showland": true,
           "subunitcolor": "white"
          },
          "hoverlabel": {
           "align": "left"
          },
          "hovermode": "closest",
          "mapbox": {
           "style": "light"
          },
          "paper_bgcolor": "white",
          "plot_bgcolor": "#E5ECF6",
          "polar": {
           "angularaxis": {
            "gridcolor": "white",
            "linecolor": "white",
            "ticks": ""
           },
           "bgcolor": "#E5ECF6",
           "radialaxis": {
            "gridcolor": "white",
            "linecolor": "white",
            "ticks": ""
           }
          },
          "scene": {
           "xaxis": {
            "backgroundcolor": "#E5ECF6",
            "gridcolor": "white",
            "gridwidth": 2,
            "linecolor": "white",
            "showbackground": true,
            "ticks": "",
            "zerolinecolor": "white"
           },
           "yaxis": {
            "backgroundcolor": "#E5ECF6",
            "gridcolor": "white",
            "gridwidth": 2,
            "linecolor": "white",
            "showbackground": true,
            "ticks": "",
            "zerolinecolor": "white"
           },
           "zaxis": {
            "backgroundcolor": "#E5ECF6",
            "gridcolor": "white",
            "gridwidth": 2,
            "linecolor": "white",
            "showbackground": true,
            "ticks": "",
            "zerolinecolor": "white"
           }
          },
          "shapedefaults": {
           "line": {
            "color": "#2a3f5f"
           }
          },
          "ternary": {
           "aaxis": {
            "gridcolor": "white",
            "linecolor": "white",
            "ticks": ""
           },
           "baxis": {
            "gridcolor": "white",
            "linecolor": "white",
            "ticks": ""
           },
           "bgcolor": "#E5ECF6",
           "caxis": {
            "gridcolor": "white",
            "linecolor": "white",
            "ticks": ""
           }
          },
          "title": {
           "x": 0.05
          },
          "xaxis": {
           "automargin": true,
           "gridcolor": "white",
           "linecolor": "white",
           "ticks": "",
           "title": {
            "standoff": 15
           },
           "zerolinecolor": "white",
           "zerolinewidth": 2
          },
          "yaxis": {
           "automargin": true,
           "gridcolor": "white",
           "linecolor": "white",
           "ticks": "",
           "title": {
            "standoff": 15
           },
           "zerolinecolor": "white",
           "zerolinewidth": 2
          }
         }
        }
       }
      }
     },
     "metadata": {}
    }
   ],
   "metadata": {}
  },
  {
   "cell_type": "markdown",
   "source": [
    "## Boxplot"
   ],
   "metadata": {}
  },
  {
   "cell_type": "code",
   "execution_count": 66,
   "source": [
    "entidades = df.Entidad.values\r\n",
    "\r\n",
    "# Show figure\r\n",
    "fig = go.Figure()\r\n",
    "\r\n",
    "for value in range(len(entidades)):\r\n",
    "    data = df.loc[value, totales].values[1:].astype(int)\r\n",
    "    standarized = (data - np.mean(data)) / np.std(data)\r\n",
    "    fig.add_trace(go.Box(y=standarized, name=df.loc[value,'Entidad'],\r\n",
    "                #marker_color = 'indianred'\r\n",
    "                 ))\r\n",
    "    \r\n",
    "fig.update_layout(title=f\"Total Suicides Boxplot per entity (standarized)\",title_x=0.5)\r\n",
    "fig.update_layout(showlegend=False, height=700)\r\n",
    "fig.update_layout(\r\n",
    "                yaxis_title='Count',\r\n",
    "                    )\r\n",
    "#pio.write_html(fig, file='suicidios.html', include_plotlyjs='cdn', full_html=False)\r\n",
    "fig.show()\r\n"
   ],
   "outputs": [
    {
     "output_type": "display_data",
     "data": {
      "application/vnd.plotly.v1+json": {
       "config": {
        "plotlyServerURL": "https://plot.ly"
       },
       "data": [
        {
         "name": "Aguascalientes",
         "type": "box",
         "y": [
          -2.2729283153013236,
          -0.7802589739094097,
          -0.22050797088744192,
          -0.3137998047244365,
          -0.40709163856143116,
          0.028270252677877077,
          0.059367530623541956,
          0.525826699808515,
          0.525826699808515,
          1.0544804248848179,
          1.800815095580775
         ]
        },
        {
         "name": "Baja California",
         "type": "box",
         "y": [
          -1.295413658637678,
          0.058616002653288424,
          -1.1019808498818258,
          -0.7795928352887385,
          1.0902576493511675,
          0.09085480411259715,
          0.7356308332987717,
          0.6066756274615368,
          1.5093620683221811,
          0.703392031839463,
          -1.6178016732307654
         ]
        },
        {
         "name": "Baja California Sur",
         "type": "box",
         "y": [
          -0.7123821105152576,
          -2.279622753648824,
          -0.8168648200574954,
          -0.18996856280406885,
          0.750375823076071,
          0.5414104039915955,
          0.33244498490711993,
          -0.503416691430782,
          0.5414104039915955,
          0.750375823076071,
          1.586237499413973
         ]
        },
        {
         "name": "Campeche",
         "type": "box",
         "y": [
          -1.4654482788435992,
          0.294774079077736,
          -1.3728049968477394,
          -0.07579904890570295,
          1.3138501810321932,
          0.7579904890570347,
          0.8506337710528945,
          -0.3537288948932822,
          -0.8169453048725809,
          1.5917800270197724,
          -0.7243020228767212
         ]
        },
        {
         "name": "Coahuila de Zaragoza",
         "type": "box",
         "y": [
          -0.6685796309047953,
          -0.6685796309047953,
          -1.167626569687303,
          -0.5372514891199249,
          -0.5372514891199249,
          -0.35339209062110627,
          -0.6160483741908471,
          0.17192047651837553,
          0.5659049018729868,
          1.747858177936821,
          2.06304571822051
         ]
        },
        {
         "name": "Colima",
         "type": "box",
         "y": [
          -1.9587773491481393,
          0.03193658721437191,
          -0.2022650523576882,
          0.5003398663584921,
          -0.6706683315018085,
          0.7345415059305523,
          2.139751343362913,
          -0.2022650523576882,
          0.3832390465724621,
          -1.0219707908598987,
          0.26613822678643206
         ]
        },
        {
         "name": "Chiapas",
         "type": "box",
         "y": [
          -1.9990812361417527,
          -0.01271680175662689,
          -0.5862445609805013,
          1.1763041624879906,
          1.2602350540817284,
          1.1902926444202804,
          0.574799439399537,
          0.4349146200766409,
          -1.1737608021366652,
          -0.4323712597253154,
          -0.4323712597253154
         ]
        },
        {
         "name": "Chihuahua",
         "type": "box",
         "y": [
          -1.5194168127871932,
          -0.8725152140987682,
          -1.1430377008230186,
          -0.6255164218722787,
          -0.4373268658901915,
          0.6800486227534516,
          0.8800000259844193,
          0.4918590667713644,
          0.02138517681614622,
          0.4330498305269621,
          2.091470292619106
         ]
        },
        {
         "name": "Ciudad de México",
         "type": "box",
         "y": [
          0.11259657525872298,
          0.6186758059914789,
          0.7918081744000532,
          0.778490299907086,
          0.8983511703437913,
          0.03268932830091943,
          0.1392323242446575,
          -0.8596082627278869,
          -1.8584488497004314,
          -1.7652237282496606,
          1.1114371622312673
         ]
        },
        {
         "name": "Durango",
         "type": "box",
         "y": [
          -0.741407234549678,
          -1.2283015378360336,
          -1.836919416943978,
          -0.9848543861928558,
          -0.13278935544173365,
          0.5975520994877996,
          0.47582852366621076,
          1.0844464027741552,
          0.9627228269525663,
          1.2670317665065385,
          0.5366903115770052
         ]
        },
        {
         "name": "Guanajuato",
         "type": "box",
         "y": [
          -1.885029228508962,
          -0.8855760707198272,
          -1.1520969127969298,
          -0.9788583654468132,
          -0.032709376073098755,
          0.553636476496527,
          0.4603541817695411,
          0.9267656554044708,
          1.060026076443022,
          0.9134396133006156,
          1.0200479501314568
         ]
        },
        {
         "name": "Guerrero",
         "type": "box",
         "y": [
          0.8098248323482706,
          0.7391258390480248,
          0.7391258390480248,
          1.7289117452514668,
          0.10283489934581207,
          -0.4627570470561548,
          0.24423288594630377,
          -0.4627570470561548,
          -1.1697469800586133,
          -0.17996107385517138,
          -2.0888338929618095
         ]
        },
        {
         "name": "Hidalgo",
         "type": "box",
         "y": [
          -2.8911852428455465,
          0.14528569059525395,
          -0.4406999281389356,
          0.09201427071032763,
          0.8378141490992962,
          0.35837137013495923,
          0.14528569059525395,
          0.30509995025003295,
          -0.06779998894445134,
          0.35837137013495923,
          1.1574426684088541
         ]
        },
        {
         "name": "Jalisco",
         "type": "box",
         "y": [
          -1.7873450001624247,
          -1.1356059393297175,
          -0.48386687849701027,
          -0.7976671670460915,
          -0.49593612036428264,
          -0.24248204115156316,
          0.6023648895575018,
          1.3385886434611154,
          1.0006498711774894,
          0.6989188244956805,
          1.3023809178592984
         ]
        },
        {
         "name": "México",
         "type": "box",
         "y": [
          -1.2151771496303334,
          -0.4244562438145394,
          -0.44955849479281856,
          -0.17343373403174767,
          0.45412254042523165,
          0.4164691639578129,
          -0.6880298790864707,
          -0.800990008488727,
          -0.6252742516407728,
          1.018923187436513,
          2.487404869665845
         ]
        },
        {
         "name": "Michoacán de Ocampo",
         "type": "box",
         "y": [
          -0.7627391822876816,
          -0.7759937336386523,
          -0.8157573876915646,
          -0.8820301444464185,
          -0.21930257689787988,
          -0.5241572579702076,
          -0.3518480904075876,
          -0.033738857984289064,
          0.48318864470357104,
          1.6628437149399697,
          2.219534871680742
         ]
        },
        {
         "name": "Morelos",
         "type": "box",
         "y": [
          -1.319359329730832,
          -0.48408148069260715,
          -0.43187661512771813,
          -0.275262018433051,
          -0.8495155396468305,
          -1.371564195295721,
          0.873245023994508,
          0.037967174956283274,
          0.925449889559397,
          1.029859620689175,
          1.8651374697273997
         ]
        },
        {
         "name": "Nayarit",
         "type": "box",
         "y": [
          -1.4082748096493987,
          -1.4082748096493987,
          -1.1400319887637989,
          -0.8717891678781992,
          0.938849873099599,
          0.5364856417711994,
          0.8047284626567992,
          0.33530352610699965,
          -0.06706070522139992,
          0.6706070522139993,
          1.6094569253135984
         ]
        },
        {
         "name": "Nuevo León",
         "type": "box",
         "y": [
          -0.7038580567508447,
          -1.1688693855351868,
          -0.9131131547037986,
          -0.5411040916763249,
          -1.1223682526567527,
          -0.3550995601625881,
          0.5516725309668791,
          0.040160069304102756,
          1.1329366919473067,
          1.1561872583865238,
          1.9234559508806885
         ]
        },
        {
         "name": "Oaxaca",
         "type": "box",
         "y": [
          -0.4343602378368974,
          -0.023754075506704962,
          -0.6956550684106563,
          -0.8076385672279814,
          -0.397032404897789,
          0.4988355856408127,
          -1.0689333978017403,
          -0.5090159037151142,
          -0.09840974138492177,
          0.8721139150318967,
          2.6638498961091
         ]
        },
        {
         "name": "Puebla",
         "type": "box",
         "y": [
          -1.4426970681598856,
          -0.3415364487888708,
          -1.2051918365308432,
          -0.6869986038856597,
          0.11188262977566471,
          -0.08243983246627908,
          -0.9892779895953501,
          0.6516672471143975,
          1.0187207869047357,
          1.5800967889370179,
          1.385774326695074
         ]
        },
        {
         "name": "Querétaro",
         "type": "box",
         "y": [
          -1.0715723283166259,
          -0.7041026809562481,
          -0.22356544979267726,
          -0.3083661376450721,
          -1.2129068080706171,
          -0.36489992954666867,
          -0.5910350971530549,
          0.398306261124885,
          0.4265731570756833,
          1.4724483072552197,
          2.1791207060251767
         ]
        },
        {
         "name": "Quintana Roo",
         "type": "box",
         "y": [
          -0.2054840218832704,
          -0.9367653938796144,
          0.592277474840014,
          0.12691660175143143,
          -1.1362057680604354,
          0.32635697593225255,
          -0.670844894971853,
          -0.006043647702449296,
          -0.670844894971853,
          -0.13900389715633002,
          2.7196414661021056
         ]
        },
        {
         "name": "San Luis Potosí",
         "type": "box",
         "y": [
          -0.6875244505230401,
          -0.8387798296381089,
          -0.8690309054611227,
          -0.8992819812841365,
          -0.4152647681159161,
          -0.6875244505230401,
          -0.23375831317783347,
          0.371263203282442,
          0.5225185823975108,
          1.581306236202993,
          2.1560766768402546
         ]
        },
        {
         "name": "Sinaloa",
         "type": "box",
         "y": [
          -0.9046835805696823,
          -0.9951519386266506,
          -1.53796208696846,
          -0.45234179028484117,
          0.45234179028484117,
          0.4071076112563571,
          1.4474937289114918,
          1.583196265996944,
          0.09046835805696823,
          0.8594494015411982,
          -0.9499177595981665
         ]
        },
        {
         "name": "Sonora",
         "type": "box",
         "y": [
          -1.575123061296433,
          -1.377107590733453,
          -1.2285959878112178,
          0.08325650466852602,
          0.0585045708481535,
          0.3802797105129963,
          -0.38703023791855196,
          0.7515587178185842,
          0.8258145192797017,
          0.7268067839982116,
          1.741636070633485
         ]
        },
        {
         "name": "Tabasco",
         "type": "box",
         "y": [
          1.247753817767999,
          1.285774017201373,
          0.67745082626739,
          0.5253700285338941,
          0.37328923080039844,
          0.6014104274006421,
          0.031107435900033023,
          -1.755841937468542,
          -0.4631551567338281,
          -1.0714783476678111,
          -1.4516803420015505
         ]
        },
        {
         "name": "Tamaulipas",
         "type": "box",
         "y": [
          0.45122179472321644,
          -1.5577895294015833,
          0.6875760681496635,
          -0.6123724356957952,
          1.6329931618554516,
          -1.5577895294015833,
          -0.37601816226934814,
          -0.4941952989825717,
          0.21486752129676942,
          1.3966388884290046,
          0.21486752129676942
         ]
        },
        {
         "name": "Tlaxcala",
         "type": "box",
         "y": [
          -2.1213203435596424,
          0.1010152544552213,
          -0.7632263669950035,
          -1.2570787221094175,
          0.3479414320124284,
          0.22447834323382485,
          0.22447834323382485,
          0.5948676095696355,
          0.5948676095696355,
          1.8294984973556707,
          0.22447834323382485
         ]
        },
        {
         "name": "Veracruz de Ignacio de la Llave",
         "type": "box",
         "y": [
          -0.12395706503555316,
          1.3001718821506998,
          0.6941595641991029,
          -0.0330552173428136,
          1.6031780411264984,
          -0.42696322401135167,
          -1.790490939402445,
          -1.4874847804266464,
          -0.3966626081137718,
          -0.0330552173428136,
          0.6941595641991029
         ]
        },
        {
         "name": "Yucatán",
         "type": "box",
         "y": [
          0.12032669215168175,
          -0.5763015255685784,
          -1.4819182086049165,
          -1.2380983324028256,
          -0.7504585799986434,
          -0.43697588202452636,
          0.7472920880999159,
          -0.40214447113851337,
          1.130437607846059,
          1.478751716706189,
          1.4090888949341631
         ]
        },
        {
         "name": "Zacatecas",
         "type": "box",
         "y": [
          -1.4140105894890398,
          -0.16807361012014443,
          -1.3336275585620143,
          -0.9719039193903994,
          -0.6503717956822974,
          0.6759482146136233,
          -0.409222702901221,
          0.9170973073946999,
          0.5151821527595724,
          1.2386294311028019,
          1.6003530702744166
         ]
        }
       ],
       "layout": {
        "height": 700,
        "showlegend": false,
        "template": {
         "data": {
          "bar": [
           {
            "error_x": {
             "color": "#2a3f5f"
            },
            "error_y": {
             "color": "#2a3f5f"
            },
            "marker": {
             "line": {
              "color": "#E5ECF6",
              "width": 0.5
             },
             "pattern": {
              "fillmode": "overlay",
              "size": 10,
              "solidity": 0.2
             }
            },
            "type": "bar"
           }
          ],
          "barpolar": [
           {
            "marker": {
             "line": {
              "color": "#E5ECF6",
              "width": 0.5
             },
             "pattern": {
              "fillmode": "overlay",
              "size": 10,
              "solidity": 0.2
             }
            },
            "type": "barpolar"
           }
          ],
          "carpet": [
           {
            "aaxis": {
             "endlinecolor": "#2a3f5f",
             "gridcolor": "white",
             "linecolor": "white",
             "minorgridcolor": "white",
             "startlinecolor": "#2a3f5f"
            },
            "baxis": {
             "endlinecolor": "#2a3f5f",
             "gridcolor": "white",
             "linecolor": "white",
             "minorgridcolor": "white",
             "startlinecolor": "#2a3f5f"
            },
            "type": "carpet"
           }
          ],
          "choropleth": [
           {
            "colorbar": {
             "outlinewidth": 0,
             "ticks": ""
            },
            "type": "choropleth"
           }
          ],
          "contour": [
           {
            "colorbar": {
             "outlinewidth": 0,
             "ticks": ""
            },
            "colorscale": [
             [
              0,
              "#0d0887"
             ],
             [
              0.1111111111111111,
              "#46039f"
             ],
             [
              0.2222222222222222,
              "#7201a8"
             ],
             [
              0.3333333333333333,
              "#9c179e"
             ],
             [
              0.4444444444444444,
              "#bd3786"
             ],
             [
              0.5555555555555556,
              "#d8576b"
             ],
             [
              0.6666666666666666,
              "#ed7953"
             ],
             [
              0.7777777777777778,
              "#fb9f3a"
             ],
             [
              0.8888888888888888,
              "#fdca26"
             ],
             [
              1,
              "#f0f921"
             ]
            ],
            "type": "contour"
           }
          ],
          "contourcarpet": [
           {
            "colorbar": {
             "outlinewidth": 0,
             "ticks": ""
            },
            "type": "contourcarpet"
           }
          ],
          "heatmap": [
           {
            "colorbar": {
             "outlinewidth": 0,
             "ticks": ""
            },
            "colorscale": [
             [
              0,
              "#0d0887"
             ],
             [
              0.1111111111111111,
              "#46039f"
             ],
             [
              0.2222222222222222,
              "#7201a8"
             ],
             [
              0.3333333333333333,
              "#9c179e"
             ],
             [
              0.4444444444444444,
              "#bd3786"
             ],
             [
              0.5555555555555556,
              "#d8576b"
             ],
             [
              0.6666666666666666,
              "#ed7953"
             ],
             [
              0.7777777777777778,
              "#fb9f3a"
             ],
             [
              0.8888888888888888,
              "#fdca26"
             ],
             [
              1,
              "#f0f921"
             ]
            ],
            "type": "heatmap"
           }
          ],
          "heatmapgl": [
           {
            "colorbar": {
             "outlinewidth": 0,
             "ticks": ""
            },
            "colorscale": [
             [
              0,
              "#0d0887"
             ],
             [
              0.1111111111111111,
              "#46039f"
             ],
             [
              0.2222222222222222,
              "#7201a8"
             ],
             [
              0.3333333333333333,
              "#9c179e"
             ],
             [
              0.4444444444444444,
              "#bd3786"
             ],
             [
              0.5555555555555556,
              "#d8576b"
             ],
             [
              0.6666666666666666,
              "#ed7953"
             ],
             [
              0.7777777777777778,
              "#fb9f3a"
             ],
             [
              0.8888888888888888,
              "#fdca26"
             ],
             [
              1,
              "#f0f921"
             ]
            ],
            "type": "heatmapgl"
           }
          ],
          "histogram": [
           {
            "marker": {
             "pattern": {
              "fillmode": "overlay",
              "size": 10,
              "solidity": 0.2
             }
            },
            "type": "histogram"
           }
          ],
          "histogram2d": [
           {
            "colorbar": {
             "outlinewidth": 0,
             "ticks": ""
            },
            "colorscale": [
             [
              0,
              "#0d0887"
             ],
             [
              0.1111111111111111,
              "#46039f"
             ],
             [
              0.2222222222222222,
              "#7201a8"
             ],
             [
              0.3333333333333333,
              "#9c179e"
             ],
             [
              0.4444444444444444,
              "#bd3786"
             ],
             [
              0.5555555555555556,
              "#d8576b"
             ],
             [
              0.6666666666666666,
              "#ed7953"
             ],
             [
              0.7777777777777778,
              "#fb9f3a"
             ],
             [
              0.8888888888888888,
              "#fdca26"
             ],
             [
              1,
              "#f0f921"
             ]
            ],
            "type": "histogram2d"
           }
          ],
          "histogram2dcontour": [
           {
            "colorbar": {
             "outlinewidth": 0,
             "ticks": ""
            },
            "colorscale": [
             [
              0,
              "#0d0887"
             ],
             [
              0.1111111111111111,
              "#46039f"
             ],
             [
              0.2222222222222222,
              "#7201a8"
             ],
             [
              0.3333333333333333,
              "#9c179e"
             ],
             [
              0.4444444444444444,
              "#bd3786"
             ],
             [
              0.5555555555555556,
              "#d8576b"
             ],
             [
              0.6666666666666666,
              "#ed7953"
             ],
             [
              0.7777777777777778,
              "#fb9f3a"
             ],
             [
              0.8888888888888888,
              "#fdca26"
             ],
             [
              1,
              "#f0f921"
             ]
            ],
            "type": "histogram2dcontour"
           }
          ],
          "mesh3d": [
           {
            "colorbar": {
             "outlinewidth": 0,
             "ticks": ""
            },
            "type": "mesh3d"
           }
          ],
          "parcoords": [
           {
            "line": {
             "colorbar": {
              "outlinewidth": 0,
              "ticks": ""
             }
            },
            "type": "parcoords"
           }
          ],
          "pie": [
           {
            "automargin": true,
            "type": "pie"
           }
          ],
          "scatter": [
           {
            "marker": {
             "colorbar": {
              "outlinewidth": 0,
              "ticks": ""
             }
            },
            "type": "scatter"
           }
          ],
          "scatter3d": [
           {
            "line": {
             "colorbar": {
              "outlinewidth": 0,
              "ticks": ""
             }
            },
            "marker": {
             "colorbar": {
              "outlinewidth": 0,
              "ticks": ""
             }
            },
            "type": "scatter3d"
           }
          ],
          "scattercarpet": [
           {
            "marker": {
             "colorbar": {
              "outlinewidth": 0,
              "ticks": ""
             }
            },
            "type": "scattercarpet"
           }
          ],
          "scattergeo": [
           {
            "marker": {
             "colorbar": {
              "outlinewidth": 0,
              "ticks": ""
             }
            },
            "type": "scattergeo"
           }
          ],
          "scattergl": [
           {
            "marker": {
             "colorbar": {
              "outlinewidth": 0,
              "ticks": ""
             }
            },
            "type": "scattergl"
           }
          ],
          "scattermapbox": [
           {
            "marker": {
             "colorbar": {
              "outlinewidth": 0,
              "ticks": ""
             }
            },
            "type": "scattermapbox"
           }
          ],
          "scatterpolar": [
           {
            "marker": {
             "colorbar": {
              "outlinewidth": 0,
              "ticks": ""
             }
            },
            "type": "scatterpolar"
           }
          ],
          "scatterpolargl": [
           {
            "marker": {
             "colorbar": {
              "outlinewidth": 0,
              "ticks": ""
             }
            },
            "type": "scatterpolargl"
           }
          ],
          "scatterternary": [
           {
            "marker": {
             "colorbar": {
              "outlinewidth": 0,
              "ticks": ""
             }
            },
            "type": "scatterternary"
           }
          ],
          "surface": [
           {
            "colorbar": {
             "outlinewidth": 0,
             "ticks": ""
            },
            "colorscale": [
             [
              0,
              "#0d0887"
             ],
             [
              0.1111111111111111,
              "#46039f"
             ],
             [
              0.2222222222222222,
              "#7201a8"
             ],
             [
              0.3333333333333333,
              "#9c179e"
             ],
             [
              0.4444444444444444,
              "#bd3786"
             ],
             [
              0.5555555555555556,
              "#d8576b"
             ],
             [
              0.6666666666666666,
              "#ed7953"
             ],
             [
              0.7777777777777778,
              "#fb9f3a"
             ],
             [
              0.8888888888888888,
              "#fdca26"
             ],
             [
              1,
              "#f0f921"
             ]
            ],
            "type": "surface"
           }
          ],
          "table": [
           {
            "cells": {
             "fill": {
              "color": "#EBF0F8"
             },
             "line": {
              "color": "white"
             }
            },
            "header": {
             "fill": {
              "color": "#C8D4E3"
             },
             "line": {
              "color": "white"
             }
            },
            "type": "table"
           }
          ]
         },
         "layout": {
          "annotationdefaults": {
           "arrowcolor": "#2a3f5f",
           "arrowhead": 0,
           "arrowwidth": 1
          },
          "autotypenumbers": "strict",
          "coloraxis": {
           "colorbar": {
            "outlinewidth": 0,
            "ticks": ""
           }
          },
          "colorscale": {
           "diverging": [
            [
             0,
             "#8e0152"
            ],
            [
             0.1,
             "#c51b7d"
            ],
            [
             0.2,
             "#de77ae"
            ],
            [
             0.3,
             "#f1b6da"
            ],
            [
             0.4,
             "#fde0ef"
            ],
            [
             0.5,
             "#f7f7f7"
            ],
            [
             0.6,
             "#e6f5d0"
            ],
            [
             0.7,
             "#b8e186"
            ],
            [
             0.8,
             "#7fbc41"
            ],
            [
             0.9,
             "#4d9221"
            ],
            [
             1,
             "#276419"
            ]
           ],
           "sequential": [
            [
             0,
             "#0d0887"
            ],
            [
             0.1111111111111111,
             "#46039f"
            ],
            [
             0.2222222222222222,
             "#7201a8"
            ],
            [
             0.3333333333333333,
             "#9c179e"
            ],
            [
             0.4444444444444444,
             "#bd3786"
            ],
            [
             0.5555555555555556,
             "#d8576b"
            ],
            [
             0.6666666666666666,
             "#ed7953"
            ],
            [
             0.7777777777777778,
             "#fb9f3a"
            ],
            [
             0.8888888888888888,
             "#fdca26"
            ],
            [
             1,
             "#f0f921"
            ]
           ],
           "sequentialminus": [
            [
             0,
             "#0d0887"
            ],
            [
             0.1111111111111111,
             "#46039f"
            ],
            [
             0.2222222222222222,
             "#7201a8"
            ],
            [
             0.3333333333333333,
             "#9c179e"
            ],
            [
             0.4444444444444444,
             "#bd3786"
            ],
            [
             0.5555555555555556,
             "#d8576b"
            ],
            [
             0.6666666666666666,
             "#ed7953"
            ],
            [
             0.7777777777777778,
             "#fb9f3a"
            ],
            [
             0.8888888888888888,
             "#fdca26"
            ],
            [
             1,
             "#f0f921"
            ]
           ]
          },
          "colorway": [
           "#636efa",
           "#EF553B",
           "#00cc96",
           "#ab63fa",
           "#FFA15A",
           "#19d3f3",
           "#FF6692",
           "#B6E880",
           "#FF97FF",
           "#FECB52"
          ],
          "font": {
           "color": "#2a3f5f"
          },
          "geo": {
           "bgcolor": "white",
           "lakecolor": "white",
           "landcolor": "#E5ECF6",
           "showlakes": true,
           "showland": true,
           "subunitcolor": "white"
          },
          "hoverlabel": {
           "align": "left"
          },
          "hovermode": "closest",
          "mapbox": {
           "style": "light"
          },
          "paper_bgcolor": "white",
          "plot_bgcolor": "#E5ECF6",
          "polar": {
           "angularaxis": {
            "gridcolor": "white",
            "linecolor": "white",
            "ticks": ""
           },
           "bgcolor": "#E5ECF6",
           "radialaxis": {
            "gridcolor": "white",
            "linecolor": "white",
            "ticks": ""
           }
          },
          "scene": {
           "xaxis": {
            "backgroundcolor": "#E5ECF6",
            "gridcolor": "white",
            "gridwidth": 2,
            "linecolor": "white",
            "showbackground": true,
            "ticks": "",
            "zerolinecolor": "white"
           },
           "yaxis": {
            "backgroundcolor": "#E5ECF6",
            "gridcolor": "white",
            "gridwidth": 2,
            "linecolor": "white",
            "showbackground": true,
            "ticks": "",
            "zerolinecolor": "white"
           },
           "zaxis": {
            "backgroundcolor": "#E5ECF6",
            "gridcolor": "white",
            "gridwidth": 2,
            "linecolor": "white",
            "showbackground": true,
            "ticks": "",
            "zerolinecolor": "white"
           }
          },
          "shapedefaults": {
           "line": {
            "color": "#2a3f5f"
           }
          },
          "ternary": {
           "aaxis": {
            "gridcolor": "white",
            "linecolor": "white",
            "ticks": ""
           },
           "baxis": {
            "gridcolor": "white",
            "linecolor": "white",
            "ticks": ""
           },
           "bgcolor": "#E5ECF6",
           "caxis": {
            "gridcolor": "white",
            "linecolor": "white",
            "ticks": ""
           }
          },
          "title": {
           "x": 0.05
          },
          "xaxis": {
           "automargin": true,
           "gridcolor": "white",
           "linecolor": "white",
           "ticks": "",
           "title": {
            "standoff": 15
           },
           "zerolinecolor": "white",
           "zerolinewidth": 2
          },
          "yaxis": {
           "automargin": true,
           "gridcolor": "white",
           "linecolor": "white",
           "ticks": "",
           "title": {
            "standoff": 15
           },
           "zerolinecolor": "white",
           "zerolinewidth": 2
          }
         }
        },
        "title": {
         "text": "Total Suicides Boxplot per entity (standarized)",
         "x": 0.5
        },
        "yaxis": {
         "title": {
          "text": "Count"
         }
        }
       }
      }
     },
     "metadata": {}
    }
   ],
   "metadata": {}
  },
  {
   "cell_type": "code",
   "execution_count": 67,
   "source": [
    "years = [i for i in range(2010,2021)]\r\n",
    "medianas = []\r\n",
    "colors = px.colors.qualitative.Prism\r\n",
    "\r\n",
    "# Show figure\r\n",
    "fig = go.Figure()\r\n",
    "\r\n",
    "for year,color in zip(years,colors):\r\n",
    "    data = df['{}_Total'.format(year)]\r\n",
    "    #standarized = data = (data - np.mean(data)) / np.std(data)\r\n",
    "    fig.add_trace(go.Box(y=data, name=year, boxmean='sd',boxpoints='all', text='median',marker_color=color,line_color=color,\r\n",
    "                #marker_color = 'indianred'\r\n",
    "                 ))\r\n",
    "    \r\n",
    "    medianas.append(statistics.median(data))\r\n",
    "    \r\n",
    "\r\n",
    "    fig.add_trace(go.Scatter(x=[year], y=[statistics.median(data)],\r\n",
    "                            text=round(statistics.median(data)),\r\n",
    "                            textposition='bottom center',\r\n",
    "                            mode='text+markers',\r\n",
    "                            hovertemplate=\r\n",
    "                            '<b>Year</b>: %{x}<br>',\r\n",
    "                            marker=dict(color=[color])\r\n",
    "                            ))\r\n",
    "    \r\n",
    "\r\n",
    "\"\"\"trace='Total' \r\n",
    "fig.add_trace(go.Scatter(x=years, y=medianas,\r\n",
    "                            #text=medianas,\r\n",
    "                            #textposition='top center',\r\n",
    "                            mode='lines',\r\n",
    "                            #hovertemplate=\r\n",
    "                            #'<b>Year</b>: %{x}<br>',\r\n",
    "                            opacity=0.4\r\n",
    "                            ))\"\"\"\r\n",
    "\r\n",
    "    \r\n",
    "fig.update_layout(title=f\"Figure 5. Mexican Suicides Boxplot from 2010 to 2020\")\r\n",
    "fig.update_layout(showlegend=False, height=700)\r\n",
    "fig.update_layout(\r\n",
    "                yaxis_title='Number of Suicides per Entity',\r\n",
    "                    )\r\n",
    "#pio.write_html(fig, file='suicidios_2010_2020.html', include_plotlyjs='cdn', full_html=False)\r\n",
    "fig.show()"
   ],
   "outputs": [
    {
     "output_type": "display_data",
     "data": {
      "application/vnd.plotly.v1+json": {
       "config": {
        "plotlyServerURL": "https://plot.ly"
       },
       "data": [
        {
         "boxmean": "sd",
         "boxpoints": "all",
         "line": {
          "color": "rgb(95, 70, 144)"
         },
         "marker": {
          "color": "rgb(95, 70, 144)"
         },
         "name": "2010",
         "text": "median",
         "type": "box",
         "y": [
          50,
          107,
          45,
          62,
          169,
          31,
          88,
          234,
          375,
          94,
          283,
          91,
          56,
          399,
          537,
          151,
          45,
          46,
          238,
          131,
          205,
          85,
          132,
          164,
          113,
          170,
          187,
          166,
          33,
          262,
          206,
          51
         ]
        },
        {
         "hovertemplate": "<b>Year</b>: %{x}<br>",
         "marker": {
          "color": [
           "rgb(95, 70, 144)"
          ]
         },
         "mode": "text+markers",
         "text": "132",
         "textposition": "bottom center",
         "type": "scatter",
         "x": [
          2010
         ],
         "y": [
          131.5
         ]
        },
        {
         "boxmean": "sd",
         "boxpoints": "all",
         "line": {
          "color": "rgb(29, 105, 150)"
         },
         "marker": {
          "color": "rgb(29, 105, 150)"
         },
         "name": "2011",
         "text": "median",
         "type": "box",
         "y": [
          98,
          149,
          30,
          81,
          169,
          48,
          230,
          289,
          413,
          86,
          358,
          90,
          113,
          453,
          600,
          150,
          61,
          46,
          218,
          142,
          256,
          98,
          121,
          159,
          111,
          178,
          188,
          149,
          51,
          309,
          186,
          82
         ]
        },
        {
         "hovertemplate": "<b>Year</b>: %{x}<br>",
         "marker": {
          "color": [
           "rgb(29, 105, 150)"
          ]
         },
         "mode": "text+markers",
         "text": "149",
         "textposition": "bottom center",
         "type": "scatter",
         "x": [
          2011
         ],
         "y": [
          149
         ]
        },
        {
         "boxmean": "sd",
         "boxpoints": "all",
         "line": {
          "color": "rgb(56, 166, 165)"
         },
         "marker": {
          "color": "rgb(56, 166, 165)"
         },
         "name": "2012",
         "text": "median",
         "type": "box",
         "y": [
          116,
          113,
          44,
          63,
          150,
          46,
          189,
          266,
          426,
          76,
          338,
          90,
          102,
          507,
          598,
          147,
          62,
          50,
          229,
          124,
          216,
          115,
          144,
          158,
          99,
          184,
          172,
          168,
          44,
          289,
          160,
          53
         ]
        },
        {
         "hovertemplate": "<b>Year</b>: %{x}<br>",
         "marker": {
          "color": [
           "rgb(56, 166, 165)"
          ]
         },
         "mode": "text+markers",
         "text": "146",
         "textposition": "bottom center",
         "type": "scatter",
         "x": [
          2012
         ],
         "y": [
          145.5
         ]
        },
        {
         "boxmean": "sd",
         "boxpoints": "all",
         "line": {
          "color": "rgb(15, 133, 84)"
         },
         "marker": {
          "color": "rgb(15, 133, 84)"
         },
         "name": "2013",
         "text": "median",
         "type": "box",
         "y": [
          113,
          123,
          50,
          77,
          174,
          52,
          315,
          310,
          425,
          90,
          351,
          104,
          112,
          481,
          620,
          142,
          65,
          54,
          245,
          121,
          240,
          112,
          137,
          157,
          123,
          237,
          168,
          157,
          40,
          265,
          167,
          62
         ]
        },
        {
         "hovertemplate": "<b>Year</b>: %{x}<br>",
         "marker": {
          "color": [
           "rgb(15, 133, 84)"
          ]
         },
         "mode": "text+markers",
         "text": "140",
         "textposition": "bottom center",
         "type": "scatter",
         "x": [
          2013
         ],
         "y": [
          139.5
         ]
        },
        {
         "boxmean": "sd",
         "boxpoints": "all",
         "line": {
          "color": "rgb(115, 175, 72)"
         },
         "marker": {
          "color": "rgb(115, 175, 72)"
         },
         "name": "2014",
         "text": "median",
         "type": "box",
         "y": [
          110,
          181,
          59,
          92,
          174,
          42,
          321,
          326,
          434,
          104,
          422,
          81,
          126,
          506,
          670,
          192,
          54,
          81,
          220,
          132,
          277,
          80,
          118,
          173,
          143,
          236,
          164,
          176,
          53,
          319,
          181,
          70
         ]
        },
        {
         "hovertemplate": "<b>Year</b>: %{x}<br>",
         "marker": {
          "color": [
           "rgb(115, 175, 72)"
          ]
         },
         "mode": "text+markers",
         "text": "168",
         "textposition": "bottom center",
         "type": "scatter",
         "x": [
          2014
         ],
         "y": [
          168.5
         ]
        },
        {
         "boxmean": "sd",
         "boxpoints": "all",
         "line": {
          "color": "rgb(237, 173, 8)"
         },
         "marker": {
          "color": "rgb(237, 173, 8)"
         },
         "name": "2015",
         "text": "median",
         "type": "box",
         "y": [
          124,
          150,
          57,
          86,
          181,
          54,
          316,
          421,
          369,
          116,
          466,
          73,
          117,
          527,
          667,
          169,
          44,
          75,
          253,
          156,
          268,
          110,
          140,
          164,
          142,
          249,
          170,
          149,
          52,
          252,
          190,
          103
         ]
        },
        {
         "hovertemplate": "<b>Year</b>: %{x}<br>",
         "marker": {
          "color": [
           "rgb(237, 173, 8)"
          ]
         },
         "mode": "text+markers",
         "text": "153",
         "textposition": "bottom center",
         "type": "scatter",
         "x": [
          2015
         ],
         "y": [
          153
         ]
        },
        {
         "boxmean": "sd",
         "boxpoints": "all",
         "line": {
          "color": "rgb(225, 124, 5)"
         },
         "marker": {
          "color": "rgb(225, 124, 5)"
         },
         "name": "2016",
         "text": "median",
         "type": "box",
         "y": [
          125,
          170,
          55,
          87,
          171,
          66,
          272,
          438,
          377,
          114,
          459,
          83,
          113,
          597,
          579,
          182,
          87,
          79,
          292,
          114,
          226,
          102,
          125,
          179,
          165,
          218,
          155,
          159,
          52,
          207,
          224,
          76
         ]
        },
        {
         "hovertemplate": "<b>Year</b>: %{x}<br>",
         "marker": {
          "color": [
           "rgb(225, 124, 5)"
          ]
         },
         "mode": "text+markers",
         "text": "162",
         "textposition": "bottom center",
         "type": "scatter",
         "x": [
          2016
         ],
         "y": [
          162
         ]
        },
        {
         "boxmean": "sd",
         "boxpoints": "all",
         "line": {
          "color": "rgb(204, 80, 62)"
         },
         "marker": {
          "color": "rgb(204, 80, 62)"
         },
         "name": "2017",
         "text": "median",
         "type": "box",
         "y": [
          140,
          166,
          47,
          74,
          201,
          46,
          262,
          405,
          302,
          124,
          494,
          73,
          116,
          658,
          570,
          206,
          71,
          72,
          270,
          129,
          302,
          137,
          135,
          199,
          168,
          264,
          108,
          158,
          55,
          217,
          191,
          109
         ]
        },
        {
         "hovertemplate": "<b>Year</b>: %{x}<br>",
         "marker": {
          "color": [
           "rgb(204, 80, 62)"
          ]
         },
         "mode": "text+markers",
         "text": "162",
         "textposition": "bottom center",
         "type": "scatter",
         "x": [
          2017
         ],
         "y": [
          162
         ]
        },
        {
         "boxmean": "sd",
         "boxpoints": "all",
         "line": {
          "color": "rgb(148, 52, 110)"
         },
         "marker": {
          "color": "rgb(148, 52, 110)"
         },
         "name": "2018",
         "text": "median",
         "type": "box",
         "y": [
          140,
          194,
          57,
          69,
          216,
          51,
          147,
          365,
          227,
          122,
          504,
          63,
          109,
          630,
          584,
          245,
          88,
          66,
          317,
          140,
          319,
          138,
          125,
          204,
          135,
          267,
          142,
          164,
          55,
          253,
          235,
          99
         ]
        },
        {
         "hovertemplate": "<b>Year</b>: %{x}<br>",
         "marker": {
          "color": [
           "rgb(148, 52, 110)"
          ]
         },
         "mode": "text+markers",
         "text": "144",
         "textposition": "bottom center",
         "type": "scatter",
         "x": [
          2018
         ],
         "y": [
          144.5
         ]
        },
        {
         "boxmean": "sd",
         "boxpoints": "all",
         "line": {
          "color": "rgb(111, 64, 112)"
         },
         "marker": {
          "color": "rgb(111, 64, 112)"
         },
         "name": "2019",
         "text": "median",
         "type": "box",
         "y": [
          157,
          169,
          59,
          95,
          261,
          39,
          200,
          400,
          234,
          127,
          493,
          77,
          117,
          605,
          715,
          334,
          90,
          77,
          318,
          166,
          345,
          175,
          133,
          239,
          152,
          263,
          126,
          174,
          65,
          265,
          245,
          117
         ]
        },
        {
         "hovertemplate": "<b>Year</b>: %{x}<br>",
         "marker": {
          "color": [
           "rgb(111, 64, 112)"
          ]
         },
         "mode": "text+markers",
         "text": "172",
         "textposition": "bottom center",
         "type": "scatter",
         "x": [
          2019
         ],
         "y": [
          171.5
         ]
        },
        {
         "boxmean": "sd",
         "boxpoints": "all",
         "line": {
          "color": "rgb(102, 102, 102)"
         },
         "marker": {
          "color": "rgb(102, 102, 102)"
         },
         "name": "2020",
         "text": "median",
         "type": "box",
         "y": [
          181,
          97,
          67,
          70,
          273,
          50,
          200,
          541,
          450,
          115,
          501,
          50,
          132,
          655,
          832,
          376,
          106,
          91,
          351,
          214,
          336,
          200,
          176,
          258,
          112,
          304,
          116,
          164,
          52,
          289,
          243,
          126
         ]
        },
        {
         "hovertemplate": "<b>Year</b>: %{x}<br>",
         "marker": {
          "color": [
           "rgb(102, 102, 102)"
          ]
         },
         "mode": "text+markers",
         "text": "190",
         "textposition": "bottom center",
         "type": "scatter",
         "x": [
          2020
         ],
         "y": [
          190.5
         ]
        }
       ],
       "layout": {
        "height": 700,
        "showlegend": false,
        "template": {
         "data": {
          "bar": [
           {
            "error_x": {
             "color": "#2a3f5f"
            },
            "error_y": {
             "color": "#2a3f5f"
            },
            "marker": {
             "line": {
              "color": "#E5ECF6",
              "width": 0.5
             },
             "pattern": {
              "fillmode": "overlay",
              "size": 10,
              "solidity": 0.2
             }
            },
            "type": "bar"
           }
          ],
          "barpolar": [
           {
            "marker": {
             "line": {
              "color": "#E5ECF6",
              "width": 0.5
             },
             "pattern": {
              "fillmode": "overlay",
              "size": 10,
              "solidity": 0.2
             }
            },
            "type": "barpolar"
           }
          ],
          "carpet": [
           {
            "aaxis": {
             "endlinecolor": "#2a3f5f",
             "gridcolor": "white",
             "linecolor": "white",
             "minorgridcolor": "white",
             "startlinecolor": "#2a3f5f"
            },
            "baxis": {
             "endlinecolor": "#2a3f5f",
             "gridcolor": "white",
             "linecolor": "white",
             "minorgridcolor": "white",
             "startlinecolor": "#2a3f5f"
            },
            "type": "carpet"
           }
          ],
          "choropleth": [
           {
            "colorbar": {
             "outlinewidth": 0,
             "ticks": ""
            },
            "type": "choropleth"
           }
          ],
          "contour": [
           {
            "colorbar": {
             "outlinewidth": 0,
             "ticks": ""
            },
            "colorscale": [
             [
              0,
              "#0d0887"
             ],
             [
              0.1111111111111111,
              "#46039f"
             ],
             [
              0.2222222222222222,
              "#7201a8"
             ],
             [
              0.3333333333333333,
              "#9c179e"
             ],
             [
              0.4444444444444444,
              "#bd3786"
             ],
             [
              0.5555555555555556,
              "#d8576b"
             ],
             [
              0.6666666666666666,
              "#ed7953"
             ],
             [
              0.7777777777777778,
              "#fb9f3a"
             ],
             [
              0.8888888888888888,
              "#fdca26"
             ],
             [
              1,
              "#f0f921"
             ]
            ],
            "type": "contour"
           }
          ],
          "contourcarpet": [
           {
            "colorbar": {
             "outlinewidth": 0,
             "ticks": ""
            },
            "type": "contourcarpet"
           }
          ],
          "heatmap": [
           {
            "colorbar": {
             "outlinewidth": 0,
             "ticks": ""
            },
            "colorscale": [
             [
              0,
              "#0d0887"
             ],
             [
              0.1111111111111111,
              "#46039f"
             ],
             [
              0.2222222222222222,
              "#7201a8"
             ],
             [
              0.3333333333333333,
              "#9c179e"
             ],
             [
              0.4444444444444444,
              "#bd3786"
             ],
             [
              0.5555555555555556,
              "#d8576b"
             ],
             [
              0.6666666666666666,
              "#ed7953"
             ],
             [
              0.7777777777777778,
              "#fb9f3a"
             ],
             [
              0.8888888888888888,
              "#fdca26"
             ],
             [
              1,
              "#f0f921"
             ]
            ],
            "type": "heatmap"
           }
          ],
          "heatmapgl": [
           {
            "colorbar": {
             "outlinewidth": 0,
             "ticks": ""
            },
            "colorscale": [
             [
              0,
              "#0d0887"
             ],
             [
              0.1111111111111111,
              "#46039f"
             ],
             [
              0.2222222222222222,
              "#7201a8"
             ],
             [
              0.3333333333333333,
              "#9c179e"
             ],
             [
              0.4444444444444444,
              "#bd3786"
             ],
             [
              0.5555555555555556,
              "#d8576b"
             ],
             [
              0.6666666666666666,
              "#ed7953"
             ],
             [
              0.7777777777777778,
              "#fb9f3a"
             ],
             [
              0.8888888888888888,
              "#fdca26"
             ],
             [
              1,
              "#f0f921"
             ]
            ],
            "type": "heatmapgl"
           }
          ],
          "histogram": [
           {
            "marker": {
             "pattern": {
              "fillmode": "overlay",
              "size": 10,
              "solidity": 0.2
             }
            },
            "type": "histogram"
           }
          ],
          "histogram2d": [
           {
            "colorbar": {
             "outlinewidth": 0,
             "ticks": ""
            },
            "colorscale": [
             [
              0,
              "#0d0887"
             ],
             [
              0.1111111111111111,
              "#46039f"
             ],
             [
              0.2222222222222222,
              "#7201a8"
             ],
             [
              0.3333333333333333,
              "#9c179e"
             ],
             [
              0.4444444444444444,
              "#bd3786"
             ],
             [
              0.5555555555555556,
              "#d8576b"
             ],
             [
              0.6666666666666666,
              "#ed7953"
             ],
             [
              0.7777777777777778,
              "#fb9f3a"
             ],
             [
              0.8888888888888888,
              "#fdca26"
             ],
             [
              1,
              "#f0f921"
             ]
            ],
            "type": "histogram2d"
           }
          ],
          "histogram2dcontour": [
           {
            "colorbar": {
             "outlinewidth": 0,
             "ticks": ""
            },
            "colorscale": [
             [
              0,
              "#0d0887"
             ],
             [
              0.1111111111111111,
              "#46039f"
             ],
             [
              0.2222222222222222,
              "#7201a8"
             ],
             [
              0.3333333333333333,
              "#9c179e"
             ],
             [
              0.4444444444444444,
              "#bd3786"
             ],
             [
              0.5555555555555556,
              "#d8576b"
             ],
             [
              0.6666666666666666,
              "#ed7953"
             ],
             [
              0.7777777777777778,
              "#fb9f3a"
             ],
             [
              0.8888888888888888,
              "#fdca26"
             ],
             [
              1,
              "#f0f921"
             ]
            ],
            "type": "histogram2dcontour"
           }
          ],
          "mesh3d": [
           {
            "colorbar": {
             "outlinewidth": 0,
             "ticks": ""
            },
            "type": "mesh3d"
           }
          ],
          "parcoords": [
           {
            "line": {
             "colorbar": {
              "outlinewidth": 0,
              "ticks": ""
             }
            },
            "type": "parcoords"
           }
          ],
          "pie": [
           {
            "automargin": true,
            "type": "pie"
           }
          ],
          "scatter": [
           {
            "marker": {
             "colorbar": {
              "outlinewidth": 0,
              "ticks": ""
             }
            },
            "type": "scatter"
           }
          ],
          "scatter3d": [
           {
            "line": {
             "colorbar": {
              "outlinewidth": 0,
              "ticks": ""
             }
            },
            "marker": {
             "colorbar": {
              "outlinewidth": 0,
              "ticks": ""
             }
            },
            "type": "scatter3d"
           }
          ],
          "scattercarpet": [
           {
            "marker": {
             "colorbar": {
              "outlinewidth": 0,
              "ticks": ""
             }
            },
            "type": "scattercarpet"
           }
          ],
          "scattergeo": [
           {
            "marker": {
             "colorbar": {
              "outlinewidth": 0,
              "ticks": ""
             }
            },
            "type": "scattergeo"
           }
          ],
          "scattergl": [
           {
            "marker": {
             "colorbar": {
              "outlinewidth": 0,
              "ticks": ""
             }
            },
            "type": "scattergl"
           }
          ],
          "scattermapbox": [
           {
            "marker": {
             "colorbar": {
              "outlinewidth": 0,
              "ticks": ""
             }
            },
            "type": "scattermapbox"
           }
          ],
          "scatterpolar": [
           {
            "marker": {
             "colorbar": {
              "outlinewidth": 0,
              "ticks": ""
             }
            },
            "type": "scatterpolar"
           }
          ],
          "scatterpolargl": [
           {
            "marker": {
             "colorbar": {
              "outlinewidth": 0,
              "ticks": ""
             }
            },
            "type": "scatterpolargl"
           }
          ],
          "scatterternary": [
           {
            "marker": {
             "colorbar": {
              "outlinewidth": 0,
              "ticks": ""
             }
            },
            "type": "scatterternary"
           }
          ],
          "surface": [
           {
            "colorbar": {
             "outlinewidth": 0,
             "ticks": ""
            },
            "colorscale": [
             [
              0,
              "#0d0887"
             ],
             [
              0.1111111111111111,
              "#46039f"
             ],
             [
              0.2222222222222222,
              "#7201a8"
             ],
             [
              0.3333333333333333,
              "#9c179e"
             ],
             [
              0.4444444444444444,
              "#bd3786"
             ],
             [
              0.5555555555555556,
              "#d8576b"
             ],
             [
              0.6666666666666666,
              "#ed7953"
             ],
             [
              0.7777777777777778,
              "#fb9f3a"
             ],
             [
              0.8888888888888888,
              "#fdca26"
             ],
             [
              1,
              "#f0f921"
             ]
            ],
            "type": "surface"
           }
          ],
          "table": [
           {
            "cells": {
             "fill": {
              "color": "#EBF0F8"
             },
             "line": {
              "color": "white"
             }
            },
            "header": {
             "fill": {
              "color": "#C8D4E3"
             },
             "line": {
              "color": "white"
             }
            },
            "type": "table"
           }
          ]
         },
         "layout": {
          "annotationdefaults": {
           "arrowcolor": "#2a3f5f",
           "arrowhead": 0,
           "arrowwidth": 1
          },
          "autotypenumbers": "strict",
          "coloraxis": {
           "colorbar": {
            "outlinewidth": 0,
            "ticks": ""
           }
          },
          "colorscale": {
           "diverging": [
            [
             0,
             "#8e0152"
            ],
            [
             0.1,
             "#c51b7d"
            ],
            [
             0.2,
             "#de77ae"
            ],
            [
             0.3,
             "#f1b6da"
            ],
            [
             0.4,
             "#fde0ef"
            ],
            [
             0.5,
             "#f7f7f7"
            ],
            [
             0.6,
             "#e6f5d0"
            ],
            [
             0.7,
             "#b8e186"
            ],
            [
             0.8,
             "#7fbc41"
            ],
            [
             0.9,
             "#4d9221"
            ],
            [
             1,
             "#276419"
            ]
           ],
           "sequential": [
            [
             0,
             "#0d0887"
            ],
            [
             0.1111111111111111,
             "#46039f"
            ],
            [
             0.2222222222222222,
             "#7201a8"
            ],
            [
             0.3333333333333333,
             "#9c179e"
            ],
            [
             0.4444444444444444,
             "#bd3786"
            ],
            [
             0.5555555555555556,
             "#d8576b"
            ],
            [
             0.6666666666666666,
             "#ed7953"
            ],
            [
             0.7777777777777778,
             "#fb9f3a"
            ],
            [
             0.8888888888888888,
             "#fdca26"
            ],
            [
             1,
             "#f0f921"
            ]
           ],
           "sequentialminus": [
            [
             0,
             "#0d0887"
            ],
            [
             0.1111111111111111,
             "#46039f"
            ],
            [
             0.2222222222222222,
             "#7201a8"
            ],
            [
             0.3333333333333333,
             "#9c179e"
            ],
            [
             0.4444444444444444,
             "#bd3786"
            ],
            [
             0.5555555555555556,
             "#d8576b"
            ],
            [
             0.6666666666666666,
             "#ed7953"
            ],
            [
             0.7777777777777778,
             "#fb9f3a"
            ],
            [
             0.8888888888888888,
             "#fdca26"
            ],
            [
             1,
             "#f0f921"
            ]
           ]
          },
          "colorway": [
           "#636efa",
           "#EF553B",
           "#00cc96",
           "#ab63fa",
           "#FFA15A",
           "#19d3f3",
           "#FF6692",
           "#B6E880",
           "#FF97FF",
           "#FECB52"
          ],
          "font": {
           "color": "#2a3f5f"
          },
          "geo": {
           "bgcolor": "white",
           "lakecolor": "white",
           "landcolor": "#E5ECF6",
           "showlakes": true,
           "showland": true,
           "subunitcolor": "white"
          },
          "hoverlabel": {
           "align": "left"
          },
          "hovermode": "closest",
          "mapbox": {
           "style": "light"
          },
          "paper_bgcolor": "white",
          "plot_bgcolor": "#E5ECF6",
          "polar": {
           "angularaxis": {
            "gridcolor": "white",
            "linecolor": "white",
            "ticks": ""
           },
           "bgcolor": "#E5ECF6",
           "radialaxis": {
            "gridcolor": "white",
            "linecolor": "white",
            "ticks": ""
           }
          },
          "scene": {
           "xaxis": {
            "backgroundcolor": "#E5ECF6",
            "gridcolor": "white",
            "gridwidth": 2,
            "linecolor": "white",
            "showbackground": true,
            "ticks": "",
            "zerolinecolor": "white"
           },
           "yaxis": {
            "backgroundcolor": "#E5ECF6",
            "gridcolor": "white",
            "gridwidth": 2,
            "linecolor": "white",
            "showbackground": true,
            "ticks": "",
            "zerolinecolor": "white"
           },
           "zaxis": {
            "backgroundcolor": "#E5ECF6",
            "gridcolor": "white",
            "gridwidth": 2,
            "linecolor": "white",
            "showbackground": true,
            "ticks": "",
            "zerolinecolor": "white"
           }
          },
          "shapedefaults": {
           "line": {
            "color": "#2a3f5f"
           }
          },
          "ternary": {
           "aaxis": {
            "gridcolor": "white",
            "linecolor": "white",
            "ticks": ""
           },
           "baxis": {
            "gridcolor": "white",
            "linecolor": "white",
            "ticks": ""
           },
           "bgcolor": "#E5ECF6",
           "caxis": {
            "gridcolor": "white",
            "linecolor": "white",
            "ticks": ""
           }
          },
          "title": {
           "x": 0.05
          },
          "xaxis": {
           "automargin": true,
           "gridcolor": "white",
           "linecolor": "white",
           "ticks": "",
           "title": {
            "standoff": 15
           },
           "zerolinecolor": "white",
           "zerolinewidth": 2
          },
          "yaxis": {
           "automargin": true,
           "gridcolor": "white",
           "linecolor": "white",
           "ticks": "",
           "title": {
            "standoff": 15
           },
           "zerolinecolor": "white",
           "zerolinewidth": 2
          }
         }
        },
        "title": {
         "text": "Figure 5. Mexican Suicides Boxplot from 2010 to 2020"
        },
        "yaxis": {
         "title": {
          "text": "Number of Suicides per Entity"
         }
        }
       }
      }
     },
     "metadata": {}
    }
   ],
   "metadata": {}
  },
  {
   "cell_type": "markdown",
   "source": [
    "## Line plot"
   ],
   "metadata": {}
  },
  {
   "cell_type": "code",
   "execution_count": 68,
   "source": [
    "fig = go.Figure()\r\n",
    "\r\n",
    "traces = ['Total','Hombres','Mujeres']\r\n",
    "names = ['Total','Men','Women']\r\n",
    "for trace,name in zip(traces,names):\r\n",
    "    fig.add_trace(go.Scatter(x=anual.Año, y=anual[trace],\r\n",
    "                            text=anual[trace],\r\n",
    "                            textposition='top center',\r\n",
    "                            mode='lines+markers+text',\r\n",
    "                            name=name,\r\n",
    "                            hovertemplate=\r\n",
    "                            '<b>Year</b>: %{x}<br>',\r\n",
    "                            ))\r\n",
    "\r\n",
    "\r\n",
    "fig.update_layout(title='Figure 1. Total Suicides in Mexico from 2010 to 2020',\r\n",
    "                   xaxis_title='Year',\r\n",
    "                   yaxis_title='Count',\r\n",
    "                   )\r\n",
    "                   \r\n",
    "#pio.write_html(fig, file='total_suicides_2010_2020.html', include_plotlyjs='cdn', full_html=False)\r\n",
    "#print(fig.data[0].hovertemplate)\r\n",
    "fig.show()"
   ],
   "outputs": [
    {
     "output_type": "display_data",
     "data": {
      "application/vnd.plotly.v1+json": {
       "config": {
        "plotlyServerURL": "https://plot.ly"
       },
       "data": [
        {
         "hovertemplate": "<b>Year</b>: %{x}<br>",
         "mode": "lines+markers+text",
         "name": "Total",
         "text": [
          5006,
          5712,
          5538,
          5889,
          6317,
          6410,
          6348,
          6469,
          6470,
          7032,
          7728
         ],
         "textposition": "top center",
         "type": "scatter",
         "x": [
          "2010",
          "2011",
          "2012",
          "2013",
          "2014",
          "2015",
          "2016",
          "2017",
          "2018",
          "2019",
          "2020"
         ],
         "y": [
          5006,
          5712,
          5538,
          5889,
          6317,
          6410,
          6348,
          6469,
          6470,
          7032,
          7728
         ]
        },
        {
         "hovertemplate": "<b>Year</b>: %{x}<br>",
         "mode": "lines+markers+text",
         "name": "Men",
         "text": [
          4086,
          4617,
          4460,
          4812,
          5062,
          5128,
          5163,
          5240,
          5252,
          5745,
          6306
         ],
         "textposition": "top center",
         "type": "scatter",
         "x": [
          "2010",
          "2011",
          "2012",
          "2013",
          "2014",
          "2015",
          "2016",
          "2017",
          "2018",
          "2019",
          "2020"
         ],
         "y": [
          4086,
          4617,
          4460,
          4812,
          5062,
          5128,
          5163,
          5240,
          5252,
          5745,
          6306
         ]
        },
        {
         "hovertemplate": "<b>Year</b>: %{x}<br>",
         "mode": "lines+markers+text",
         "name": "Women",
         "text": [
          920,
          1093,
          1075,
          1075,
          1255,
          1278,
          1183,
          1228,
          1218,
          1287,
          1416
         ],
         "textposition": "top center",
         "type": "scatter",
         "x": [
          "2010",
          "2011",
          "2012",
          "2013",
          "2014",
          "2015",
          "2016",
          "2017",
          "2018",
          "2019",
          "2020"
         ],
         "y": [
          920,
          1093,
          1075,
          1075,
          1255,
          1278,
          1183,
          1228,
          1218,
          1287,
          1416
         ]
        }
       ],
       "layout": {
        "template": {
         "data": {
          "bar": [
           {
            "error_x": {
             "color": "#2a3f5f"
            },
            "error_y": {
             "color": "#2a3f5f"
            },
            "marker": {
             "line": {
              "color": "#E5ECF6",
              "width": 0.5
             },
             "pattern": {
              "fillmode": "overlay",
              "size": 10,
              "solidity": 0.2
             }
            },
            "type": "bar"
           }
          ],
          "barpolar": [
           {
            "marker": {
             "line": {
              "color": "#E5ECF6",
              "width": 0.5
             },
             "pattern": {
              "fillmode": "overlay",
              "size": 10,
              "solidity": 0.2
             }
            },
            "type": "barpolar"
           }
          ],
          "carpet": [
           {
            "aaxis": {
             "endlinecolor": "#2a3f5f",
             "gridcolor": "white",
             "linecolor": "white",
             "minorgridcolor": "white",
             "startlinecolor": "#2a3f5f"
            },
            "baxis": {
             "endlinecolor": "#2a3f5f",
             "gridcolor": "white",
             "linecolor": "white",
             "minorgridcolor": "white",
             "startlinecolor": "#2a3f5f"
            },
            "type": "carpet"
           }
          ],
          "choropleth": [
           {
            "colorbar": {
             "outlinewidth": 0,
             "ticks": ""
            },
            "type": "choropleth"
           }
          ],
          "contour": [
           {
            "colorbar": {
             "outlinewidth": 0,
             "ticks": ""
            },
            "colorscale": [
             [
              0,
              "#0d0887"
             ],
             [
              0.1111111111111111,
              "#46039f"
             ],
             [
              0.2222222222222222,
              "#7201a8"
             ],
             [
              0.3333333333333333,
              "#9c179e"
             ],
             [
              0.4444444444444444,
              "#bd3786"
             ],
             [
              0.5555555555555556,
              "#d8576b"
             ],
             [
              0.6666666666666666,
              "#ed7953"
             ],
             [
              0.7777777777777778,
              "#fb9f3a"
             ],
             [
              0.8888888888888888,
              "#fdca26"
             ],
             [
              1,
              "#f0f921"
             ]
            ],
            "type": "contour"
           }
          ],
          "contourcarpet": [
           {
            "colorbar": {
             "outlinewidth": 0,
             "ticks": ""
            },
            "type": "contourcarpet"
           }
          ],
          "heatmap": [
           {
            "colorbar": {
             "outlinewidth": 0,
             "ticks": ""
            },
            "colorscale": [
             [
              0,
              "#0d0887"
             ],
             [
              0.1111111111111111,
              "#46039f"
             ],
             [
              0.2222222222222222,
              "#7201a8"
             ],
             [
              0.3333333333333333,
              "#9c179e"
             ],
             [
              0.4444444444444444,
              "#bd3786"
             ],
             [
              0.5555555555555556,
              "#d8576b"
             ],
             [
              0.6666666666666666,
              "#ed7953"
             ],
             [
              0.7777777777777778,
              "#fb9f3a"
             ],
             [
              0.8888888888888888,
              "#fdca26"
             ],
             [
              1,
              "#f0f921"
             ]
            ],
            "type": "heatmap"
           }
          ],
          "heatmapgl": [
           {
            "colorbar": {
             "outlinewidth": 0,
             "ticks": ""
            },
            "colorscale": [
             [
              0,
              "#0d0887"
             ],
             [
              0.1111111111111111,
              "#46039f"
             ],
             [
              0.2222222222222222,
              "#7201a8"
             ],
             [
              0.3333333333333333,
              "#9c179e"
             ],
             [
              0.4444444444444444,
              "#bd3786"
             ],
             [
              0.5555555555555556,
              "#d8576b"
             ],
             [
              0.6666666666666666,
              "#ed7953"
             ],
             [
              0.7777777777777778,
              "#fb9f3a"
             ],
             [
              0.8888888888888888,
              "#fdca26"
             ],
             [
              1,
              "#f0f921"
             ]
            ],
            "type": "heatmapgl"
           }
          ],
          "histogram": [
           {
            "marker": {
             "pattern": {
              "fillmode": "overlay",
              "size": 10,
              "solidity": 0.2
             }
            },
            "type": "histogram"
           }
          ],
          "histogram2d": [
           {
            "colorbar": {
             "outlinewidth": 0,
             "ticks": ""
            },
            "colorscale": [
             [
              0,
              "#0d0887"
             ],
             [
              0.1111111111111111,
              "#46039f"
             ],
             [
              0.2222222222222222,
              "#7201a8"
             ],
             [
              0.3333333333333333,
              "#9c179e"
             ],
             [
              0.4444444444444444,
              "#bd3786"
             ],
             [
              0.5555555555555556,
              "#d8576b"
             ],
             [
              0.6666666666666666,
              "#ed7953"
             ],
             [
              0.7777777777777778,
              "#fb9f3a"
             ],
             [
              0.8888888888888888,
              "#fdca26"
             ],
             [
              1,
              "#f0f921"
             ]
            ],
            "type": "histogram2d"
           }
          ],
          "histogram2dcontour": [
           {
            "colorbar": {
             "outlinewidth": 0,
             "ticks": ""
            },
            "colorscale": [
             [
              0,
              "#0d0887"
             ],
             [
              0.1111111111111111,
              "#46039f"
             ],
             [
              0.2222222222222222,
              "#7201a8"
             ],
             [
              0.3333333333333333,
              "#9c179e"
             ],
             [
              0.4444444444444444,
              "#bd3786"
             ],
             [
              0.5555555555555556,
              "#d8576b"
             ],
             [
              0.6666666666666666,
              "#ed7953"
             ],
             [
              0.7777777777777778,
              "#fb9f3a"
             ],
             [
              0.8888888888888888,
              "#fdca26"
             ],
             [
              1,
              "#f0f921"
             ]
            ],
            "type": "histogram2dcontour"
           }
          ],
          "mesh3d": [
           {
            "colorbar": {
             "outlinewidth": 0,
             "ticks": ""
            },
            "type": "mesh3d"
           }
          ],
          "parcoords": [
           {
            "line": {
             "colorbar": {
              "outlinewidth": 0,
              "ticks": ""
             }
            },
            "type": "parcoords"
           }
          ],
          "pie": [
           {
            "automargin": true,
            "type": "pie"
           }
          ],
          "scatter": [
           {
            "marker": {
             "colorbar": {
              "outlinewidth": 0,
              "ticks": ""
             }
            },
            "type": "scatter"
           }
          ],
          "scatter3d": [
           {
            "line": {
             "colorbar": {
              "outlinewidth": 0,
              "ticks": ""
             }
            },
            "marker": {
             "colorbar": {
              "outlinewidth": 0,
              "ticks": ""
             }
            },
            "type": "scatter3d"
           }
          ],
          "scattercarpet": [
           {
            "marker": {
             "colorbar": {
              "outlinewidth": 0,
              "ticks": ""
             }
            },
            "type": "scattercarpet"
           }
          ],
          "scattergeo": [
           {
            "marker": {
             "colorbar": {
              "outlinewidth": 0,
              "ticks": ""
             }
            },
            "type": "scattergeo"
           }
          ],
          "scattergl": [
           {
            "marker": {
             "colorbar": {
              "outlinewidth": 0,
              "ticks": ""
             }
            },
            "type": "scattergl"
           }
          ],
          "scattermapbox": [
           {
            "marker": {
             "colorbar": {
              "outlinewidth": 0,
              "ticks": ""
             }
            },
            "type": "scattermapbox"
           }
          ],
          "scatterpolar": [
           {
            "marker": {
             "colorbar": {
              "outlinewidth": 0,
              "ticks": ""
             }
            },
            "type": "scatterpolar"
           }
          ],
          "scatterpolargl": [
           {
            "marker": {
             "colorbar": {
              "outlinewidth": 0,
              "ticks": ""
             }
            },
            "type": "scatterpolargl"
           }
          ],
          "scatterternary": [
           {
            "marker": {
             "colorbar": {
              "outlinewidth": 0,
              "ticks": ""
             }
            },
            "type": "scatterternary"
           }
          ],
          "surface": [
           {
            "colorbar": {
             "outlinewidth": 0,
             "ticks": ""
            },
            "colorscale": [
             [
              0,
              "#0d0887"
             ],
             [
              0.1111111111111111,
              "#46039f"
             ],
             [
              0.2222222222222222,
              "#7201a8"
             ],
             [
              0.3333333333333333,
              "#9c179e"
             ],
             [
              0.4444444444444444,
              "#bd3786"
             ],
             [
              0.5555555555555556,
              "#d8576b"
             ],
             [
              0.6666666666666666,
              "#ed7953"
             ],
             [
              0.7777777777777778,
              "#fb9f3a"
             ],
             [
              0.8888888888888888,
              "#fdca26"
             ],
             [
              1,
              "#f0f921"
             ]
            ],
            "type": "surface"
           }
          ],
          "table": [
           {
            "cells": {
             "fill": {
              "color": "#EBF0F8"
             },
             "line": {
              "color": "white"
             }
            },
            "header": {
             "fill": {
              "color": "#C8D4E3"
             },
             "line": {
              "color": "white"
             }
            },
            "type": "table"
           }
          ]
         },
         "layout": {
          "annotationdefaults": {
           "arrowcolor": "#2a3f5f",
           "arrowhead": 0,
           "arrowwidth": 1
          },
          "autotypenumbers": "strict",
          "coloraxis": {
           "colorbar": {
            "outlinewidth": 0,
            "ticks": ""
           }
          },
          "colorscale": {
           "diverging": [
            [
             0,
             "#8e0152"
            ],
            [
             0.1,
             "#c51b7d"
            ],
            [
             0.2,
             "#de77ae"
            ],
            [
             0.3,
             "#f1b6da"
            ],
            [
             0.4,
             "#fde0ef"
            ],
            [
             0.5,
             "#f7f7f7"
            ],
            [
             0.6,
             "#e6f5d0"
            ],
            [
             0.7,
             "#b8e186"
            ],
            [
             0.8,
             "#7fbc41"
            ],
            [
             0.9,
             "#4d9221"
            ],
            [
             1,
             "#276419"
            ]
           ],
           "sequential": [
            [
             0,
             "#0d0887"
            ],
            [
             0.1111111111111111,
             "#46039f"
            ],
            [
             0.2222222222222222,
             "#7201a8"
            ],
            [
             0.3333333333333333,
             "#9c179e"
            ],
            [
             0.4444444444444444,
             "#bd3786"
            ],
            [
             0.5555555555555556,
             "#d8576b"
            ],
            [
             0.6666666666666666,
             "#ed7953"
            ],
            [
             0.7777777777777778,
             "#fb9f3a"
            ],
            [
             0.8888888888888888,
             "#fdca26"
            ],
            [
             1,
             "#f0f921"
            ]
           ],
           "sequentialminus": [
            [
             0,
             "#0d0887"
            ],
            [
             0.1111111111111111,
             "#46039f"
            ],
            [
             0.2222222222222222,
             "#7201a8"
            ],
            [
             0.3333333333333333,
             "#9c179e"
            ],
            [
             0.4444444444444444,
             "#bd3786"
            ],
            [
             0.5555555555555556,
             "#d8576b"
            ],
            [
             0.6666666666666666,
             "#ed7953"
            ],
            [
             0.7777777777777778,
             "#fb9f3a"
            ],
            [
             0.8888888888888888,
             "#fdca26"
            ],
            [
             1,
             "#f0f921"
            ]
           ]
          },
          "colorway": [
           "#636efa",
           "#EF553B",
           "#00cc96",
           "#ab63fa",
           "#FFA15A",
           "#19d3f3",
           "#FF6692",
           "#B6E880",
           "#FF97FF",
           "#FECB52"
          ],
          "font": {
           "color": "#2a3f5f"
          },
          "geo": {
           "bgcolor": "white",
           "lakecolor": "white",
           "landcolor": "#E5ECF6",
           "showlakes": true,
           "showland": true,
           "subunitcolor": "white"
          },
          "hoverlabel": {
           "align": "left"
          },
          "hovermode": "closest",
          "mapbox": {
           "style": "light"
          },
          "paper_bgcolor": "white",
          "plot_bgcolor": "#E5ECF6",
          "polar": {
           "angularaxis": {
            "gridcolor": "white",
            "linecolor": "white",
            "ticks": ""
           },
           "bgcolor": "#E5ECF6",
           "radialaxis": {
            "gridcolor": "white",
            "linecolor": "white",
            "ticks": ""
           }
          },
          "scene": {
           "xaxis": {
            "backgroundcolor": "#E5ECF6",
            "gridcolor": "white",
            "gridwidth": 2,
            "linecolor": "white",
            "showbackground": true,
            "ticks": "",
            "zerolinecolor": "white"
           },
           "yaxis": {
            "backgroundcolor": "#E5ECF6",
            "gridcolor": "white",
            "gridwidth": 2,
            "linecolor": "white",
            "showbackground": true,
            "ticks": "",
            "zerolinecolor": "white"
           },
           "zaxis": {
            "backgroundcolor": "#E5ECF6",
            "gridcolor": "white",
            "gridwidth": 2,
            "linecolor": "white",
            "showbackground": true,
            "ticks": "",
            "zerolinecolor": "white"
           }
          },
          "shapedefaults": {
           "line": {
            "color": "#2a3f5f"
           }
          },
          "ternary": {
           "aaxis": {
            "gridcolor": "white",
            "linecolor": "white",
            "ticks": ""
           },
           "baxis": {
            "gridcolor": "white",
            "linecolor": "white",
            "ticks": ""
           },
           "bgcolor": "#E5ECF6",
           "caxis": {
            "gridcolor": "white",
            "linecolor": "white",
            "ticks": ""
           }
          },
          "title": {
           "x": 0.05
          },
          "xaxis": {
           "automargin": true,
           "gridcolor": "white",
           "linecolor": "white",
           "ticks": "",
           "title": {
            "standoff": 15
           },
           "zerolinecolor": "white",
           "zerolinewidth": 2
          },
          "yaxis": {
           "automargin": true,
           "gridcolor": "white",
           "linecolor": "white",
           "ticks": "",
           "title": {
            "standoff": 15
           },
           "zerolinecolor": "white",
           "zerolinewidth": 2
          }
         }
        },
        "title": {
         "text": "Figure 1. Total Suicides in Mexico from 2010 to 2020"
        },
        "xaxis": {
         "title": {
          "text": "Year"
         }
        },
        "yaxis": {
         "title": {
          "text": "Count"
         }
        }
       }
      }
     },
     "metadata": {}
    }
   ],
   "metadata": {}
  },
  {
   "cell_type": "code",
   "execution_count": 69,
   "source": [
    "years = [i for i in range(2010,2021)]\r\n",
    "entidades = df.Entidad.values\r\n",
    "visible = np.array(entidades)\r\n",
    "colors = px.colors.qualitative.Prism\r\n",
    "\r\n",
    "# define traces and buttons at once\r\n",
    "traces = []\r\n",
    "buttons = []\r\n",
    "\r\n",
    "for value in range(len(entidades)):\r\n",
    "    traces.append(go.Scatter(x=years, y=df.loc[value,totales].values[1:].astype(int),\r\n",
    "                        text=df.loc[value,totales].values[1:].astype(int),\r\n",
    "                        textposition='top center',\r\n",
    "                        mode='lines+text+markers',\r\n",
    "                        name=df.loc[value,'Entidad'],\r\n",
    "                        hovertemplate=\r\n",
    "                        '<b>Year</b>: %{x}<br>'+\r\n",
    "                        '<b>Count</b>: %{y}',\r\n",
    "                        line = dict(color=colors[value%len(colors)]),\r\n",
    "                        visible= True if value==30 else False\r\n",
    "                        ))\r\n",
    "    \r\n",
    "    buttons.append(dict(label=df.loc[value,'Entidad'],\r\n",
    "                        method=\"update\",\r\n",
    "                        args=[{\"visible\":list(visible==df.loc[value,'Entidad'])},\r\n",
    "                            {\"title\":f\"Total Suicides in {df.loc[value,'Entidad']}\"}]))\r\n",
    "\r\n",
    "updatemenus = [{\"active\":30,\r\n",
    "                \"buttons\":buttons,\r\n",
    "            }]\r\n",
    "\r\n",
    "# Show figure\r\n",
    "fig = go.Figure(data=traces,\r\n",
    "                layout=dict(updatemenus=updatemenus))\r\n",
    "# This is in order to get the first title displayed correctly\r\n",
    "first_title = entidades[30]\r\n",
    "fig.update_layout(title=f\"Figure 3. Total Suicides in {first_title} from 2010 to 2020\",title_x=0.5)\r\n",
    "#fig.update_layout(showlegend=True)\r\n",
    "fig.update_layout(\r\n",
    "                xaxis_title='Year',\r\n",
    "                yaxis_title='Count',\r\n",
    "                height=500\r\n",
    "                    )\r\n",
    "#pio.write_html(fig, file='suicidios.html', include_plotlyjs='cdn', full_html=False)\r\n",
    "fig.show()"
   ],
   "outputs": [
    {
     "output_type": "display_data",
     "data": {
      "application/vnd.plotly.v1+json": {
       "config": {
        "plotlyServerURL": "https://plot.ly"
       },
       "data": [
        {
         "hovertemplate": "<b>Year</b>: %{x}<br><b>Count</b>: %{y}",
         "line": {
          "color": "rgb(95, 70, 144)"
         },
         "mode": "lines+text+markers",
         "name": "Aguascalientes",
         "text": [
          50,
          98,
          116,
          113,
          110,
          124,
          125,
          140,
          140,
          157,
          181
         ],
         "textposition": "top center",
         "type": "scatter",
         "visible": false,
         "x": [
          2010,
          2011,
          2012,
          2013,
          2014,
          2015,
          2016,
          2017,
          2018,
          2019,
          2020
         ],
         "y": [
          50,
          98,
          116,
          113,
          110,
          124,
          125,
          140,
          140,
          157,
          181
         ]
        },
        {
         "hovertemplate": "<b>Year</b>: %{x}<br><b>Count</b>: %{y}",
         "line": {
          "color": "rgb(29, 105, 150)"
         },
         "mode": "lines+text+markers",
         "name": "Baja California",
         "text": [
          107,
          149,
          113,
          123,
          181,
          150,
          170,
          166,
          194,
          169,
          97
         ],
         "textposition": "top center",
         "type": "scatter",
         "visible": false,
         "x": [
          2010,
          2011,
          2012,
          2013,
          2014,
          2015,
          2016,
          2017,
          2018,
          2019,
          2020
         ],
         "y": [
          107,
          149,
          113,
          123,
          181,
          150,
          170,
          166,
          194,
          169,
          97
         ]
        },
        {
         "hovertemplate": "<b>Year</b>: %{x}<br><b>Count</b>: %{y}",
         "line": {
          "color": "rgb(56, 166, 165)"
         },
         "mode": "lines+text+markers",
         "name": "Baja California Sur",
         "text": [
          45,
          30,
          44,
          50,
          59,
          57,
          55,
          47,
          57,
          59,
          67
         ],
         "textposition": "top center",
         "type": "scatter",
         "visible": false,
         "x": [
          2010,
          2011,
          2012,
          2013,
          2014,
          2015,
          2016,
          2017,
          2018,
          2019,
          2020
         ],
         "y": [
          45,
          30,
          44,
          50,
          59,
          57,
          55,
          47,
          57,
          59,
          67
         ]
        },
        {
         "hovertemplate": "<b>Year</b>: %{x}<br><b>Count</b>: %{y}",
         "line": {
          "color": "rgb(15, 133, 84)"
         },
         "mode": "lines+text+markers",
         "name": "Campeche",
         "text": [
          62,
          81,
          63,
          77,
          92,
          86,
          87,
          74,
          69,
          95,
          70
         ],
         "textposition": "top center",
         "type": "scatter",
         "visible": false,
         "x": [
          2010,
          2011,
          2012,
          2013,
          2014,
          2015,
          2016,
          2017,
          2018,
          2019,
          2020
         ],
         "y": [
          62,
          81,
          63,
          77,
          92,
          86,
          87,
          74,
          69,
          95,
          70
         ]
        },
        {
         "hovertemplate": "<b>Year</b>: %{x}<br><b>Count</b>: %{y}",
         "line": {
          "color": "rgb(115, 175, 72)"
         },
         "mode": "lines+text+markers",
         "name": "Coahuila de Zaragoza",
         "text": [
          169,
          169,
          150,
          174,
          174,
          181,
          171,
          201,
          216,
          261,
          273
         ],
         "textposition": "top center",
         "type": "scatter",
         "visible": false,
         "x": [
          2010,
          2011,
          2012,
          2013,
          2014,
          2015,
          2016,
          2017,
          2018,
          2019,
          2020
         ],
         "y": [
          169,
          169,
          150,
          174,
          174,
          181,
          171,
          201,
          216,
          261,
          273
         ]
        },
        {
         "hovertemplate": "<b>Year</b>: %{x}<br><b>Count</b>: %{y}",
         "line": {
          "color": "rgb(237, 173, 8)"
         },
         "mode": "lines+text+markers",
         "name": "Colima",
         "text": [
          31,
          48,
          46,
          52,
          42,
          54,
          66,
          46,
          51,
          39,
          50
         ],
         "textposition": "top center",
         "type": "scatter",
         "visible": false,
         "x": [
          2010,
          2011,
          2012,
          2013,
          2014,
          2015,
          2016,
          2017,
          2018,
          2019,
          2020
         ],
         "y": [
          31,
          48,
          46,
          52,
          42,
          54,
          66,
          46,
          51,
          39,
          50
         ]
        },
        {
         "hovertemplate": "<b>Year</b>: %{x}<br><b>Count</b>: %{y}",
         "line": {
          "color": "rgb(225, 124, 5)"
         },
         "mode": "lines+text+markers",
         "name": "Chiapas",
         "text": [
          88,
          230,
          189,
          315,
          321,
          316,
          272,
          262,
          147,
          200,
          200
         ],
         "textposition": "top center",
         "type": "scatter",
         "visible": false,
         "x": [
          2010,
          2011,
          2012,
          2013,
          2014,
          2015,
          2016,
          2017,
          2018,
          2019,
          2020
         ],
         "y": [
          88,
          230,
          189,
          315,
          321,
          316,
          272,
          262,
          147,
          200,
          200
         ]
        },
        {
         "hovertemplate": "<b>Year</b>: %{x}<br><b>Count</b>: %{y}",
         "line": {
          "color": "rgb(204, 80, 62)"
         },
         "mode": "lines+text+markers",
         "name": "Chihuahua",
         "text": [
          234,
          289,
          266,
          310,
          326,
          421,
          438,
          405,
          365,
          400,
          541
         ],
         "textposition": "top center",
         "type": "scatter",
         "visible": false,
         "x": [
          2010,
          2011,
          2012,
          2013,
          2014,
          2015,
          2016,
          2017,
          2018,
          2019,
          2020
         ],
         "y": [
          234,
          289,
          266,
          310,
          326,
          421,
          438,
          405,
          365,
          400,
          541
         ]
        },
        {
         "hovertemplate": "<b>Year</b>: %{x}<br><b>Count</b>: %{y}",
         "line": {
          "color": "rgb(148, 52, 110)"
         },
         "mode": "lines+text+markers",
         "name": "Ciudad de México",
         "text": [
          375,
          413,
          426,
          425,
          434,
          369,
          377,
          302,
          227,
          234,
          450
         ],
         "textposition": "top center",
         "type": "scatter",
         "visible": false,
         "x": [
          2010,
          2011,
          2012,
          2013,
          2014,
          2015,
          2016,
          2017,
          2018,
          2019,
          2020
         ],
         "y": [
          375,
          413,
          426,
          425,
          434,
          369,
          377,
          302,
          227,
          234,
          450
         ]
        },
        {
         "hovertemplate": "<b>Year</b>: %{x}<br><b>Count</b>: %{y}",
         "line": {
          "color": "rgb(111, 64, 112)"
         },
         "mode": "lines+text+markers",
         "name": "Durango",
         "text": [
          94,
          86,
          76,
          90,
          104,
          116,
          114,
          124,
          122,
          127,
          115
         ],
         "textposition": "top center",
         "type": "scatter",
         "visible": false,
         "x": [
          2010,
          2011,
          2012,
          2013,
          2014,
          2015,
          2016,
          2017,
          2018,
          2019,
          2020
         ],
         "y": [
          94,
          86,
          76,
          90,
          104,
          116,
          114,
          124,
          122,
          127,
          115
         ]
        },
        {
         "hovertemplate": "<b>Year</b>: %{x}<br><b>Count</b>: %{y}",
         "line": {
          "color": "rgb(102, 102, 102)"
         },
         "mode": "lines+text+markers",
         "name": "Guanajuato",
         "text": [
          283,
          358,
          338,
          351,
          422,
          466,
          459,
          494,
          504,
          493,
          501
         ],
         "textposition": "top center",
         "type": "scatter",
         "visible": false,
         "x": [
          2010,
          2011,
          2012,
          2013,
          2014,
          2015,
          2016,
          2017,
          2018,
          2019,
          2020
         ],
         "y": [
          283,
          358,
          338,
          351,
          422,
          466,
          459,
          494,
          504,
          493,
          501
         ]
        },
        {
         "hovertemplate": "<b>Year</b>: %{x}<br><b>Count</b>: %{y}",
         "line": {
          "color": "rgb(95, 70, 144)"
         },
         "mode": "lines+text+markers",
         "name": "Guerrero",
         "text": [
          91,
          90,
          90,
          104,
          81,
          73,
          83,
          73,
          63,
          77,
          50
         ],
         "textposition": "top center",
         "type": "scatter",
         "visible": false,
         "x": [
          2010,
          2011,
          2012,
          2013,
          2014,
          2015,
          2016,
          2017,
          2018,
          2019,
          2020
         ],
         "y": [
          91,
          90,
          90,
          104,
          81,
          73,
          83,
          73,
          63,
          77,
          50
         ]
        },
        {
         "hovertemplate": "<b>Year</b>: %{x}<br><b>Count</b>: %{y}",
         "line": {
          "color": "rgb(29, 105, 150)"
         },
         "mode": "lines+text+markers",
         "name": "Hidalgo",
         "text": [
          56,
          113,
          102,
          112,
          126,
          117,
          113,
          116,
          109,
          117,
          132
         ],
         "textposition": "top center",
         "type": "scatter",
         "visible": false,
         "x": [
          2010,
          2011,
          2012,
          2013,
          2014,
          2015,
          2016,
          2017,
          2018,
          2019,
          2020
         ],
         "y": [
          56,
          113,
          102,
          112,
          126,
          117,
          113,
          116,
          109,
          117,
          132
         ]
        },
        {
         "hovertemplate": "<b>Year</b>: %{x}<br><b>Count</b>: %{y}",
         "line": {
          "color": "rgb(56, 166, 165)"
         },
         "mode": "lines+text+markers",
         "name": "Jalisco",
         "text": [
          399,
          453,
          507,
          481,
          506,
          527,
          597,
          658,
          630,
          605,
          655
         ],
         "textposition": "top center",
         "type": "scatter",
         "visible": false,
         "x": [
          2010,
          2011,
          2012,
          2013,
          2014,
          2015,
          2016,
          2017,
          2018,
          2019,
          2020
         ],
         "y": [
          399,
          453,
          507,
          481,
          506,
          527,
          597,
          658,
          630,
          605,
          655
         ]
        },
        {
         "hovertemplate": "<b>Year</b>: %{x}<br><b>Count</b>: %{y}",
         "line": {
          "color": "rgb(15, 133, 84)"
         },
         "mode": "lines+text+markers",
         "name": "México",
         "text": [
          537,
          600,
          598,
          620,
          670,
          667,
          579,
          570,
          584,
          715,
          832
         ],
         "textposition": "top center",
         "type": "scatter",
         "visible": false,
         "x": [
          2010,
          2011,
          2012,
          2013,
          2014,
          2015,
          2016,
          2017,
          2018,
          2019,
          2020
         ],
         "y": [
          537,
          600,
          598,
          620,
          670,
          667,
          579,
          570,
          584,
          715,
          832
         ]
        },
        {
         "hovertemplate": "<b>Year</b>: %{x}<br><b>Count</b>: %{y}",
         "line": {
          "color": "rgb(115, 175, 72)"
         },
         "mode": "lines+text+markers",
         "name": "Michoacán de Ocampo",
         "text": [
          151,
          150,
          147,
          142,
          192,
          169,
          182,
          206,
          245,
          334,
          376
         ],
         "textposition": "top center",
         "type": "scatter",
         "visible": false,
         "x": [
          2010,
          2011,
          2012,
          2013,
          2014,
          2015,
          2016,
          2017,
          2018,
          2019,
          2020
         ],
         "y": [
          151,
          150,
          147,
          142,
          192,
          169,
          182,
          206,
          245,
          334,
          376
         ]
        },
        {
         "hovertemplate": "<b>Year</b>: %{x}<br><b>Count</b>: %{y}",
         "line": {
          "color": "rgb(237, 173, 8)"
         },
         "mode": "lines+text+markers",
         "name": "Morelos",
         "text": [
          45,
          61,
          62,
          65,
          54,
          44,
          87,
          71,
          88,
          90,
          106
         ],
         "textposition": "top center",
         "type": "scatter",
         "visible": false,
         "x": [
          2010,
          2011,
          2012,
          2013,
          2014,
          2015,
          2016,
          2017,
          2018,
          2019,
          2020
         ],
         "y": [
          45,
          61,
          62,
          65,
          54,
          44,
          87,
          71,
          88,
          90,
          106
         ]
        },
        {
         "hovertemplate": "<b>Year</b>: %{x}<br><b>Count</b>: %{y}",
         "line": {
          "color": "rgb(225, 124, 5)"
         },
         "mode": "lines+text+markers",
         "name": "Nayarit",
         "text": [
          46,
          46,
          50,
          54,
          81,
          75,
          79,
          72,
          66,
          77,
          91
         ],
         "textposition": "top center",
         "type": "scatter",
         "visible": false,
         "x": [
          2010,
          2011,
          2012,
          2013,
          2014,
          2015,
          2016,
          2017,
          2018,
          2019,
          2020
         ],
         "y": [
          46,
          46,
          50,
          54,
          81,
          75,
          79,
          72,
          66,
          77,
          91
         ]
        },
        {
         "hovertemplate": "<b>Year</b>: %{x}<br><b>Count</b>: %{y}",
         "line": {
          "color": "rgb(204, 80, 62)"
         },
         "mode": "lines+text+markers",
         "name": "Nuevo León",
         "text": [
          238,
          218,
          229,
          245,
          220,
          253,
          292,
          270,
          317,
          318,
          351
         ],
         "textposition": "top center",
         "type": "scatter",
         "visible": false,
         "x": [
          2010,
          2011,
          2012,
          2013,
          2014,
          2015,
          2016,
          2017,
          2018,
          2019,
          2020
         ],
         "y": [
          238,
          218,
          229,
          245,
          220,
          253,
          292,
          270,
          317,
          318,
          351
         ]
        },
        {
         "hovertemplate": "<b>Year</b>: %{x}<br><b>Count</b>: %{y}",
         "line": {
          "color": "rgb(148, 52, 110)"
         },
         "mode": "lines+text+markers",
         "name": "Oaxaca",
         "text": [
          131,
          142,
          124,
          121,
          132,
          156,
          114,
          129,
          140,
          166,
          214
         ],
         "textposition": "top center",
         "type": "scatter",
         "visible": false,
         "x": [
          2010,
          2011,
          2012,
          2013,
          2014,
          2015,
          2016,
          2017,
          2018,
          2019,
          2020
         ],
         "y": [
          131,
          142,
          124,
          121,
          132,
          156,
          114,
          129,
          140,
          166,
          214
         ]
        },
        {
         "hovertemplate": "<b>Year</b>: %{x}<br><b>Count</b>: %{y}",
         "line": {
          "color": "rgb(111, 64, 112)"
         },
         "mode": "lines+text+markers",
         "name": "Puebla",
         "text": [
          205,
          256,
          216,
          240,
          277,
          268,
          226,
          302,
          319,
          345,
          336
         ],
         "textposition": "top center",
         "type": "scatter",
         "visible": false,
         "x": [
          2010,
          2011,
          2012,
          2013,
          2014,
          2015,
          2016,
          2017,
          2018,
          2019,
          2020
         ],
         "y": [
          205,
          256,
          216,
          240,
          277,
          268,
          226,
          302,
          319,
          345,
          336
         ]
        },
        {
         "hovertemplate": "<b>Year</b>: %{x}<br><b>Count</b>: %{y}",
         "line": {
          "color": "rgb(102, 102, 102)"
         },
         "mode": "lines+text+markers",
         "name": "Querétaro",
         "text": [
          85,
          98,
          115,
          112,
          80,
          110,
          102,
          137,
          138,
          175,
          200
         ],
         "textposition": "top center",
         "type": "scatter",
         "visible": false,
         "x": [
          2010,
          2011,
          2012,
          2013,
          2014,
          2015,
          2016,
          2017,
          2018,
          2019,
          2020
         ],
         "y": [
          85,
          98,
          115,
          112,
          80,
          110,
          102,
          137,
          138,
          175,
          200
         ]
        },
        {
         "hovertemplate": "<b>Year</b>: %{x}<br><b>Count</b>: %{y}",
         "line": {
          "color": "rgb(95, 70, 144)"
         },
         "mode": "lines+text+markers",
         "name": "Quintana Roo",
         "text": [
          132,
          121,
          144,
          137,
          118,
          140,
          125,
          135,
          125,
          133,
          176
         ],
         "textposition": "top center",
         "type": "scatter",
         "visible": false,
         "x": [
          2010,
          2011,
          2012,
          2013,
          2014,
          2015,
          2016,
          2017,
          2018,
          2019,
          2020
         ],
         "y": [
          132,
          121,
          144,
          137,
          118,
          140,
          125,
          135,
          125,
          133,
          176
         ]
        },
        {
         "hovertemplate": "<b>Year</b>: %{x}<br><b>Count</b>: %{y}",
         "line": {
          "color": "rgb(29, 105, 150)"
         },
         "mode": "lines+text+markers",
         "name": "San Luis Potosí",
         "text": [
          164,
          159,
          158,
          157,
          173,
          164,
          179,
          199,
          204,
          239,
          258
         ],
         "textposition": "top center",
         "type": "scatter",
         "visible": false,
         "x": [
          2010,
          2011,
          2012,
          2013,
          2014,
          2015,
          2016,
          2017,
          2018,
          2019,
          2020
         ],
         "y": [
          164,
          159,
          158,
          157,
          173,
          164,
          179,
          199,
          204,
          239,
          258
         ]
        },
        {
         "hovertemplate": "<b>Year</b>: %{x}<br><b>Count</b>: %{y}",
         "line": {
          "color": "rgb(56, 166, 165)"
         },
         "mode": "lines+text+markers",
         "name": "Sinaloa",
         "text": [
          113,
          111,
          99,
          123,
          143,
          142,
          165,
          168,
          135,
          152,
          112
         ],
         "textposition": "top center",
         "type": "scatter",
         "visible": false,
         "x": [
          2010,
          2011,
          2012,
          2013,
          2014,
          2015,
          2016,
          2017,
          2018,
          2019,
          2020
         ],
         "y": [
          113,
          111,
          99,
          123,
          143,
          142,
          165,
          168,
          135,
          152,
          112
         ]
        },
        {
         "hovertemplate": "<b>Year</b>: %{x}<br><b>Count</b>: %{y}",
         "line": {
          "color": "rgb(15, 133, 84)"
         },
         "mode": "lines+text+markers",
         "name": "Sonora",
         "text": [
          170,
          178,
          184,
          237,
          236,
          249,
          218,
          264,
          267,
          263,
          304
         ],
         "textposition": "top center",
         "type": "scatter",
         "visible": false,
         "x": [
          2010,
          2011,
          2012,
          2013,
          2014,
          2015,
          2016,
          2017,
          2018,
          2019,
          2020
         ],
         "y": [
          170,
          178,
          184,
          237,
          236,
          249,
          218,
          264,
          267,
          263,
          304
         ]
        },
        {
         "hovertemplate": "<b>Year</b>: %{x}<br><b>Count</b>: %{y}",
         "line": {
          "color": "rgb(115, 175, 72)"
         },
         "mode": "lines+text+markers",
         "name": "Tabasco",
         "text": [
          187,
          188,
          172,
          168,
          164,
          170,
          155,
          108,
          142,
          126,
          116
         ],
         "textposition": "top center",
         "type": "scatter",
         "visible": false,
         "x": [
          2010,
          2011,
          2012,
          2013,
          2014,
          2015,
          2016,
          2017,
          2018,
          2019,
          2020
         ],
         "y": [
          187,
          188,
          172,
          168,
          164,
          170,
          155,
          108,
          142,
          126,
          116
         ]
        },
        {
         "hovertemplate": "<b>Year</b>: %{x}<br><b>Count</b>: %{y}",
         "line": {
          "color": "rgb(237, 173, 8)"
         },
         "mode": "lines+text+markers",
         "name": "Tamaulipas",
         "text": [
          166,
          149,
          168,
          157,
          176,
          149,
          159,
          158,
          164,
          174,
          164
         ],
         "textposition": "top center",
         "type": "scatter",
         "visible": false,
         "x": [
          2010,
          2011,
          2012,
          2013,
          2014,
          2015,
          2016,
          2017,
          2018,
          2019,
          2020
         ],
         "y": [
          166,
          149,
          168,
          157,
          176,
          149,
          159,
          158,
          164,
          174,
          164
         ]
        },
        {
         "hovertemplate": "<b>Year</b>: %{x}<br><b>Count</b>: %{y}",
         "line": {
          "color": "rgb(225, 124, 5)"
         },
         "mode": "lines+text+markers",
         "name": "Tlaxcala",
         "text": [
          33,
          51,
          44,
          40,
          53,
          52,
          52,
          55,
          55,
          65,
          52
         ],
         "textposition": "top center",
         "type": "scatter",
         "visible": false,
         "x": [
          2010,
          2011,
          2012,
          2013,
          2014,
          2015,
          2016,
          2017,
          2018,
          2019,
          2020
         ],
         "y": [
          33,
          51,
          44,
          40,
          53,
          52,
          52,
          55,
          55,
          65,
          52
         ]
        },
        {
         "hovertemplate": "<b>Year</b>: %{x}<br><b>Count</b>: %{y}",
         "line": {
          "color": "rgb(204, 80, 62)"
         },
         "mode": "lines+text+markers",
         "name": "Veracruz de Ignacio de la Llave",
         "text": [
          262,
          309,
          289,
          265,
          319,
          252,
          207,
          217,
          253,
          265,
          289
         ],
         "textposition": "top center",
         "type": "scatter",
         "visible": false,
         "x": [
          2010,
          2011,
          2012,
          2013,
          2014,
          2015,
          2016,
          2017,
          2018,
          2019,
          2020
         ],
         "y": [
          262,
          309,
          289,
          265,
          319,
          252,
          207,
          217,
          253,
          265,
          289
         ]
        },
        {
         "hovertemplate": "<b>Year</b>: %{x}<br><b>Count</b>: %{y}",
         "line": {
          "color": "rgb(148, 52, 110)"
         },
         "mode": "lines+text+markers",
         "name": "Yucatán",
         "text": [
          206,
          186,
          160,
          167,
          181,
          190,
          224,
          191,
          235,
          245,
          243
         ],
         "textposition": "top center",
         "type": "scatter",
         "visible": true,
         "x": [
          2010,
          2011,
          2012,
          2013,
          2014,
          2015,
          2016,
          2017,
          2018,
          2019,
          2020
         ],
         "y": [
          206,
          186,
          160,
          167,
          181,
          190,
          224,
          191,
          235,
          245,
          243
         ]
        },
        {
         "hovertemplate": "<b>Year</b>: %{x}<br><b>Count</b>: %{y}",
         "line": {
          "color": "rgb(111, 64, 112)"
         },
         "mode": "lines+text+markers",
         "name": "Zacatecas",
         "text": [
          51,
          82,
          53,
          62,
          70,
          103,
          76,
          109,
          99,
          117,
          126
         ],
         "textposition": "top center",
         "type": "scatter",
         "visible": false,
         "x": [
          2010,
          2011,
          2012,
          2013,
          2014,
          2015,
          2016,
          2017,
          2018,
          2019,
          2020
         ],
         "y": [
          51,
          82,
          53,
          62,
          70,
          103,
          76,
          109,
          99,
          117,
          126
         ]
        }
       ],
       "layout": {
        "height": 500,
        "template": {
         "data": {
          "bar": [
           {
            "error_x": {
             "color": "#2a3f5f"
            },
            "error_y": {
             "color": "#2a3f5f"
            },
            "marker": {
             "line": {
              "color": "#E5ECF6",
              "width": 0.5
             },
             "pattern": {
              "fillmode": "overlay",
              "size": 10,
              "solidity": 0.2
             }
            },
            "type": "bar"
           }
          ],
          "barpolar": [
           {
            "marker": {
             "line": {
              "color": "#E5ECF6",
              "width": 0.5
             },
             "pattern": {
              "fillmode": "overlay",
              "size": 10,
              "solidity": 0.2
             }
            },
            "type": "barpolar"
           }
          ],
          "carpet": [
           {
            "aaxis": {
             "endlinecolor": "#2a3f5f",
             "gridcolor": "white",
             "linecolor": "white",
             "minorgridcolor": "white",
             "startlinecolor": "#2a3f5f"
            },
            "baxis": {
             "endlinecolor": "#2a3f5f",
             "gridcolor": "white",
             "linecolor": "white",
             "minorgridcolor": "white",
             "startlinecolor": "#2a3f5f"
            },
            "type": "carpet"
           }
          ],
          "choropleth": [
           {
            "colorbar": {
             "outlinewidth": 0,
             "ticks": ""
            },
            "type": "choropleth"
           }
          ],
          "contour": [
           {
            "colorbar": {
             "outlinewidth": 0,
             "ticks": ""
            },
            "colorscale": [
             [
              0,
              "#0d0887"
             ],
             [
              0.1111111111111111,
              "#46039f"
             ],
             [
              0.2222222222222222,
              "#7201a8"
             ],
             [
              0.3333333333333333,
              "#9c179e"
             ],
             [
              0.4444444444444444,
              "#bd3786"
             ],
             [
              0.5555555555555556,
              "#d8576b"
             ],
             [
              0.6666666666666666,
              "#ed7953"
             ],
             [
              0.7777777777777778,
              "#fb9f3a"
             ],
             [
              0.8888888888888888,
              "#fdca26"
             ],
             [
              1,
              "#f0f921"
             ]
            ],
            "type": "contour"
           }
          ],
          "contourcarpet": [
           {
            "colorbar": {
             "outlinewidth": 0,
             "ticks": ""
            },
            "type": "contourcarpet"
           }
          ],
          "heatmap": [
           {
            "colorbar": {
             "outlinewidth": 0,
             "ticks": ""
            },
            "colorscale": [
             [
              0,
              "#0d0887"
             ],
             [
              0.1111111111111111,
              "#46039f"
             ],
             [
              0.2222222222222222,
              "#7201a8"
             ],
             [
              0.3333333333333333,
              "#9c179e"
             ],
             [
              0.4444444444444444,
              "#bd3786"
             ],
             [
              0.5555555555555556,
              "#d8576b"
             ],
             [
              0.6666666666666666,
              "#ed7953"
             ],
             [
              0.7777777777777778,
              "#fb9f3a"
             ],
             [
              0.8888888888888888,
              "#fdca26"
             ],
             [
              1,
              "#f0f921"
             ]
            ],
            "type": "heatmap"
           }
          ],
          "heatmapgl": [
           {
            "colorbar": {
             "outlinewidth": 0,
             "ticks": ""
            },
            "colorscale": [
             [
              0,
              "#0d0887"
             ],
             [
              0.1111111111111111,
              "#46039f"
             ],
             [
              0.2222222222222222,
              "#7201a8"
             ],
             [
              0.3333333333333333,
              "#9c179e"
             ],
             [
              0.4444444444444444,
              "#bd3786"
             ],
             [
              0.5555555555555556,
              "#d8576b"
             ],
             [
              0.6666666666666666,
              "#ed7953"
             ],
             [
              0.7777777777777778,
              "#fb9f3a"
             ],
             [
              0.8888888888888888,
              "#fdca26"
             ],
             [
              1,
              "#f0f921"
             ]
            ],
            "type": "heatmapgl"
           }
          ],
          "histogram": [
           {
            "marker": {
             "pattern": {
              "fillmode": "overlay",
              "size": 10,
              "solidity": 0.2
             }
            },
            "type": "histogram"
           }
          ],
          "histogram2d": [
           {
            "colorbar": {
             "outlinewidth": 0,
             "ticks": ""
            },
            "colorscale": [
             [
              0,
              "#0d0887"
             ],
             [
              0.1111111111111111,
              "#46039f"
             ],
             [
              0.2222222222222222,
              "#7201a8"
             ],
             [
              0.3333333333333333,
              "#9c179e"
             ],
             [
              0.4444444444444444,
              "#bd3786"
             ],
             [
              0.5555555555555556,
              "#d8576b"
             ],
             [
              0.6666666666666666,
              "#ed7953"
             ],
             [
              0.7777777777777778,
              "#fb9f3a"
             ],
             [
              0.8888888888888888,
              "#fdca26"
             ],
             [
              1,
              "#f0f921"
             ]
            ],
            "type": "histogram2d"
           }
          ],
          "histogram2dcontour": [
           {
            "colorbar": {
             "outlinewidth": 0,
             "ticks": ""
            },
            "colorscale": [
             [
              0,
              "#0d0887"
             ],
             [
              0.1111111111111111,
              "#46039f"
             ],
             [
              0.2222222222222222,
              "#7201a8"
             ],
             [
              0.3333333333333333,
              "#9c179e"
             ],
             [
              0.4444444444444444,
              "#bd3786"
             ],
             [
              0.5555555555555556,
              "#d8576b"
             ],
             [
              0.6666666666666666,
              "#ed7953"
             ],
             [
              0.7777777777777778,
              "#fb9f3a"
             ],
             [
              0.8888888888888888,
              "#fdca26"
             ],
             [
              1,
              "#f0f921"
             ]
            ],
            "type": "histogram2dcontour"
           }
          ],
          "mesh3d": [
           {
            "colorbar": {
             "outlinewidth": 0,
             "ticks": ""
            },
            "type": "mesh3d"
           }
          ],
          "parcoords": [
           {
            "line": {
             "colorbar": {
              "outlinewidth": 0,
              "ticks": ""
             }
            },
            "type": "parcoords"
           }
          ],
          "pie": [
           {
            "automargin": true,
            "type": "pie"
           }
          ],
          "scatter": [
           {
            "marker": {
             "colorbar": {
              "outlinewidth": 0,
              "ticks": ""
             }
            },
            "type": "scatter"
           }
          ],
          "scatter3d": [
           {
            "line": {
             "colorbar": {
              "outlinewidth": 0,
              "ticks": ""
             }
            },
            "marker": {
             "colorbar": {
              "outlinewidth": 0,
              "ticks": ""
             }
            },
            "type": "scatter3d"
           }
          ],
          "scattercarpet": [
           {
            "marker": {
             "colorbar": {
              "outlinewidth": 0,
              "ticks": ""
             }
            },
            "type": "scattercarpet"
           }
          ],
          "scattergeo": [
           {
            "marker": {
             "colorbar": {
              "outlinewidth": 0,
              "ticks": ""
             }
            },
            "type": "scattergeo"
           }
          ],
          "scattergl": [
           {
            "marker": {
             "colorbar": {
              "outlinewidth": 0,
              "ticks": ""
             }
            },
            "type": "scattergl"
           }
          ],
          "scattermapbox": [
           {
            "marker": {
             "colorbar": {
              "outlinewidth": 0,
              "ticks": ""
             }
            },
            "type": "scattermapbox"
           }
          ],
          "scatterpolar": [
           {
            "marker": {
             "colorbar": {
              "outlinewidth": 0,
              "ticks": ""
             }
            },
            "type": "scatterpolar"
           }
          ],
          "scatterpolargl": [
           {
            "marker": {
             "colorbar": {
              "outlinewidth": 0,
              "ticks": ""
             }
            },
            "type": "scatterpolargl"
           }
          ],
          "scatterternary": [
           {
            "marker": {
             "colorbar": {
              "outlinewidth": 0,
              "ticks": ""
             }
            },
            "type": "scatterternary"
           }
          ],
          "surface": [
           {
            "colorbar": {
             "outlinewidth": 0,
             "ticks": ""
            },
            "colorscale": [
             [
              0,
              "#0d0887"
             ],
             [
              0.1111111111111111,
              "#46039f"
             ],
             [
              0.2222222222222222,
              "#7201a8"
             ],
             [
              0.3333333333333333,
              "#9c179e"
             ],
             [
              0.4444444444444444,
              "#bd3786"
             ],
             [
              0.5555555555555556,
              "#d8576b"
             ],
             [
              0.6666666666666666,
              "#ed7953"
             ],
             [
              0.7777777777777778,
              "#fb9f3a"
             ],
             [
              0.8888888888888888,
              "#fdca26"
             ],
             [
              1,
              "#f0f921"
             ]
            ],
            "type": "surface"
           }
          ],
          "table": [
           {
            "cells": {
             "fill": {
              "color": "#EBF0F8"
             },
             "line": {
              "color": "white"
             }
            },
            "header": {
             "fill": {
              "color": "#C8D4E3"
             },
             "line": {
              "color": "white"
             }
            },
            "type": "table"
           }
          ]
         },
         "layout": {
          "annotationdefaults": {
           "arrowcolor": "#2a3f5f",
           "arrowhead": 0,
           "arrowwidth": 1
          },
          "autotypenumbers": "strict",
          "coloraxis": {
           "colorbar": {
            "outlinewidth": 0,
            "ticks": ""
           }
          },
          "colorscale": {
           "diverging": [
            [
             0,
             "#8e0152"
            ],
            [
             0.1,
             "#c51b7d"
            ],
            [
             0.2,
             "#de77ae"
            ],
            [
             0.3,
             "#f1b6da"
            ],
            [
             0.4,
             "#fde0ef"
            ],
            [
             0.5,
             "#f7f7f7"
            ],
            [
             0.6,
             "#e6f5d0"
            ],
            [
             0.7,
             "#b8e186"
            ],
            [
             0.8,
             "#7fbc41"
            ],
            [
             0.9,
             "#4d9221"
            ],
            [
             1,
             "#276419"
            ]
           ],
           "sequential": [
            [
             0,
             "#0d0887"
            ],
            [
             0.1111111111111111,
             "#46039f"
            ],
            [
             0.2222222222222222,
             "#7201a8"
            ],
            [
             0.3333333333333333,
             "#9c179e"
            ],
            [
             0.4444444444444444,
             "#bd3786"
            ],
            [
             0.5555555555555556,
             "#d8576b"
            ],
            [
             0.6666666666666666,
             "#ed7953"
            ],
            [
             0.7777777777777778,
             "#fb9f3a"
            ],
            [
             0.8888888888888888,
             "#fdca26"
            ],
            [
             1,
             "#f0f921"
            ]
           ],
           "sequentialminus": [
            [
             0,
             "#0d0887"
            ],
            [
             0.1111111111111111,
             "#46039f"
            ],
            [
             0.2222222222222222,
             "#7201a8"
            ],
            [
             0.3333333333333333,
             "#9c179e"
            ],
            [
             0.4444444444444444,
             "#bd3786"
            ],
            [
             0.5555555555555556,
             "#d8576b"
            ],
            [
             0.6666666666666666,
             "#ed7953"
            ],
            [
             0.7777777777777778,
             "#fb9f3a"
            ],
            [
             0.8888888888888888,
             "#fdca26"
            ],
            [
             1,
             "#f0f921"
            ]
           ]
          },
          "colorway": [
           "#636efa",
           "#EF553B",
           "#00cc96",
           "#ab63fa",
           "#FFA15A",
           "#19d3f3",
           "#FF6692",
           "#B6E880",
           "#FF97FF",
           "#FECB52"
          ],
          "font": {
           "color": "#2a3f5f"
          },
          "geo": {
           "bgcolor": "white",
           "lakecolor": "white",
           "landcolor": "#E5ECF6",
           "showlakes": true,
           "showland": true,
           "subunitcolor": "white"
          },
          "hoverlabel": {
           "align": "left"
          },
          "hovermode": "closest",
          "mapbox": {
           "style": "light"
          },
          "paper_bgcolor": "white",
          "plot_bgcolor": "#E5ECF6",
          "polar": {
           "angularaxis": {
            "gridcolor": "white",
            "linecolor": "white",
            "ticks": ""
           },
           "bgcolor": "#E5ECF6",
           "radialaxis": {
            "gridcolor": "white",
            "linecolor": "white",
            "ticks": ""
           }
          },
          "scene": {
           "xaxis": {
            "backgroundcolor": "#E5ECF6",
            "gridcolor": "white",
            "gridwidth": 2,
            "linecolor": "white",
            "showbackground": true,
            "ticks": "",
            "zerolinecolor": "white"
           },
           "yaxis": {
            "backgroundcolor": "#E5ECF6",
            "gridcolor": "white",
            "gridwidth": 2,
            "linecolor": "white",
            "showbackground": true,
            "ticks": "",
            "zerolinecolor": "white"
           },
           "zaxis": {
            "backgroundcolor": "#E5ECF6",
            "gridcolor": "white",
            "gridwidth": 2,
            "linecolor": "white",
            "showbackground": true,
            "ticks": "",
            "zerolinecolor": "white"
           }
          },
          "shapedefaults": {
           "line": {
            "color": "#2a3f5f"
           }
          },
          "ternary": {
           "aaxis": {
            "gridcolor": "white",
            "linecolor": "white",
            "ticks": ""
           },
           "baxis": {
            "gridcolor": "white",
            "linecolor": "white",
            "ticks": ""
           },
           "bgcolor": "#E5ECF6",
           "caxis": {
            "gridcolor": "white",
            "linecolor": "white",
            "ticks": ""
           }
          },
          "title": {
           "x": 0.05
          },
          "xaxis": {
           "automargin": true,
           "gridcolor": "white",
           "linecolor": "white",
           "ticks": "",
           "title": {
            "standoff": 15
           },
           "zerolinecolor": "white",
           "zerolinewidth": 2
          },
          "yaxis": {
           "automargin": true,
           "gridcolor": "white",
           "linecolor": "white",
           "ticks": "",
           "title": {
            "standoff": 15
           },
           "zerolinecolor": "white",
           "zerolinewidth": 2
          }
         }
        },
        "title": {
         "text": "Figure 3. Total Suicides in Yucatán from 2010 to 2020",
         "x": 0.5
        },
        "updatemenus": [
         {
          "active": 30,
          "buttons": [
           {
            "args": [
             {
              "visible": [
               true,
               false,
               false,
               false,
               false,
               false,
               false,
               false,
               false,
               false,
               false,
               false,
               false,
               false,
               false,
               false,
               false,
               false,
               false,
               false,
               false,
               false,
               false,
               false,
               false,
               false,
               false,
               false,
               false,
               false,
               false,
               false
              ]
             },
             {
              "title": "Total Suicides in Aguascalientes"
             }
            ],
            "label": "Aguascalientes",
            "method": "update"
           },
           {
            "args": [
             {
              "visible": [
               false,
               true,
               false,
               false,
               false,
               false,
               false,
               false,
               false,
               false,
               false,
               false,
               false,
               false,
               false,
               false,
               false,
               false,
               false,
               false,
               false,
               false,
               false,
               false,
               false,
               false,
               false,
               false,
               false,
               false,
               false,
               false
              ]
             },
             {
              "title": "Total Suicides in Baja California"
             }
            ],
            "label": "Baja California",
            "method": "update"
           },
           {
            "args": [
             {
              "visible": [
               false,
               false,
               true,
               false,
               false,
               false,
               false,
               false,
               false,
               false,
               false,
               false,
               false,
               false,
               false,
               false,
               false,
               false,
               false,
               false,
               false,
               false,
               false,
               false,
               false,
               false,
               false,
               false,
               false,
               false,
               false,
               false
              ]
             },
             {
              "title": "Total Suicides in Baja California Sur"
             }
            ],
            "label": "Baja California Sur",
            "method": "update"
           },
           {
            "args": [
             {
              "visible": [
               false,
               false,
               false,
               true,
               false,
               false,
               false,
               false,
               false,
               false,
               false,
               false,
               false,
               false,
               false,
               false,
               false,
               false,
               false,
               false,
               false,
               false,
               false,
               false,
               false,
               false,
               false,
               false,
               false,
               false,
               false,
               false
              ]
             },
             {
              "title": "Total Suicides in Campeche"
             }
            ],
            "label": "Campeche",
            "method": "update"
           },
           {
            "args": [
             {
              "visible": [
               false,
               false,
               false,
               false,
               true,
               false,
               false,
               false,
               false,
               false,
               false,
               false,
               false,
               false,
               false,
               false,
               false,
               false,
               false,
               false,
               false,
               false,
               false,
               false,
               false,
               false,
               false,
               false,
               false,
               false,
               false,
               false
              ]
             },
             {
              "title": "Total Suicides in Coahuila de Zaragoza"
             }
            ],
            "label": "Coahuila de Zaragoza",
            "method": "update"
           },
           {
            "args": [
             {
              "visible": [
               false,
               false,
               false,
               false,
               false,
               true,
               false,
               false,
               false,
               false,
               false,
               false,
               false,
               false,
               false,
               false,
               false,
               false,
               false,
               false,
               false,
               false,
               false,
               false,
               false,
               false,
               false,
               false,
               false,
               false,
               false,
               false
              ]
             },
             {
              "title": "Total Suicides in Colima"
             }
            ],
            "label": "Colima",
            "method": "update"
           },
           {
            "args": [
             {
              "visible": [
               false,
               false,
               false,
               false,
               false,
               false,
               true,
               false,
               false,
               false,
               false,
               false,
               false,
               false,
               false,
               false,
               false,
               false,
               false,
               false,
               false,
               false,
               false,
               false,
               false,
               false,
               false,
               false,
               false,
               false,
               false,
               false
              ]
             },
             {
              "title": "Total Suicides in Chiapas"
             }
            ],
            "label": "Chiapas",
            "method": "update"
           },
           {
            "args": [
             {
              "visible": [
               false,
               false,
               false,
               false,
               false,
               false,
               false,
               true,
               false,
               false,
               false,
               false,
               false,
               false,
               false,
               false,
               false,
               false,
               false,
               false,
               false,
               false,
               false,
               false,
               false,
               false,
               false,
               false,
               false,
               false,
               false,
               false
              ]
             },
             {
              "title": "Total Suicides in Chihuahua"
             }
            ],
            "label": "Chihuahua",
            "method": "update"
           },
           {
            "args": [
             {
              "visible": [
               false,
               false,
               false,
               false,
               false,
               false,
               false,
               false,
               true,
               false,
               false,
               false,
               false,
               false,
               false,
               false,
               false,
               false,
               false,
               false,
               false,
               false,
               false,
               false,
               false,
               false,
               false,
               false,
               false,
               false,
               false,
               false
              ]
             },
             {
              "title": "Total Suicides in Ciudad de México"
             }
            ],
            "label": "Ciudad de México",
            "method": "update"
           },
           {
            "args": [
             {
              "visible": [
               false,
               false,
               false,
               false,
               false,
               false,
               false,
               false,
               false,
               true,
               false,
               false,
               false,
               false,
               false,
               false,
               false,
               false,
               false,
               false,
               false,
               false,
               false,
               false,
               false,
               false,
               false,
               false,
               false,
               false,
               false,
               false
              ]
             },
             {
              "title": "Total Suicides in Durango"
             }
            ],
            "label": "Durango",
            "method": "update"
           },
           {
            "args": [
             {
              "visible": [
               false,
               false,
               false,
               false,
               false,
               false,
               false,
               false,
               false,
               false,
               true,
               false,
               false,
               false,
               false,
               false,
               false,
               false,
               false,
               false,
               false,
               false,
               false,
               false,
               false,
               false,
               false,
               false,
               false,
               false,
               false,
               false
              ]
             },
             {
              "title": "Total Suicides in Guanajuato"
             }
            ],
            "label": "Guanajuato",
            "method": "update"
           },
           {
            "args": [
             {
              "visible": [
               false,
               false,
               false,
               false,
               false,
               false,
               false,
               false,
               false,
               false,
               false,
               true,
               false,
               false,
               false,
               false,
               false,
               false,
               false,
               false,
               false,
               false,
               false,
               false,
               false,
               false,
               false,
               false,
               false,
               false,
               false,
               false
              ]
             },
             {
              "title": "Total Suicides in Guerrero"
             }
            ],
            "label": "Guerrero",
            "method": "update"
           },
           {
            "args": [
             {
              "visible": [
               false,
               false,
               false,
               false,
               false,
               false,
               false,
               false,
               false,
               false,
               false,
               false,
               true,
               false,
               false,
               false,
               false,
               false,
               false,
               false,
               false,
               false,
               false,
               false,
               false,
               false,
               false,
               false,
               false,
               false,
               false,
               false
              ]
             },
             {
              "title": "Total Suicides in Hidalgo"
             }
            ],
            "label": "Hidalgo",
            "method": "update"
           },
           {
            "args": [
             {
              "visible": [
               false,
               false,
               false,
               false,
               false,
               false,
               false,
               false,
               false,
               false,
               false,
               false,
               false,
               true,
               false,
               false,
               false,
               false,
               false,
               false,
               false,
               false,
               false,
               false,
               false,
               false,
               false,
               false,
               false,
               false,
               false,
               false
              ]
             },
             {
              "title": "Total Suicides in Jalisco"
             }
            ],
            "label": "Jalisco",
            "method": "update"
           },
           {
            "args": [
             {
              "visible": [
               false,
               false,
               false,
               false,
               false,
               false,
               false,
               false,
               false,
               false,
               false,
               false,
               false,
               false,
               true,
               false,
               false,
               false,
               false,
               false,
               false,
               false,
               false,
               false,
               false,
               false,
               false,
               false,
               false,
               false,
               false,
               false
              ]
             },
             {
              "title": "Total Suicides in México"
             }
            ],
            "label": "México",
            "method": "update"
           },
           {
            "args": [
             {
              "visible": [
               false,
               false,
               false,
               false,
               false,
               false,
               false,
               false,
               false,
               false,
               false,
               false,
               false,
               false,
               false,
               true,
               false,
               false,
               false,
               false,
               false,
               false,
               false,
               false,
               false,
               false,
               false,
               false,
               false,
               false,
               false,
               false
              ]
             },
             {
              "title": "Total Suicides in Michoacán de Ocampo"
             }
            ],
            "label": "Michoacán de Ocampo",
            "method": "update"
           },
           {
            "args": [
             {
              "visible": [
               false,
               false,
               false,
               false,
               false,
               false,
               false,
               false,
               false,
               false,
               false,
               false,
               false,
               false,
               false,
               false,
               true,
               false,
               false,
               false,
               false,
               false,
               false,
               false,
               false,
               false,
               false,
               false,
               false,
               false,
               false,
               false
              ]
             },
             {
              "title": "Total Suicides in Morelos"
             }
            ],
            "label": "Morelos",
            "method": "update"
           },
           {
            "args": [
             {
              "visible": [
               false,
               false,
               false,
               false,
               false,
               false,
               false,
               false,
               false,
               false,
               false,
               false,
               false,
               false,
               false,
               false,
               false,
               true,
               false,
               false,
               false,
               false,
               false,
               false,
               false,
               false,
               false,
               false,
               false,
               false,
               false,
               false
              ]
             },
             {
              "title": "Total Suicides in Nayarit"
             }
            ],
            "label": "Nayarit",
            "method": "update"
           },
           {
            "args": [
             {
              "visible": [
               false,
               false,
               false,
               false,
               false,
               false,
               false,
               false,
               false,
               false,
               false,
               false,
               false,
               false,
               false,
               false,
               false,
               false,
               true,
               false,
               false,
               false,
               false,
               false,
               false,
               false,
               false,
               false,
               false,
               false,
               false,
               false
              ]
             },
             {
              "title": "Total Suicides in Nuevo León"
             }
            ],
            "label": "Nuevo León",
            "method": "update"
           },
           {
            "args": [
             {
              "visible": [
               false,
               false,
               false,
               false,
               false,
               false,
               false,
               false,
               false,
               false,
               false,
               false,
               false,
               false,
               false,
               false,
               false,
               false,
               false,
               true,
               false,
               false,
               false,
               false,
               false,
               false,
               false,
               false,
               false,
               false,
               false,
               false
              ]
             },
             {
              "title": "Total Suicides in Oaxaca"
             }
            ],
            "label": "Oaxaca",
            "method": "update"
           },
           {
            "args": [
             {
              "visible": [
               false,
               false,
               false,
               false,
               false,
               false,
               false,
               false,
               false,
               false,
               false,
               false,
               false,
               false,
               false,
               false,
               false,
               false,
               false,
               false,
               true,
               false,
               false,
               false,
               false,
               false,
               false,
               false,
               false,
               false,
               false,
               false
              ]
             },
             {
              "title": "Total Suicides in Puebla"
             }
            ],
            "label": "Puebla",
            "method": "update"
           },
           {
            "args": [
             {
              "visible": [
               false,
               false,
               false,
               false,
               false,
               false,
               false,
               false,
               false,
               false,
               false,
               false,
               false,
               false,
               false,
               false,
               false,
               false,
               false,
               false,
               false,
               true,
               false,
               false,
               false,
               false,
               false,
               false,
               false,
               false,
               false,
               false
              ]
             },
             {
              "title": "Total Suicides in Querétaro"
             }
            ],
            "label": "Querétaro",
            "method": "update"
           },
           {
            "args": [
             {
              "visible": [
               false,
               false,
               false,
               false,
               false,
               false,
               false,
               false,
               false,
               false,
               false,
               false,
               false,
               false,
               false,
               false,
               false,
               false,
               false,
               false,
               false,
               false,
               true,
               false,
               false,
               false,
               false,
               false,
               false,
               false,
               false,
               false
              ]
             },
             {
              "title": "Total Suicides in Quintana Roo"
             }
            ],
            "label": "Quintana Roo",
            "method": "update"
           },
           {
            "args": [
             {
              "visible": [
               false,
               false,
               false,
               false,
               false,
               false,
               false,
               false,
               false,
               false,
               false,
               false,
               false,
               false,
               false,
               false,
               false,
               false,
               false,
               false,
               false,
               false,
               false,
               true,
               false,
               false,
               false,
               false,
               false,
               false,
               false,
               false
              ]
             },
             {
              "title": "Total Suicides in San Luis Potosí"
             }
            ],
            "label": "San Luis Potosí",
            "method": "update"
           },
           {
            "args": [
             {
              "visible": [
               false,
               false,
               false,
               false,
               false,
               false,
               false,
               false,
               false,
               false,
               false,
               false,
               false,
               false,
               false,
               false,
               false,
               false,
               false,
               false,
               false,
               false,
               false,
               false,
               true,
               false,
               false,
               false,
               false,
               false,
               false,
               false
              ]
             },
             {
              "title": "Total Suicides in Sinaloa"
             }
            ],
            "label": "Sinaloa",
            "method": "update"
           },
           {
            "args": [
             {
              "visible": [
               false,
               false,
               false,
               false,
               false,
               false,
               false,
               false,
               false,
               false,
               false,
               false,
               false,
               false,
               false,
               false,
               false,
               false,
               false,
               false,
               false,
               false,
               false,
               false,
               false,
               true,
               false,
               false,
               false,
               false,
               false,
               false
              ]
             },
             {
              "title": "Total Suicides in Sonora"
             }
            ],
            "label": "Sonora",
            "method": "update"
           },
           {
            "args": [
             {
              "visible": [
               false,
               false,
               false,
               false,
               false,
               false,
               false,
               false,
               false,
               false,
               false,
               false,
               false,
               false,
               false,
               false,
               false,
               false,
               false,
               false,
               false,
               false,
               false,
               false,
               false,
               false,
               true,
               false,
               false,
               false,
               false,
               false
              ]
             },
             {
              "title": "Total Suicides in Tabasco"
             }
            ],
            "label": "Tabasco",
            "method": "update"
           },
           {
            "args": [
             {
              "visible": [
               false,
               false,
               false,
               false,
               false,
               false,
               false,
               false,
               false,
               false,
               false,
               false,
               false,
               false,
               false,
               false,
               false,
               false,
               false,
               false,
               false,
               false,
               false,
               false,
               false,
               false,
               false,
               true,
               false,
               false,
               false,
               false
              ]
             },
             {
              "title": "Total Suicides in Tamaulipas"
             }
            ],
            "label": "Tamaulipas",
            "method": "update"
           },
           {
            "args": [
             {
              "visible": [
               false,
               false,
               false,
               false,
               false,
               false,
               false,
               false,
               false,
               false,
               false,
               false,
               false,
               false,
               false,
               false,
               false,
               false,
               false,
               false,
               false,
               false,
               false,
               false,
               false,
               false,
               false,
               false,
               true,
               false,
               false,
               false
              ]
             },
             {
              "title": "Total Suicides in Tlaxcala"
             }
            ],
            "label": "Tlaxcala",
            "method": "update"
           },
           {
            "args": [
             {
              "visible": [
               false,
               false,
               false,
               false,
               false,
               false,
               false,
               false,
               false,
               false,
               false,
               false,
               false,
               false,
               false,
               false,
               false,
               false,
               false,
               false,
               false,
               false,
               false,
               false,
               false,
               false,
               false,
               false,
               false,
               true,
               false,
               false
              ]
             },
             {
              "title": "Total Suicides in Veracruz de Ignacio de la Llave"
             }
            ],
            "label": "Veracruz de Ignacio de la Llave",
            "method": "update"
           },
           {
            "args": [
             {
              "visible": [
               false,
               false,
               false,
               false,
               false,
               false,
               false,
               false,
               false,
               false,
               false,
               false,
               false,
               false,
               false,
               false,
               false,
               false,
               false,
               false,
               false,
               false,
               false,
               false,
               false,
               false,
               false,
               false,
               false,
               false,
               true,
               false
              ]
             },
             {
              "title": "Total Suicides in Yucatán"
             }
            ],
            "label": "Yucatán",
            "method": "update"
           },
           {
            "args": [
             {
              "visible": [
               false,
               false,
               false,
               false,
               false,
               false,
               false,
               false,
               false,
               false,
               false,
               false,
               false,
               false,
               false,
               false,
               false,
               false,
               false,
               false,
               false,
               false,
               false,
               false,
               false,
               false,
               false,
               false,
               false,
               false,
               false,
               true
              ]
             },
             {
              "title": "Total Suicides in Zacatecas"
             }
            ],
            "label": "Zacatecas",
            "method": "update"
           }
          ]
         }
        ],
        "xaxis": {
         "title": {
          "text": "Year"
         }
        },
        "yaxis": {
         "title": {
          "text": "Count"
         }
        }
       }
      }
     },
     "metadata": {}
    }
   ],
   "metadata": {}
  },
  {
   "cell_type": "code",
   "execution_count": 70,
   "source": [
    "fig = go.Figure()\r\n",
    "for year in range(2010,2021):\r\n",
    "    fig.add_trace(go.Scatter(x=df.Entidad, y=df['{}_Total'.format(year)],\r\n",
    "                        #mode='lines+text+markers',\r\n",
    "                        name='{}'.format(year),\r\n",
    "                        #text=df['{}_Total'.format(year)],\r\n",
    "                        #textposition='top center',\r\n",
    "                        hovertemplate=\r\n",
    "                        '<b>Entity</b>: %{x}<br>'+\r\n",
    "                        '<b>Count</b>: %{y}',\r\n",
    "                        ))\r\n",
    "\r\n",
    "fig.update_layout(title='Figure 2. Total Suicides per entity',\r\n",
    "                    xaxis_title='Entity',\r\n",
    "                    yaxis_title='Count',\r\n",
    "                    height=700)\r\n",
    "\r\n",
    "#pio.write_html(fig, file='suicidios_total_entity.html', include_plotlyjs='cdn', full_html=False)\r\n",
    "fig.show()"
   ],
   "outputs": [
    {
     "output_type": "display_data",
     "data": {
      "application/vnd.plotly.v1+json": {
       "config": {
        "plotlyServerURL": "https://plot.ly"
       },
       "data": [
        {
         "hovertemplate": "<b>Entity</b>: %{x}<br><b>Count</b>: %{y}",
         "name": "2010",
         "type": "scatter",
         "x": [
          "Aguascalientes",
          "Baja California",
          "Baja California Sur",
          "Campeche",
          "Coahuila de Zaragoza",
          "Colima",
          "Chiapas",
          "Chihuahua",
          "Ciudad de México",
          "Durango",
          "Guanajuato",
          "Guerrero",
          "Hidalgo",
          "Jalisco",
          "México",
          "Michoacán de Ocampo",
          "Morelos",
          "Nayarit",
          "Nuevo León",
          "Oaxaca",
          "Puebla",
          "Querétaro",
          "Quintana Roo",
          "San Luis Potosí",
          "Sinaloa",
          "Sonora",
          "Tabasco",
          "Tamaulipas",
          "Tlaxcala",
          "Veracruz de Ignacio de la Llave",
          "Yucatán",
          "Zacatecas"
         ],
         "y": [
          50,
          107,
          45,
          62,
          169,
          31,
          88,
          234,
          375,
          94,
          283,
          91,
          56,
          399,
          537,
          151,
          45,
          46,
          238,
          131,
          205,
          85,
          132,
          164,
          113,
          170,
          187,
          166,
          33,
          262,
          206,
          51
         ]
        },
        {
         "hovertemplate": "<b>Entity</b>: %{x}<br><b>Count</b>: %{y}",
         "name": "2011",
         "type": "scatter",
         "x": [
          "Aguascalientes",
          "Baja California",
          "Baja California Sur",
          "Campeche",
          "Coahuila de Zaragoza",
          "Colima",
          "Chiapas",
          "Chihuahua",
          "Ciudad de México",
          "Durango",
          "Guanajuato",
          "Guerrero",
          "Hidalgo",
          "Jalisco",
          "México",
          "Michoacán de Ocampo",
          "Morelos",
          "Nayarit",
          "Nuevo León",
          "Oaxaca",
          "Puebla",
          "Querétaro",
          "Quintana Roo",
          "San Luis Potosí",
          "Sinaloa",
          "Sonora",
          "Tabasco",
          "Tamaulipas",
          "Tlaxcala",
          "Veracruz de Ignacio de la Llave",
          "Yucatán",
          "Zacatecas"
         ],
         "y": [
          98,
          149,
          30,
          81,
          169,
          48,
          230,
          289,
          413,
          86,
          358,
          90,
          113,
          453,
          600,
          150,
          61,
          46,
          218,
          142,
          256,
          98,
          121,
          159,
          111,
          178,
          188,
          149,
          51,
          309,
          186,
          82
         ]
        },
        {
         "hovertemplate": "<b>Entity</b>: %{x}<br><b>Count</b>: %{y}",
         "name": "2012",
         "type": "scatter",
         "x": [
          "Aguascalientes",
          "Baja California",
          "Baja California Sur",
          "Campeche",
          "Coahuila de Zaragoza",
          "Colima",
          "Chiapas",
          "Chihuahua",
          "Ciudad de México",
          "Durango",
          "Guanajuato",
          "Guerrero",
          "Hidalgo",
          "Jalisco",
          "México",
          "Michoacán de Ocampo",
          "Morelos",
          "Nayarit",
          "Nuevo León",
          "Oaxaca",
          "Puebla",
          "Querétaro",
          "Quintana Roo",
          "San Luis Potosí",
          "Sinaloa",
          "Sonora",
          "Tabasco",
          "Tamaulipas",
          "Tlaxcala",
          "Veracruz de Ignacio de la Llave",
          "Yucatán",
          "Zacatecas"
         ],
         "y": [
          116,
          113,
          44,
          63,
          150,
          46,
          189,
          266,
          426,
          76,
          338,
          90,
          102,
          507,
          598,
          147,
          62,
          50,
          229,
          124,
          216,
          115,
          144,
          158,
          99,
          184,
          172,
          168,
          44,
          289,
          160,
          53
         ]
        },
        {
         "hovertemplate": "<b>Entity</b>: %{x}<br><b>Count</b>: %{y}",
         "name": "2013",
         "type": "scatter",
         "x": [
          "Aguascalientes",
          "Baja California",
          "Baja California Sur",
          "Campeche",
          "Coahuila de Zaragoza",
          "Colima",
          "Chiapas",
          "Chihuahua",
          "Ciudad de México",
          "Durango",
          "Guanajuato",
          "Guerrero",
          "Hidalgo",
          "Jalisco",
          "México",
          "Michoacán de Ocampo",
          "Morelos",
          "Nayarit",
          "Nuevo León",
          "Oaxaca",
          "Puebla",
          "Querétaro",
          "Quintana Roo",
          "San Luis Potosí",
          "Sinaloa",
          "Sonora",
          "Tabasco",
          "Tamaulipas",
          "Tlaxcala",
          "Veracruz de Ignacio de la Llave",
          "Yucatán",
          "Zacatecas"
         ],
         "y": [
          113,
          123,
          50,
          77,
          174,
          52,
          315,
          310,
          425,
          90,
          351,
          104,
          112,
          481,
          620,
          142,
          65,
          54,
          245,
          121,
          240,
          112,
          137,
          157,
          123,
          237,
          168,
          157,
          40,
          265,
          167,
          62
         ]
        },
        {
         "hovertemplate": "<b>Entity</b>: %{x}<br><b>Count</b>: %{y}",
         "name": "2014",
         "type": "scatter",
         "x": [
          "Aguascalientes",
          "Baja California",
          "Baja California Sur",
          "Campeche",
          "Coahuila de Zaragoza",
          "Colima",
          "Chiapas",
          "Chihuahua",
          "Ciudad de México",
          "Durango",
          "Guanajuato",
          "Guerrero",
          "Hidalgo",
          "Jalisco",
          "México",
          "Michoacán de Ocampo",
          "Morelos",
          "Nayarit",
          "Nuevo León",
          "Oaxaca",
          "Puebla",
          "Querétaro",
          "Quintana Roo",
          "San Luis Potosí",
          "Sinaloa",
          "Sonora",
          "Tabasco",
          "Tamaulipas",
          "Tlaxcala",
          "Veracruz de Ignacio de la Llave",
          "Yucatán",
          "Zacatecas"
         ],
         "y": [
          110,
          181,
          59,
          92,
          174,
          42,
          321,
          326,
          434,
          104,
          422,
          81,
          126,
          506,
          670,
          192,
          54,
          81,
          220,
          132,
          277,
          80,
          118,
          173,
          143,
          236,
          164,
          176,
          53,
          319,
          181,
          70
         ]
        },
        {
         "hovertemplate": "<b>Entity</b>: %{x}<br><b>Count</b>: %{y}",
         "name": "2015",
         "type": "scatter",
         "x": [
          "Aguascalientes",
          "Baja California",
          "Baja California Sur",
          "Campeche",
          "Coahuila de Zaragoza",
          "Colima",
          "Chiapas",
          "Chihuahua",
          "Ciudad de México",
          "Durango",
          "Guanajuato",
          "Guerrero",
          "Hidalgo",
          "Jalisco",
          "México",
          "Michoacán de Ocampo",
          "Morelos",
          "Nayarit",
          "Nuevo León",
          "Oaxaca",
          "Puebla",
          "Querétaro",
          "Quintana Roo",
          "San Luis Potosí",
          "Sinaloa",
          "Sonora",
          "Tabasco",
          "Tamaulipas",
          "Tlaxcala",
          "Veracruz de Ignacio de la Llave",
          "Yucatán",
          "Zacatecas"
         ],
         "y": [
          124,
          150,
          57,
          86,
          181,
          54,
          316,
          421,
          369,
          116,
          466,
          73,
          117,
          527,
          667,
          169,
          44,
          75,
          253,
          156,
          268,
          110,
          140,
          164,
          142,
          249,
          170,
          149,
          52,
          252,
          190,
          103
         ]
        },
        {
         "hovertemplate": "<b>Entity</b>: %{x}<br><b>Count</b>: %{y}",
         "name": "2016",
         "type": "scatter",
         "x": [
          "Aguascalientes",
          "Baja California",
          "Baja California Sur",
          "Campeche",
          "Coahuila de Zaragoza",
          "Colima",
          "Chiapas",
          "Chihuahua",
          "Ciudad de México",
          "Durango",
          "Guanajuato",
          "Guerrero",
          "Hidalgo",
          "Jalisco",
          "México",
          "Michoacán de Ocampo",
          "Morelos",
          "Nayarit",
          "Nuevo León",
          "Oaxaca",
          "Puebla",
          "Querétaro",
          "Quintana Roo",
          "San Luis Potosí",
          "Sinaloa",
          "Sonora",
          "Tabasco",
          "Tamaulipas",
          "Tlaxcala",
          "Veracruz de Ignacio de la Llave",
          "Yucatán",
          "Zacatecas"
         ],
         "y": [
          125,
          170,
          55,
          87,
          171,
          66,
          272,
          438,
          377,
          114,
          459,
          83,
          113,
          597,
          579,
          182,
          87,
          79,
          292,
          114,
          226,
          102,
          125,
          179,
          165,
          218,
          155,
          159,
          52,
          207,
          224,
          76
         ]
        },
        {
         "hovertemplate": "<b>Entity</b>: %{x}<br><b>Count</b>: %{y}",
         "name": "2017",
         "type": "scatter",
         "x": [
          "Aguascalientes",
          "Baja California",
          "Baja California Sur",
          "Campeche",
          "Coahuila de Zaragoza",
          "Colima",
          "Chiapas",
          "Chihuahua",
          "Ciudad de México",
          "Durango",
          "Guanajuato",
          "Guerrero",
          "Hidalgo",
          "Jalisco",
          "México",
          "Michoacán de Ocampo",
          "Morelos",
          "Nayarit",
          "Nuevo León",
          "Oaxaca",
          "Puebla",
          "Querétaro",
          "Quintana Roo",
          "San Luis Potosí",
          "Sinaloa",
          "Sonora",
          "Tabasco",
          "Tamaulipas",
          "Tlaxcala",
          "Veracruz de Ignacio de la Llave",
          "Yucatán",
          "Zacatecas"
         ],
         "y": [
          140,
          166,
          47,
          74,
          201,
          46,
          262,
          405,
          302,
          124,
          494,
          73,
          116,
          658,
          570,
          206,
          71,
          72,
          270,
          129,
          302,
          137,
          135,
          199,
          168,
          264,
          108,
          158,
          55,
          217,
          191,
          109
         ]
        },
        {
         "hovertemplate": "<b>Entity</b>: %{x}<br><b>Count</b>: %{y}",
         "name": "2018",
         "type": "scatter",
         "x": [
          "Aguascalientes",
          "Baja California",
          "Baja California Sur",
          "Campeche",
          "Coahuila de Zaragoza",
          "Colima",
          "Chiapas",
          "Chihuahua",
          "Ciudad de México",
          "Durango",
          "Guanajuato",
          "Guerrero",
          "Hidalgo",
          "Jalisco",
          "México",
          "Michoacán de Ocampo",
          "Morelos",
          "Nayarit",
          "Nuevo León",
          "Oaxaca",
          "Puebla",
          "Querétaro",
          "Quintana Roo",
          "San Luis Potosí",
          "Sinaloa",
          "Sonora",
          "Tabasco",
          "Tamaulipas",
          "Tlaxcala",
          "Veracruz de Ignacio de la Llave",
          "Yucatán",
          "Zacatecas"
         ],
         "y": [
          140,
          194,
          57,
          69,
          216,
          51,
          147,
          365,
          227,
          122,
          504,
          63,
          109,
          630,
          584,
          245,
          88,
          66,
          317,
          140,
          319,
          138,
          125,
          204,
          135,
          267,
          142,
          164,
          55,
          253,
          235,
          99
         ]
        },
        {
         "hovertemplate": "<b>Entity</b>: %{x}<br><b>Count</b>: %{y}",
         "name": "2019",
         "type": "scatter",
         "x": [
          "Aguascalientes",
          "Baja California",
          "Baja California Sur",
          "Campeche",
          "Coahuila de Zaragoza",
          "Colima",
          "Chiapas",
          "Chihuahua",
          "Ciudad de México",
          "Durango",
          "Guanajuato",
          "Guerrero",
          "Hidalgo",
          "Jalisco",
          "México",
          "Michoacán de Ocampo",
          "Morelos",
          "Nayarit",
          "Nuevo León",
          "Oaxaca",
          "Puebla",
          "Querétaro",
          "Quintana Roo",
          "San Luis Potosí",
          "Sinaloa",
          "Sonora",
          "Tabasco",
          "Tamaulipas",
          "Tlaxcala",
          "Veracruz de Ignacio de la Llave",
          "Yucatán",
          "Zacatecas"
         ],
         "y": [
          157,
          169,
          59,
          95,
          261,
          39,
          200,
          400,
          234,
          127,
          493,
          77,
          117,
          605,
          715,
          334,
          90,
          77,
          318,
          166,
          345,
          175,
          133,
          239,
          152,
          263,
          126,
          174,
          65,
          265,
          245,
          117
         ]
        },
        {
         "hovertemplate": "<b>Entity</b>: %{x}<br><b>Count</b>: %{y}",
         "name": "2020",
         "type": "scatter",
         "x": [
          "Aguascalientes",
          "Baja California",
          "Baja California Sur",
          "Campeche",
          "Coahuila de Zaragoza",
          "Colima",
          "Chiapas",
          "Chihuahua",
          "Ciudad de México",
          "Durango",
          "Guanajuato",
          "Guerrero",
          "Hidalgo",
          "Jalisco",
          "México",
          "Michoacán de Ocampo",
          "Morelos",
          "Nayarit",
          "Nuevo León",
          "Oaxaca",
          "Puebla",
          "Querétaro",
          "Quintana Roo",
          "San Luis Potosí",
          "Sinaloa",
          "Sonora",
          "Tabasco",
          "Tamaulipas",
          "Tlaxcala",
          "Veracruz de Ignacio de la Llave",
          "Yucatán",
          "Zacatecas"
         ],
         "y": [
          181,
          97,
          67,
          70,
          273,
          50,
          200,
          541,
          450,
          115,
          501,
          50,
          132,
          655,
          832,
          376,
          106,
          91,
          351,
          214,
          336,
          200,
          176,
          258,
          112,
          304,
          116,
          164,
          52,
          289,
          243,
          126
         ]
        }
       ],
       "layout": {
        "height": 700,
        "template": {
         "data": {
          "bar": [
           {
            "error_x": {
             "color": "#2a3f5f"
            },
            "error_y": {
             "color": "#2a3f5f"
            },
            "marker": {
             "line": {
              "color": "#E5ECF6",
              "width": 0.5
             },
             "pattern": {
              "fillmode": "overlay",
              "size": 10,
              "solidity": 0.2
             }
            },
            "type": "bar"
           }
          ],
          "barpolar": [
           {
            "marker": {
             "line": {
              "color": "#E5ECF6",
              "width": 0.5
             },
             "pattern": {
              "fillmode": "overlay",
              "size": 10,
              "solidity": 0.2
             }
            },
            "type": "barpolar"
           }
          ],
          "carpet": [
           {
            "aaxis": {
             "endlinecolor": "#2a3f5f",
             "gridcolor": "white",
             "linecolor": "white",
             "minorgridcolor": "white",
             "startlinecolor": "#2a3f5f"
            },
            "baxis": {
             "endlinecolor": "#2a3f5f",
             "gridcolor": "white",
             "linecolor": "white",
             "minorgridcolor": "white",
             "startlinecolor": "#2a3f5f"
            },
            "type": "carpet"
           }
          ],
          "choropleth": [
           {
            "colorbar": {
             "outlinewidth": 0,
             "ticks": ""
            },
            "type": "choropleth"
           }
          ],
          "contour": [
           {
            "colorbar": {
             "outlinewidth": 0,
             "ticks": ""
            },
            "colorscale": [
             [
              0,
              "#0d0887"
             ],
             [
              0.1111111111111111,
              "#46039f"
             ],
             [
              0.2222222222222222,
              "#7201a8"
             ],
             [
              0.3333333333333333,
              "#9c179e"
             ],
             [
              0.4444444444444444,
              "#bd3786"
             ],
             [
              0.5555555555555556,
              "#d8576b"
             ],
             [
              0.6666666666666666,
              "#ed7953"
             ],
             [
              0.7777777777777778,
              "#fb9f3a"
             ],
             [
              0.8888888888888888,
              "#fdca26"
             ],
             [
              1,
              "#f0f921"
             ]
            ],
            "type": "contour"
           }
          ],
          "contourcarpet": [
           {
            "colorbar": {
             "outlinewidth": 0,
             "ticks": ""
            },
            "type": "contourcarpet"
           }
          ],
          "heatmap": [
           {
            "colorbar": {
             "outlinewidth": 0,
             "ticks": ""
            },
            "colorscale": [
             [
              0,
              "#0d0887"
             ],
             [
              0.1111111111111111,
              "#46039f"
             ],
             [
              0.2222222222222222,
              "#7201a8"
             ],
             [
              0.3333333333333333,
              "#9c179e"
             ],
             [
              0.4444444444444444,
              "#bd3786"
             ],
             [
              0.5555555555555556,
              "#d8576b"
             ],
             [
              0.6666666666666666,
              "#ed7953"
             ],
             [
              0.7777777777777778,
              "#fb9f3a"
             ],
             [
              0.8888888888888888,
              "#fdca26"
             ],
             [
              1,
              "#f0f921"
             ]
            ],
            "type": "heatmap"
           }
          ],
          "heatmapgl": [
           {
            "colorbar": {
             "outlinewidth": 0,
             "ticks": ""
            },
            "colorscale": [
             [
              0,
              "#0d0887"
             ],
             [
              0.1111111111111111,
              "#46039f"
             ],
             [
              0.2222222222222222,
              "#7201a8"
             ],
             [
              0.3333333333333333,
              "#9c179e"
             ],
             [
              0.4444444444444444,
              "#bd3786"
             ],
             [
              0.5555555555555556,
              "#d8576b"
             ],
             [
              0.6666666666666666,
              "#ed7953"
             ],
             [
              0.7777777777777778,
              "#fb9f3a"
             ],
             [
              0.8888888888888888,
              "#fdca26"
             ],
             [
              1,
              "#f0f921"
             ]
            ],
            "type": "heatmapgl"
           }
          ],
          "histogram": [
           {
            "marker": {
             "pattern": {
              "fillmode": "overlay",
              "size": 10,
              "solidity": 0.2
             }
            },
            "type": "histogram"
           }
          ],
          "histogram2d": [
           {
            "colorbar": {
             "outlinewidth": 0,
             "ticks": ""
            },
            "colorscale": [
             [
              0,
              "#0d0887"
             ],
             [
              0.1111111111111111,
              "#46039f"
             ],
             [
              0.2222222222222222,
              "#7201a8"
             ],
             [
              0.3333333333333333,
              "#9c179e"
             ],
             [
              0.4444444444444444,
              "#bd3786"
             ],
             [
              0.5555555555555556,
              "#d8576b"
             ],
             [
              0.6666666666666666,
              "#ed7953"
             ],
             [
              0.7777777777777778,
              "#fb9f3a"
             ],
             [
              0.8888888888888888,
              "#fdca26"
             ],
             [
              1,
              "#f0f921"
             ]
            ],
            "type": "histogram2d"
           }
          ],
          "histogram2dcontour": [
           {
            "colorbar": {
             "outlinewidth": 0,
             "ticks": ""
            },
            "colorscale": [
             [
              0,
              "#0d0887"
             ],
             [
              0.1111111111111111,
              "#46039f"
             ],
             [
              0.2222222222222222,
              "#7201a8"
             ],
             [
              0.3333333333333333,
              "#9c179e"
             ],
             [
              0.4444444444444444,
              "#bd3786"
             ],
             [
              0.5555555555555556,
              "#d8576b"
             ],
             [
              0.6666666666666666,
              "#ed7953"
             ],
             [
              0.7777777777777778,
              "#fb9f3a"
             ],
             [
              0.8888888888888888,
              "#fdca26"
             ],
             [
              1,
              "#f0f921"
             ]
            ],
            "type": "histogram2dcontour"
           }
          ],
          "mesh3d": [
           {
            "colorbar": {
             "outlinewidth": 0,
             "ticks": ""
            },
            "type": "mesh3d"
           }
          ],
          "parcoords": [
           {
            "line": {
             "colorbar": {
              "outlinewidth": 0,
              "ticks": ""
             }
            },
            "type": "parcoords"
           }
          ],
          "pie": [
           {
            "automargin": true,
            "type": "pie"
           }
          ],
          "scatter": [
           {
            "marker": {
             "colorbar": {
              "outlinewidth": 0,
              "ticks": ""
             }
            },
            "type": "scatter"
           }
          ],
          "scatter3d": [
           {
            "line": {
             "colorbar": {
              "outlinewidth": 0,
              "ticks": ""
             }
            },
            "marker": {
             "colorbar": {
              "outlinewidth": 0,
              "ticks": ""
             }
            },
            "type": "scatter3d"
           }
          ],
          "scattercarpet": [
           {
            "marker": {
             "colorbar": {
              "outlinewidth": 0,
              "ticks": ""
             }
            },
            "type": "scattercarpet"
           }
          ],
          "scattergeo": [
           {
            "marker": {
             "colorbar": {
              "outlinewidth": 0,
              "ticks": ""
             }
            },
            "type": "scattergeo"
           }
          ],
          "scattergl": [
           {
            "marker": {
             "colorbar": {
              "outlinewidth": 0,
              "ticks": ""
             }
            },
            "type": "scattergl"
           }
          ],
          "scattermapbox": [
           {
            "marker": {
             "colorbar": {
              "outlinewidth": 0,
              "ticks": ""
             }
            },
            "type": "scattermapbox"
           }
          ],
          "scatterpolar": [
           {
            "marker": {
             "colorbar": {
              "outlinewidth": 0,
              "ticks": ""
             }
            },
            "type": "scatterpolar"
           }
          ],
          "scatterpolargl": [
           {
            "marker": {
             "colorbar": {
              "outlinewidth": 0,
              "ticks": ""
             }
            },
            "type": "scatterpolargl"
           }
          ],
          "scatterternary": [
           {
            "marker": {
             "colorbar": {
              "outlinewidth": 0,
              "ticks": ""
             }
            },
            "type": "scatterternary"
           }
          ],
          "surface": [
           {
            "colorbar": {
             "outlinewidth": 0,
             "ticks": ""
            },
            "colorscale": [
             [
              0,
              "#0d0887"
             ],
             [
              0.1111111111111111,
              "#46039f"
             ],
             [
              0.2222222222222222,
              "#7201a8"
             ],
             [
              0.3333333333333333,
              "#9c179e"
             ],
             [
              0.4444444444444444,
              "#bd3786"
             ],
             [
              0.5555555555555556,
              "#d8576b"
             ],
             [
              0.6666666666666666,
              "#ed7953"
             ],
             [
              0.7777777777777778,
              "#fb9f3a"
             ],
             [
              0.8888888888888888,
              "#fdca26"
             ],
             [
              1,
              "#f0f921"
             ]
            ],
            "type": "surface"
           }
          ],
          "table": [
           {
            "cells": {
             "fill": {
              "color": "#EBF0F8"
             },
             "line": {
              "color": "white"
             }
            },
            "header": {
             "fill": {
              "color": "#C8D4E3"
             },
             "line": {
              "color": "white"
             }
            },
            "type": "table"
           }
          ]
         },
         "layout": {
          "annotationdefaults": {
           "arrowcolor": "#2a3f5f",
           "arrowhead": 0,
           "arrowwidth": 1
          },
          "autotypenumbers": "strict",
          "coloraxis": {
           "colorbar": {
            "outlinewidth": 0,
            "ticks": ""
           }
          },
          "colorscale": {
           "diverging": [
            [
             0,
             "#8e0152"
            ],
            [
             0.1,
             "#c51b7d"
            ],
            [
             0.2,
             "#de77ae"
            ],
            [
             0.3,
             "#f1b6da"
            ],
            [
             0.4,
             "#fde0ef"
            ],
            [
             0.5,
             "#f7f7f7"
            ],
            [
             0.6,
             "#e6f5d0"
            ],
            [
             0.7,
             "#b8e186"
            ],
            [
             0.8,
             "#7fbc41"
            ],
            [
             0.9,
             "#4d9221"
            ],
            [
             1,
             "#276419"
            ]
           ],
           "sequential": [
            [
             0,
             "#0d0887"
            ],
            [
             0.1111111111111111,
             "#46039f"
            ],
            [
             0.2222222222222222,
             "#7201a8"
            ],
            [
             0.3333333333333333,
             "#9c179e"
            ],
            [
             0.4444444444444444,
             "#bd3786"
            ],
            [
             0.5555555555555556,
             "#d8576b"
            ],
            [
             0.6666666666666666,
             "#ed7953"
            ],
            [
             0.7777777777777778,
             "#fb9f3a"
            ],
            [
             0.8888888888888888,
             "#fdca26"
            ],
            [
             1,
             "#f0f921"
            ]
           ],
           "sequentialminus": [
            [
             0,
             "#0d0887"
            ],
            [
             0.1111111111111111,
             "#46039f"
            ],
            [
             0.2222222222222222,
             "#7201a8"
            ],
            [
             0.3333333333333333,
             "#9c179e"
            ],
            [
             0.4444444444444444,
             "#bd3786"
            ],
            [
             0.5555555555555556,
             "#d8576b"
            ],
            [
             0.6666666666666666,
             "#ed7953"
            ],
            [
             0.7777777777777778,
             "#fb9f3a"
            ],
            [
             0.8888888888888888,
             "#fdca26"
            ],
            [
             1,
             "#f0f921"
            ]
           ]
          },
          "colorway": [
           "#636efa",
           "#EF553B",
           "#00cc96",
           "#ab63fa",
           "#FFA15A",
           "#19d3f3",
           "#FF6692",
           "#B6E880",
           "#FF97FF",
           "#FECB52"
          ],
          "font": {
           "color": "#2a3f5f"
          },
          "geo": {
           "bgcolor": "white",
           "lakecolor": "white",
           "landcolor": "#E5ECF6",
           "showlakes": true,
           "showland": true,
           "subunitcolor": "white"
          },
          "hoverlabel": {
           "align": "left"
          },
          "hovermode": "closest",
          "mapbox": {
           "style": "light"
          },
          "paper_bgcolor": "white",
          "plot_bgcolor": "#E5ECF6",
          "polar": {
           "angularaxis": {
            "gridcolor": "white",
            "linecolor": "white",
            "ticks": ""
           },
           "bgcolor": "#E5ECF6",
           "radialaxis": {
            "gridcolor": "white",
            "linecolor": "white",
            "ticks": ""
           }
          },
          "scene": {
           "xaxis": {
            "backgroundcolor": "#E5ECF6",
            "gridcolor": "white",
            "gridwidth": 2,
            "linecolor": "white",
            "showbackground": true,
            "ticks": "",
            "zerolinecolor": "white"
           },
           "yaxis": {
            "backgroundcolor": "#E5ECF6",
            "gridcolor": "white",
            "gridwidth": 2,
            "linecolor": "white",
            "showbackground": true,
            "ticks": "",
            "zerolinecolor": "white"
           },
           "zaxis": {
            "backgroundcolor": "#E5ECF6",
            "gridcolor": "white",
            "gridwidth": 2,
            "linecolor": "white",
            "showbackground": true,
            "ticks": "",
            "zerolinecolor": "white"
           }
          },
          "shapedefaults": {
           "line": {
            "color": "#2a3f5f"
           }
          },
          "ternary": {
           "aaxis": {
            "gridcolor": "white",
            "linecolor": "white",
            "ticks": ""
           },
           "baxis": {
            "gridcolor": "white",
            "linecolor": "white",
            "ticks": ""
           },
           "bgcolor": "#E5ECF6",
           "caxis": {
            "gridcolor": "white",
            "linecolor": "white",
            "ticks": ""
           }
          },
          "title": {
           "x": 0.05
          },
          "xaxis": {
           "automargin": true,
           "gridcolor": "white",
           "linecolor": "white",
           "ticks": "",
           "title": {
            "standoff": 15
           },
           "zerolinecolor": "white",
           "zerolinewidth": 2
          },
          "yaxis": {
           "automargin": true,
           "gridcolor": "white",
           "linecolor": "white",
           "ticks": "",
           "title": {
            "standoff": 15
           },
           "zerolinecolor": "white",
           "zerolinewidth": 2
          }
         }
        },
        "title": {
         "text": "Figure 2. Total Suicides per entity"
        },
        "xaxis": {
         "title": {
          "text": "Entity"
         }
        },
        "yaxis": {
         "title": {
          "text": "Count"
         }
        }
       }
      }
     },
     "metadata": {}
    }
   ],
   "metadata": {}
  },
  {
   "cell_type": "code",
   "execution_count": 71,
   "source": [
    "fig = go.Figure()\r\n",
    "\r\n",
    "traces = ['Tasa_2020','Tasa_H_2020','Tasa_M_2020']\r\n",
    "names = ['Total', 'Hombres', 'Mujeres']\r\n",
    "names_en = ['Total','Men','Women']\r\n",
    "\r\n",
    "for trace,name,name_en in zip(traces,names,names_en):\r\n",
    "    fig.add_trace(go.Scatter(x=df.Entidad, y=df[trace],\r\n",
    "                            textposition='top center',\r\n",
    "                            mode='lines+markers',\r\n",
    "                            name=name_en,\r\n",
    "                            #hovertemplate=\r\n",
    "                            #'<b>Year</b>: %{x}<br>',\r\n",
    "                            ))\r\n",
    "\r\n",
    "fig.update_layout(title='Figure 4. Suicides for every 100k inhabitants in 2020',\r\n",
    "                   xaxis_title='Entity',\r\n",
    "                   yaxis_title='Count',\r\n",
    "                   height=600)\r\n",
    "\r\n",
    "fig.add_annotation(\r\n",
    "        x='Yucatán',\r\n",
    "        y=16,\r\n",
    "        xref=\"x\",\r\n",
    "        yref=\"y\",\r\n",
    "        text=\"4th Place\",\r\n",
    "        showarrow=True,\r\n",
    "        font=dict(\r\n",
    "            family=\"Courier New, monospace\",\r\n",
    "            size=16,\r\n",
    "            color=\"#ffffff\"\r\n",
    "            ),\r\n",
    "        align=\"center\",\r\n",
    "        arrowhead=2,\r\n",
    "        arrowsize=1,\r\n",
    "        arrowwidth=2,\r\n",
    "        arrowcolor=\"#636363\",\r\n",
    "        ax=65,\r\n",
    "        ay=-30,\r\n",
    "        bordercolor=\"#c7c7c7\",\r\n",
    "        borderwidth=2,\r\n",
    "        borderpad=4,\r\n",
    "        bgcolor=\"Red\",\r\n",
    "        opacity=0.6\r\n",
    "        )\r\n",
    "\r\n",
    "fig.add_annotation(\r\n",
    "        x='Yucatán',\r\n",
    "        y=10,\r\n",
    "        xref=\"x\",\r\n",
    "        yref=\"y\",\r\n",
    "        text=\"3rd Place\",\r\n",
    "        showarrow=True,\r\n",
    "        font=dict(\r\n",
    "            family=\"Courier New, monospace\",\r\n",
    "            size=16,\r\n",
    "            color=\"#ffffff\"\r\n",
    "            ),\r\n",
    "        align=\"center\",\r\n",
    "        arrowhead=2,\r\n",
    "        arrowsize=1,\r\n",
    "        arrowwidth=2,\r\n",
    "        arrowcolor=\"#636363\",\r\n",
    "        ax=65,\r\n",
    "        ay=-30,\r\n",
    "        bordercolor=\"#c7c7c7\",\r\n",
    "        borderwidth=2,\r\n",
    "        borderpad=4,\r\n",
    "        bgcolor=\"Blue\",\r\n",
    "        opacity=0.6\r\n",
    "        )\r\n",
    "\r\n",
    "fig.add_annotation(\r\n",
    "        x='Yucatán',\r\n",
    "        y=5,\r\n",
    "        xref=\"x\",\r\n",
    "        yref=\"y\",\r\n",
    "        text=\"1st Place\",\r\n",
    "        showarrow=True,\r\n",
    "        font=dict(\r\n",
    "            family=\"Courier New, monospace\",\r\n",
    "            size=16,\r\n",
    "            color=\"#ffffff\"\r\n",
    "            ),\r\n",
    "        align=\"center\",\r\n",
    "        arrowhead=2,\r\n",
    "        arrowsize=1,\r\n",
    "        arrowwidth=2,\r\n",
    "        arrowcolor=\"#636363\",\r\n",
    "        ax=65,\r\n",
    "        ay=-20,\r\n",
    "        bordercolor=\"#c7c7c7\",\r\n",
    "        borderwidth=2,\r\n",
    "        borderpad=4,\r\n",
    "        bgcolor=\"Green\",\r\n",
    "        opacity=0.6\r\n",
    "        )\r\n",
    "\r\n",
    "fig.add_vline(x='Yucatán', line_width=0.8, line_dash=\"dash\", line_color=\"red\", y1=24.5)\r\n",
    "#print(fig.data[0].hovertemplate)\r\n",
    "#pio.write_html(fig, file='suicidios_100k_entity.html', include_plotlyjs='cdn', full_html=False)\r\n",
    "fig.show()"
   ],
   "outputs": [
    {
     "output_type": "display_data",
     "data": {
      "application/vnd.plotly.v1+json": {
       "config": {
        "plotlyServerURL": "https://plot.ly"
       },
       "data": [
        {
         "mode": "lines+markers",
         "name": "Total",
         "textposition": "top center",
         "type": "scatter",
         "x": [
          "Aguascalientes",
          "Baja California",
          "Baja California Sur",
          "Campeche",
          "Coahuila de Zaragoza",
          "Colima",
          "Chiapas",
          "Chihuahua",
          "Ciudad de México",
          "Durango",
          "Guanajuato",
          "Guerrero",
          "Hidalgo",
          "Jalisco",
          "México",
          "Michoacán de Ocampo",
          "Morelos",
          "Nayarit",
          "Nuevo León",
          "Oaxaca",
          "Puebla",
          "Querétaro",
          "Quintana Roo",
          "San Luis Potosí",
          "Sinaloa",
          "Sonora",
          "Tabasco",
          "Tamaulipas",
          "Tlaxcala",
          "Veracruz de Ignacio de la Llave",
          "Yucatán",
          "Zacatecas"
         ],
         "y": [
          13,
          3,
          8,
          8,
          9,
          7,
          4,
          14,
          5,
          6,
          8,
          1,
          4,
          8,
          5,
          8,
          5,
          7,
          6,
          5,
          5,
          8,
          9,
          9,
          4,
          10,
          5,
          5,
          4,
          4,
          10,
          8
         ]
        },
        {
         "mode": "lines+markers",
         "name": "Men",
         "textposition": "top center",
         "type": "scatter",
         "x": [
          "Aguascalientes",
          "Baja California",
          "Baja California Sur",
          "Campeche",
          "Coahuila de Zaragoza",
          "Colima",
          "Chiapas",
          "Chihuahua",
          "Ciudad de México",
          "Durango",
          "Guanajuato",
          "Guerrero",
          "Hidalgo",
          "Jalisco",
          "México",
          "Michoacán de Ocampo",
          "Morelos",
          "Nayarit",
          "Nuevo León",
          "Oaxaca",
          "Puebla",
          "Querétaro",
          "Quintana Roo",
          "San Luis Potosí",
          "Sinaloa",
          "Sonora",
          "Tabasco",
          "Tamaulipas",
          "Tlaxcala",
          "Veracruz de Ignacio de la Llave",
          "Yucatán",
          "Zacatecas"
         ],
         "y": [
          23,
          5,
          15,
          11,
          15,
          11,
          6,
          23,
          8,
          10,
          14,
          2,
          7,
          14,
          8,
          13,
          9,
          12,
          10,
          9,
          8,
          15,
          14,
          16,
          7,
          18,
          7,
          8,
          7,
          6,
          16,
          14
         ]
        },
        {
         "mode": "lines+markers",
         "name": "Women",
         "textposition": "top center",
         "type": "scatter",
         "x": [
          "Aguascalientes",
          "Baja California",
          "Baja California Sur",
          "Campeche",
          "Coahuila de Zaragoza",
          "Colima",
          "Chiapas",
          "Chihuahua",
          "Ciudad de México",
          "Durango",
          "Guanajuato",
          "Guerrero",
          "Hidalgo",
          "Jalisco",
          "México",
          "Michoacán de Ocampo",
          "Morelos",
          "Nayarit",
          "Nuevo León",
          "Oaxaca",
          "Puebla",
          "Querétaro",
          "Quintana Roo",
          "San Luis Potosí",
          "Sinaloa",
          "Sonora",
          "Tabasco",
          "Tamaulipas",
          "Tlaxcala",
          "Veracruz de Ignacio de la Llave",
          "Yucatán",
          "Zacatecas"
         ],
         "y": [
          3,
          1,
          2,
          5,
          2,
          3,
          1,
          5,
          2,
          3,
          3,
          1,
          2,
          2,
          2,
          3,
          2,
          3,
          2,
          2,
          2,
          2,
          4,
          3,
          1,
          3,
          2,
          2,
          1,
          1,
          5,
          2
         ]
        }
       ],
       "layout": {
        "annotations": [
         {
          "align": "center",
          "arrowcolor": "#636363",
          "arrowhead": 2,
          "arrowsize": 1,
          "arrowwidth": 2,
          "ax": 65,
          "ay": -30,
          "bgcolor": "Red",
          "bordercolor": "#c7c7c7",
          "borderpad": 4,
          "borderwidth": 2,
          "font": {
           "color": "#ffffff",
           "family": "Courier New, monospace",
           "size": 16
          },
          "opacity": 0.6,
          "showarrow": true,
          "text": "4th Place",
          "x": "Yucatán",
          "xref": "x",
          "y": 16,
          "yref": "y"
         },
         {
          "align": "center",
          "arrowcolor": "#636363",
          "arrowhead": 2,
          "arrowsize": 1,
          "arrowwidth": 2,
          "ax": 65,
          "ay": -30,
          "bgcolor": "Blue",
          "bordercolor": "#c7c7c7",
          "borderpad": 4,
          "borderwidth": 2,
          "font": {
           "color": "#ffffff",
           "family": "Courier New, monospace",
           "size": 16
          },
          "opacity": 0.6,
          "showarrow": true,
          "text": "3rd Place",
          "x": "Yucatán",
          "xref": "x",
          "y": 10,
          "yref": "y"
         },
         {
          "align": "center",
          "arrowcolor": "#636363",
          "arrowhead": 2,
          "arrowsize": 1,
          "arrowwidth": 2,
          "ax": 65,
          "ay": -20,
          "bgcolor": "Green",
          "bordercolor": "#c7c7c7",
          "borderpad": 4,
          "borderwidth": 2,
          "font": {
           "color": "#ffffff",
           "family": "Courier New, monospace",
           "size": 16
          },
          "opacity": 0.6,
          "showarrow": true,
          "text": "1st Place",
          "x": "Yucatán",
          "xref": "x",
          "y": 5,
          "yref": "y"
         }
        ],
        "height": 600,
        "shapes": [
         {
          "line": {
           "color": "red",
           "dash": "dash",
           "width": 0.8
          },
          "type": "line",
          "x0": "Yucatán",
          "x1": "Yucatán",
          "xref": "x",
          "y0": 0,
          "y1": 24.5,
          "yref": "y domain"
         }
        ],
        "template": {
         "data": {
          "bar": [
           {
            "error_x": {
             "color": "#2a3f5f"
            },
            "error_y": {
             "color": "#2a3f5f"
            },
            "marker": {
             "line": {
              "color": "#E5ECF6",
              "width": 0.5
             },
             "pattern": {
              "fillmode": "overlay",
              "size": 10,
              "solidity": 0.2
             }
            },
            "type": "bar"
           }
          ],
          "barpolar": [
           {
            "marker": {
             "line": {
              "color": "#E5ECF6",
              "width": 0.5
             },
             "pattern": {
              "fillmode": "overlay",
              "size": 10,
              "solidity": 0.2
             }
            },
            "type": "barpolar"
           }
          ],
          "carpet": [
           {
            "aaxis": {
             "endlinecolor": "#2a3f5f",
             "gridcolor": "white",
             "linecolor": "white",
             "minorgridcolor": "white",
             "startlinecolor": "#2a3f5f"
            },
            "baxis": {
             "endlinecolor": "#2a3f5f",
             "gridcolor": "white",
             "linecolor": "white",
             "minorgridcolor": "white",
             "startlinecolor": "#2a3f5f"
            },
            "type": "carpet"
           }
          ],
          "choropleth": [
           {
            "colorbar": {
             "outlinewidth": 0,
             "ticks": ""
            },
            "type": "choropleth"
           }
          ],
          "contour": [
           {
            "colorbar": {
             "outlinewidth": 0,
             "ticks": ""
            },
            "colorscale": [
             [
              0,
              "#0d0887"
             ],
             [
              0.1111111111111111,
              "#46039f"
             ],
             [
              0.2222222222222222,
              "#7201a8"
             ],
             [
              0.3333333333333333,
              "#9c179e"
             ],
             [
              0.4444444444444444,
              "#bd3786"
             ],
             [
              0.5555555555555556,
              "#d8576b"
             ],
             [
              0.6666666666666666,
              "#ed7953"
             ],
             [
              0.7777777777777778,
              "#fb9f3a"
             ],
             [
              0.8888888888888888,
              "#fdca26"
             ],
             [
              1,
              "#f0f921"
             ]
            ],
            "type": "contour"
           }
          ],
          "contourcarpet": [
           {
            "colorbar": {
             "outlinewidth": 0,
             "ticks": ""
            },
            "type": "contourcarpet"
           }
          ],
          "heatmap": [
           {
            "colorbar": {
             "outlinewidth": 0,
             "ticks": ""
            },
            "colorscale": [
             [
              0,
              "#0d0887"
             ],
             [
              0.1111111111111111,
              "#46039f"
             ],
             [
              0.2222222222222222,
              "#7201a8"
             ],
             [
              0.3333333333333333,
              "#9c179e"
             ],
             [
              0.4444444444444444,
              "#bd3786"
             ],
             [
              0.5555555555555556,
              "#d8576b"
             ],
             [
              0.6666666666666666,
              "#ed7953"
             ],
             [
              0.7777777777777778,
              "#fb9f3a"
             ],
             [
              0.8888888888888888,
              "#fdca26"
             ],
             [
              1,
              "#f0f921"
             ]
            ],
            "type": "heatmap"
           }
          ],
          "heatmapgl": [
           {
            "colorbar": {
             "outlinewidth": 0,
             "ticks": ""
            },
            "colorscale": [
             [
              0,
              "#0d0887"
             ],
             [
              0.1111111111111111,
              "#46039f"
             ],
             [
              0.2222222222222222,
              "#7201a8"
             ],
             [
              0.3333333333333333,
              "#9c179e"
             ],
             [
              0.4444444444444444,
              "#bd3786"
             ],
             [
              0.5555555555555556,
              "#d8576b"
             ],
             [
              0.6666666666666666,
              "#ed7953"
             ],
             [
              0.7777777777777778,
              "#fb9f3a"
             ],
             [
              0.8888888888888888,
              "#fdca26"
             ],
             [
              1,
              "#f0f921"
             ]
            ],
            "type": "heatmapgl"
           }
          ],
          "histogram": [
           {
            "marker": {
             "pattern": {
              "fillmode": "overlay",
              "size": 10,
              "solidity": 0.2
             }
            },
            "type": "histogram"
           }
          ],
          "histogram2d": [
           {
            "colorbar": {
             "outlinewidth": 0,
             "ticks": ""
            },
            "colorscale": [
             [
              0,
              "#0d0887"
             ],
             [
              0.1111111111111111,
              "#46039f"
             ],
             [
              0.2222222222222222,
              "#7201a8"
             ],
             [
              0.3333333333333333,
              "#9c179e"
             ],
             [
              0.4444444444444444,
              "#bd3786"
             ],
             [
              0.5555555555555556,
              "#d8576b"
             ],
             [
              0.6666666666666666,
              "#ed7953"
             ],
             [
              0.7777777777777778,
              "#fb9f3a"
             ],
             [
              0.8888888888888888,
              "#fdca26"
             ],
             [
              1,
              "#f0f921"
             ]
            ],
            "type": "histogram2d"
           }
          ],
          "histogram2dcontour": [
           {
            "colorbar": {
             "outlinewidth": 0,
             "ticks": ""
            },
            "colorscale": [
             [
              0,
              "#0d0887"
             ],
             [
              0.1111111111111111,
              "#46039f"
             ],
             [
              0.2222222222222222,
              "#7201a8"
             ],
             [
              0.3333333333333333,
              "#9c179e"
             ],
             [
              0.4444444444444444,
              "#bd3786"
             ],
             [
              0.5555555555555556,
              "#d8576b"
             ],
             [
              0.6666666666666666,
              "#ed7953"
             ],
             [
              0.7777777777777778,
              "#fb9f3a"
             ],
             [
              0.8888888888888888,
              "#fdca26"
             ],
             [
              1,
              "#f0f921"
             ]
            ],
            "type": "histogram2dcontour"
           }
          ],
          "mesh3d": [
           {
            "colorbar": {
             "outlinewidth": 0,
             "ticks": ""
            },
            "type": "mesh3d"
           }
          ],
          "parcoords": [
           {
            "line": {
             "colorbar": {
              "outlinewidth": 0,
              "ticks": ""
             }
            },
            "type": "parcoords"
           }
          ],
          "pie": [
           {
            "automargin": true,
            "type": "pie"
           }
          ],
          "scatter": [
           {
            "marker": {
             "colorbar": {
              "outlinewidth": 0,
              "ticks": ""
             }
            },
            "type": "scatter"
           }
          ],
          "scatter3d": [
           {
            "line": {
             "colorbar": {
              "outlinewidth": 0,
              "ticks": ""
             }
            },
            "marker": {
             "colorbar": {
              "outlinewidth": 0,
              "ticks": ""
             }
            },
            "type": "scatter3d"
           }
          ],
          "scattercarpet": [
           {
            "marker": {
             "colorbar": {
              "outlinewidth": 0,
              "ticks": ""
             }
            },
            "type": "scattercarpet"
           }
          ],
          "scattergeo": [
           {
            "marker": {
             "colorbar": {
              "outlinewidth": 0,
              "ticks": ""
             }
            },
            "type": "scattergeo"
           }
          ],
          "scattergl": [
           {
            "marker": {
             "colorbar": {
              "outlinewidth": 0,
              "ticks": ""
             }
            },
            "type": "scattergl"
           }
          ],
          "scattermapbox": [
           {
            "marker": {
             "colorbar": {
              "outlinewidth": 0,
              "ticks": ""
             }
            },
            "type": "scattermapbox"
           }
          ],
          "scatterpolar": [
           {
            "marker": {
             "colorbar": {
              "outlinewidth": 0,
              "ticks": ""
             }
            },
            "type": "scatterpolar"
           }
          ],
          "scatterpolargl": [
           {
            "marker": {
             "colorbar": {
              "outlinewidth": 0,
              "ticks": ""
             }
            },
            "type": "scatterpolargl"
           }
          ],
          "scatterternary": [
           {
            "marker": {
             "colorbar": {
              "outlinewidth": 0,
              "ticks": ""
             }
            },
            "type": "scatterternary"
           }
          ],
          "surface": [
           {
            "colorbar": {
             "outlinewidth": 0,
             "ticks": ""
            },
            "colorscale": [
             [
              0,
              "#0d0887"
             ],
             [
              0.1111111111111111,
              "#46039f"
             ],
             [
              0.2222222222222222,
              "#7201a8"
             ],
             [
              0.3333333333333333,
              "#9c179e"
             ],
             [
              0.4444444444444444,
              "#bd3786"
             ],
             [
              0.5555555555555556,
              "#d8576b"
             ],
             [
              0.6666666666666666,
              "#ed7953"
             ],
             [
              0.7777777777777778,
              "#fb9f3a"
             ],
             [
              0.8888888888888888,
              "#fdca26"
             ],
             [
              1,
              "#f0f921"
             ]
            ],
            "type": "surface"
           }
          ],
          "table": [
           {
            "cells": {
             "fill": {
              "color": "#EBF0F8"
             },
             "line": {
              "color": "white"
             }
            },
            "header": {
             "fill": {
              "color": "#C8D4E3"
             },
             "line": {
              "color": "white"
             }
            },
            "type": "table"
           }
          ]
         },
         "layout": {
          "annotationdefaults": {
           "arrowcolor": "#2a3f5f",
           "arrowhead": 0,
           "arrowwidth": 1
          },
          "autotypenumbers": "strict",
          "coloraxis": {
           "colorbar": {
            "outlinewidth": 0,
            "ticks": ""
           }
          },
          "colorscale": {
           "diverging": [
            [
             0,
             "#8e0152"
            ],
            [
             0.1,
             "#c51b7d"
            ],
            [
             0.2,
             "#de77ae"
            ],
            [
             0.3,
             "#f1b6da"
            ],
            [
             0.4,
             "#fde0ef"
            ],
            [
             0.5,
             "#f7f7f7"
            ],
            [
             0.6,
             "#e6f5d0"
            ],
            [
             0.7,
             "#b8e186"
            ],
            [
             0.8,
             "#7fbc41"
            ],
            [
             0.9,
             "#4d9221"
            ],
            [
             1,
             "#276419"
            ]
           ],
           "sequential": [
            [
             0,
             "#0d0887"
            ],
            [
             0.1111111111111111,
             "#46039f"
            ],
            [
             0.2222222222222222,
             "#7201a8"
            ],
            [
             0.3333333333333333,
             "#9c179e"
            ],
            [
             0.4444444444444444,
             "#bd3786"
            ],
            [
             0.5555555555555556,
             "#d8576b"
            ],
            [
             0.6666666666666666,
             "#ed7953"
            ],
            [
             0.7777777777777778,
             "#fb9f3a"
            ],
            [
             0.8888888888888888,
             "#fdca26"
            ],
            [
             1,
             "#f0f921"
            ]
           ],
           "sequentialminus": [
            [
             0,
             "#0d0887"
            ],
            [
             0.1111111111111111,
             "#46039f"
            ],
            [
             0.2222222222222222,
             "#7201a8"
            ],
            [
             0.3333333333333333,
             "#9c179e"
            ],
            [
             0.4444444444444444,
             "#bd3786"
            ],
            [
             0.5555555555555556,
             "#d8576b"
            ],
            [
             0.6666666666666666,
             "#ed7953"
            ],
            [
             0.7777777777777778,
             "#fb9f3a"
            ],
            [
             0.8888888888888888,
             "#fdca26"
            ],
            [
             1,
             "#f0f921"
            ]
           ]
          },
          "colorway": [
           "#636efa",
           "#EF553B",
           "#00cc96",
           "#ab63fa",
           "#FFA15A",
           "#19d3f3",
           "#FF6692",
           "#B6E880",
           "#FF97FF",
           "#FECB52"
          ],
          "font": {
           "color": "#2a3f5f"
          },
          "geo": {
           "bgcolor": "white",
           "lakecolor": "white",
           "landcolor": "#E5ECF6",
           "showlakes": true,
           "showland": true,
           "subunitcolor": "white"
          },
          "hoverlabel": {
           "align": "left"
          },
          "hovermode": "closest",
          "mapbox": {
           "style": "light"
          },
          "paper_bgcolor": "white",
          "plot_bgcolor": "#E5ECF6",
          "polar": {
           "angularaxis": {
            "gridcolor": "white",
            "linecolor": "white",
            "ticks": ""
           },
           "bgcolor": "#E5ECF6",
           "radialaxis": {
            "gridcolor": "white",
            "linecolor": "white",
            "ticks": ""
           }
          },
          "scene": {
           "xaxis": {
            "backgroundcolor": "#E5ECF6",
            "gridcolor": "white",
            "gridwidth": 2,
            "linecolor": "white",
            "showbackground": true,
            "ticks": "",
            "zerolinecolor": "white"
           },
           "yaxis": {
            "backgroundcolor": "#E5ECF6",
            "gridcolor": "white",
            "gridwidth": 2,
            "linecolor": "white",
            "showbackground": true,
            "ticks": "",
            "zerolinecolor": "white"
           },
           "zaxis": {
            "backgroundcolor": "#E5ECF6",
            "gridcolor": "white",
            "gridwidth": 2,
            "linecolor": "white",
            "showbackground": true,
            "ticks": "",
            "zerolinecolor": "white"
           }
          },
          "shapedefaults": {
           "line": {
            "color": "#2a3f5f"
           }
          },
          "ternary": {
           "aaxis": {
            "gridcolor": "white",
            "linecolor": "white",
            "ticks": ""
           },
           "baxis": {
            "gridcolor": "white",
            "linecolor": "white",
            "ticks": ""
           },
           "bgcolor": "#E5ECF6",
           "caxis": {
            "gridcolor": "white",
            "linecolor": "white",
            "ticks": ""
           }
          },
          "title": {
           "x": 0.05
          },
          "xaxis": {
           "automargin": true,
           "gridcolor": "white",
           "linecolor": "white",
           "ticks": "",
           "title": {
            "standoff": 15
           },
           "zerolinecolor": "white",
           "zerolinewidth": 2
          },
          "yaxis": {
           "automargin": true,
           "gridcolor": "white",
           "linecolor": "white",
           "ticks": "",
           "title": {
            "standoff": 15
           },
           "zerolinecolor": "white",
           "zerolinewidth": 2
          }
         }
        },
        "title": {
         "text": "Figure 4. Suicides for every 100k inhabitants in 2020"
        },
        "xaxis": {
         "title": {
          "text": "Entity"
         }
        },
        "yaxis": {
         "title": {
          "text": "Count"
         }
        }
       }
      }
     },
     "metadata": {}
    }
   ],
   "metadata": {}
  },
  {
   "cell_type": "markdown",
   "source": [
    "## Chloropeth Map"
   ],
   "metadata": {}
  },
  {
   "cell_type": "code",
   "execution_count": 72,
   "source": [
    "from mapsmx import MapsMX\r\n",
    "import geopandas\r\n",
    "import json\r\n",
    "import pyproj"
   ],
   "outputs": [],
   "metadata": {}
  },
  {
   "cell_type": "code",
   "execution_count": 73,
   "source": [
    "state = MapsMX().get_geo('state')\r\n",
    "state.head()"
   ],
   "outputs": [
    {
     "output_type": "execute_result",
     "data": {
      "text/html": [
       "<div>\n",
       "<style scoped>\n",
       "    .dataframe tbody tr th:only-of-type {\n",
       "        vertical-align: middle;\n",
       "    }\n",
       "\n",
       "    .dataframe tbody tr th {\n",
       "        vertical-align: top;\n",
       "    }\n",
       "\n",
       "    .dataframe thead th {\n",
       "        text-align: right;\n",
       "    }\n",
       "</style>\n",
       "<table border=\"1\" class=\"dataframe\">\n",
       "  <thead>\n",
       "    <tr style=\"text-align: right;\">\n",
       "      <th></th>\n",
       "      <th>cve_geo_ent</th>\n",
       "      <th>cve_ent</th>\n",
       "      <th>nom_ent</th>\n",
       "      <th>geometry_ent</th>\n",
       "    </tr>\n",
       "  </thead>\n",
       "  <tbody>\n",
       "    <tr>\n",
       "      <th>0</th>\n",
       "      <td>01</td>\n",
       "      <td>01</td>\n",
       "      <td>Aguascalientes</td>\n",
       "      <td>POLYGON ((2470517.824 1155028.588, 2470552.248...</td>\n",
       "    </tr>\n",
       "    <tr>\n",
       "      <th>1</th>\n",
       "      <td>02</td>\n",
       "      <td>02</td>\n",
       "      <td>Baja California</td>\n",
       "      <td>MULTIPOLYGON (((1493197.166 1849625.247, 14934...</td>\n",
       "    </tr>\n",
       "    <tr>\n",
       "      <th>2</th>\n",
       "      <td>03</td>\n",
       "      <td>03</td>\n",
       "      <td>Baja California Sur</td>\n",
       "      <td>MULTIPOLYGON (((1694656.344 1227647.637, 16946...</td>\n",
       "    </tr>\n",
       "    <tr>\n",
       "      <th>3</th>\n",
       "      <td>04</td>\n",
       "      <td>04</td>\n",
       "      <td>Campeche</td>\n",
       "      <td>MULTIPOLYGON (((3544897.199 946994.621, 354491...</td>\n",
       "    </tr>\n",
       "    <tr>\n",
       "      <th>4</th>\n",
       "      <td>05</td>\n",
       "      <td>05</td>\n",
       "      <td>Coahuila de Zaragoza</td>\n",
       "      <td>POLYGON ((2469954.193 1978522.993, 2469982.807...</td>\n",
       "    </tr>\n",
       "  </tbody>\n",
       "</table>\n",
       "</div>"
      ],
      "text/plain": [
       "  cve_geo_ent cve_ent               nom_ent  \\\n",
       "0          01      01        Aguascalientes   \n",
       "1          02      02       Baja California   \n",
       "2          03      03   Baja California Sur   \n",
       "3          04      04              Campeche   \n",
       "4          05      05  Coahuila de Zaragoza   \n",
       "\n",
       "                                        geometry_ent  \n",
       "0  POLYGON ((2470517.824 1155028.588, 2470552.248...  \n",
       "1  MULTIPOLYGON (((1493197.166 1849625.247, 14934...  \n",
       "2  MULTIPOLYGON (((1694656.344 1227647.637, 16946...  \n",
       "3  MULTIPOLYGON (((3544897.199 946994.621, 354491...  \n",
       "4  POLYGON ((2469954.193 1978522.993, 2469982.807...  "
      ]
     },
     "metadata": {},
     "execution_count": 73
    }
   ],
   "metadata": {}
  },
  {
   "cell_type": "code",
   "execution_count": 74,
   "source": [
    "df = pd.DataFrame(df.merge(state,left_on='Entidad',right_on='nom_ent',how='left'))\r\n",
    "gdf = geopandas.GeoDataFrame(df, geometry='geometry_ent')\r\n",
    "gdf = gdf.set_index('Entidad')"
   ],
   "outputs": [],
   "metadata": {}
  },
  {
   "cell_type": "code",
   "execution_count": 75,
   "source": [
    "gdf[['2020_Total','Total','Tasa_2020','Tasa_H_2020','Tasa_M_2020']].head() #select columns to map (focus on 2020)"
   ],
   "outputs": [
    {
     "output_type": "execute_result",
     "data": {
      "text/html": [
       "<div>\n",
       "<style scoped>\n",
       "    .dataframe tbody tr th:only-of-type {\n",
       "        vertical-align: middle;\n",
       "    }\n",
       "\n",
       "    .dataframe tbody tr th {\n",
       "        vertical-align: top;\n",
       "    }\n",
       "\n",
       "    .dataframe thead th {\n",
       "        text-align: right;\n",
       "    }\n",
       "</style>\n",
       "<table border=\"1\" class=\"dataframe\">\n",
       "  <thead>\n",
       "    <tr style=\"text-align: right;\">\n",
       "      <th></th>\n",
       "      <th>2020_Total</th>\n",
       "      <th>Total</th>\n",
       "      <th>Tasa_2020</th>\n",
       "      <th>Tasa_H_2020</th>\n",
       "      <th>Tasa_M_2020</th>\n",
       "    </tr>\n",
       "    <tr>\n",
       "      <th>Entidad</th>\n",
       "      <th></th>\n",
       "      <th></th>\n",
       "      <th></th>\n",
       "      <th></th>\n",
       "      <th></th>\n",
       "    </tr>\n",
       "  </thead>\n",
       "  <tbody>\n",
       "    <tr>\n",
       "      <th>Aguascalientes</th>\n",
       "      <td>181</td>\n",
       "      <td>1425607</td>\n",
       "      <td>13.0</td>\n",
       "      <td>23.0</td>\n",
       "      <td>3.0</td>\n",
       "    </tr>\n",
       "    <tr>\n",
       "      <th>Baja California</th>\n",
       "      <td>97</td>\n",
       "      <td>3769020</td>\n",
       "      <td>3.0</td>\n",
       "      <td>5.0</td>\n",
       "      <td>1.0</td>\n",
       "    </tr>\n",
       "    <tr>\n",
       "      <th>Baja California Sur</th>\n",
       "      <td>67</td>\n",
       "      <td>798447</td>\n",
       "      <td>8.0</td>\n",
       "      <td>15.0</td>\n",
       "      <td>2.0</td>\n",
       "    </tr>\n",
       "    <tr>\n",
       "      <th>Campeche</th>\n",
       "      <td>70</td>\n",
       "      <td>928363</td>\n",
       "      <td>8.0</td>\n",
       "      <td>11.0</td>\n",
       "      <td>5.0</td>\n",
       "    </tr>\n",
       "    <tr>\n",
       "      <th>Coahuila de Zaragoza</th>\n",
       "      <td>273</td>\n",
       "      <td>3146771</td>\n",
       "      <td>9.0</td>\n",
       "      <td>15.0</td>\n",
       "      <td>2.0</td>\n",
       "    </tr>\n",
       "  </tbody>\n",
       "</table>\n",
       "</div>"
      ],
      "text/plain": [
       "                      2020_Total    Total  Tasa_2020  Tasa_H_2020  Tasa_M_2020\n",
       "Entidad                                                                       \n",
       "Aguascalientes               181  1425607       13.0         23.0          3.0\n",
       "Baja California               97  3769020        3.0          5.0          1.0\n",
       "Baja California Sur           67   798447        8.0         15.0          2.0\n",
       "Campeche                      70   928363        8.0         11.0          5.0\n",
       "Coahuila de Zaragoza         273  3146771        9.0         15.0          2.0"
      ]
     },
     "metadata": {},
     "execution_count": 75
    }
   ],
   "metadata": {}
  },
  {
   "cell_type": "code",
   "execution_count": 76,
   "source": [
    "gdf = gdf.rename(columns={'2020_Total':'Total Suicides 2020','Total':'Total Population 2020','Tasa_2020':'Total Suicides for every 100k 2020','Tasa_H_2020':'Men Suicides for every 100k 2020',\r\n",
    "'Tasa_M_2020':'Women Suicides for every 100k 2020'})"
   ],
   "outputs": [],
   "metadata": {}
  },
  {
   "cell_type": "code",
   "execution_count": 77,
   "source": [
    "gdf = gdf.to_crs(pyproj.CRS.from_epsg(4326))"
   ],
   "outputs": [],
   "metadata": {}
  },
  {
   "cell_type": "code",
   "execution_count": 79,
   "source": [
    "\"\"\"# Data\r\n",
    "cols_dd = ['Total Suicides 2020','Total Population 2020','Total Suicides for every 100k 2020','Men Suicides for every 100k 2020','Women Suicides for every 100k 2020']\r\n",
    "# we need to add this to select which trace \r\n",
    "# is going to be visible\r\n",
    "visible = np.array(cols_dd)\r\n",
    "poly_json = json.loads(gdf.geometry_ent.to_json()) #to json\r\n",
    "names = ['Total Suicides','Total Population','Suicides for every 100k', 'Men Suicides', 'Women Suicides']\r\n",
    "# define traces and buttons at once\r\n",
    "traces = []\r\n",
    "buttons = []\r\n",
    "for value,name in zip(cols_dd,names):\r\n",
    "    traces.append(go.Choropleth(\r\n",
    "        geojson=poly_json,\r\n",
    "        locations=gdf.index, # Spatial coordinates\r\n",
    "        z=gdf[value], # Data to be color-coded\r\n",
    "        colorbar_title=name,\r\n",
    "        visible= True if value==cols_dd[4] else False))\r\n",
    "\r\n",
    "    buttons.append(dict(label=value,\r\n",
    "                        method=\"update\",\r\n",
    "                        args=[{\"visible\":list(visible==value)},\r\n",
    "                              {\"title\":f\"Figure 5. {value}\"}]))\r\n",
    "\r\n",
    "updatemenus = [{\"active\":4,\r\n",
    "                \"buttons\":buttons,\r\n",
    "               }]\r\n",
    "\r\n",
    "\r\n",
    "# Show figure\r\n",
    "fig = go.Figure(data=traces,\r\n",
    "                layout=dict(updatemenus=updatemenus))\r\n",
    "# This is in order to get the first title displayed correctly\r\n",
    "first_title = cols_dd[4]\r\n",
    "fig.update_layout(title=f\"Figure 6. {first_title}\",title_x=0.5)\r\n",
    "fig.update_geos(fitbounds=\"locations\", visible=False)\r\n",
    "#pio.write_html(fig, file='suicidios_mapa_inegi.html', include_plotlyjs='cdn', full_html=False)\r\n",
    "fig.show()\"\"\""
   ],
   "outputs": [
    {
     "output_type": "execute_result",
     "data": {
      "text/plain": [
       "'# Data\\ncols_dd = [\\'Total Suicides 2020\\',\\'Total Population 2020\\',\\'Total Suicides for every 100k 2020\\',\\'Men Suicides for every 100k 2020\\',\\'Women Suicides for every 100k 2020\\']\\n# we need to add this to select which trace \\n# is going to be visible\\nvisible = np.array(cols_dd)\\npoly_json = json.loads(gdf.geometry_ent.to_json()) #to json\\nnames = [\\'Total Suicides\\',\\'Total Population\\',\\'Suicides for every 100k\\', \\'Men Suicides\\', \\'Women Suicides\\']\\n# define traces and buttons at once\\ntraces = []\\nbuttons = []\\nfor value,name in zip(cols_dd,names):\\n    traces.append(go.Choropleth(\\n        geojson=poly_json,\\n        locations=gdf.index, # Spatial coordinates\\n        z=gdf[value], # Data to be color-coded\\n        colorbar_title=name,\\n        visible= True if value==cols_dd[4] else False))\\n\\n    buttons.append(dict(label=value,\\n                        method=\"update\",\\n                        args=[{\"visible\":list(visible==value)},\\n                              {\"title\":f\"Figure 5. {value}\"}]))\\n\\nupdatemenus = [{\"active\":4,\\n                \"buttons\":buttons,\\n               }]\\n\\n\\n# Show figure\\nfig = go.Figure(data=traces,\\n                layout=dict(updatemenus=updatemenus))\\n# This is in order to get the first title displayed correctly\\nfirst_title = cols_dd[4]\\nfig.update_layout(title=f\"Figure 6. {first_title}\",title_x=0.5)\\nfig.update_geos(fitbounds=\"locations\", visible=False)\\n#pio.write_html(fig, file=\\'suicidios_mapa_inegi.html\\', include_plotlyjs=\\'cdn\\', full_html=False)\\nfig.show()'"
      ]
     },
     "metadata": {},
     "execution_count": 79
    }
   ],
   "metadata": {}
  }
 ],
 "metadata": {
  "orig_nbformat": 4,
  "language_info": {
   "name": "python",
   "version": "3.8.5",
   "mimetype": "text/x-python",
   "codemirror_mode": {
    "name": "ipython",
    "version": 3
   },
   "pygments_lexer": "ipython3",
   "nbconvert_exporter": "python",
   "file_extension": ".py"
  },
  "kernelspec": {
   "name": "python3",
   "display_name": "Python 3.8.5 64-bit ('base': conda)"
  },
  "interpreter": {
   "hash": "76e3749c4d8f143b85e17554ce3ae58a0fcf4212a15be7e0134aaba6048266e3"
  }
 },
 "nbformat": 4,
 "nbformat_minor": 2
}